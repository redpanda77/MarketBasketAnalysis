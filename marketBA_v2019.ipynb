{
 "cells": [
  {
   "cell_type": "markdown",
   "metadata": {
    "colab_type": "text",
    "id": "kEdObf_dDQSr",
    "slideshow": {
     "slide_type": "slide"
    }
   },
   "source": [
    " #  Welcome to Analytics for Retail and Consumer Goods\n",
    " Introduction"
   ]
  },
  {
   "cell_type": "markdown",
   "metadata": {
    "ExecuteTime": {
     "end_time": "2019-04-27T07:01:31.334390Z",
     "start_time": "2019-04-27T07:01:31.320587Z"
    },
    "slideshow": {
     "slide_type": "slide"
    }
   },
   "source": [
    "\n",
    "## Personal Introduction\n",
    "\n",
    "<br>\n",
    "<font size=\"+3\"><b> Gonzalo Casajus Rey</b></font>\n",
    "\n",
    "<img src=\"photo.jpeg\" style=\"width:300px; height:200px;\">\n",
    "\n",
    "* <font size=\"+2\">Industrial Engineer, MSc Electric Engineering</font>\n",
    "* <font size=\"+2\">Consulting, Engineering, Retail</font>"
   ]
  },
  {
   "cell_type": "markdown",
   "metadata": {
    "ExecuteTime": {
     "end_time": "2019-04-27T07:06:48.090186Z",
     "start_time": "2019-04-27T07:06:48.085603Z"
    },
    "slideshow": {
     "slide_type": "subslide"
    }
   },
   "source": [
    "### Today\n",
    "\n",
    "AI & Platforms Manager @ Carrefour FR in eCommerce One\n",
    "\n",
    "* <font size=\"+2\"> Responsible of AI adoption @ Carrefour.fr </font>\n",
    "* <font size=\"+2\"> Product Manager of Voice and Assisted Shopping @ Carrefour </font>\n",
    "* <font size=\"+2\"> Lead Co-Development of a new Google platform (Partnership) @ Carrefour </font>"
   ]
  },
  {
   "cell_type": "markdown",
   "metadata": {
    "slideshow": {
     "slide_type": "subslide"
    }
   },
   "source": [
    "## Course philosophy and content\n",
    "\n",
    "* Three step process: Understand (the concepts), Build (a model), Deliver (a product).\n",
    "    * Concepts: Important concepts of retail and use cases.\n",
    "    * Building: Review code.\n",
    "    * Delivering: Architecture.\n",
    "* Forum exercises and comments.\n",
    "* An individual project that will start this week.\n",
    "* A group project later on."
   ]
  },
  {
   "cell_type": "markdown",
   "metadata": {
    "slideshow": {
     "slide_type": "slide"
    }
   },
   "source": [
    "# Customer Centricity\n",
    "\n",
    "* Customer centric model: What is it?\n",
    "* How does the Customer Centric Model translate to Retail?\n",
    "* How is it present in ML?\n",
    "* How is it present in Products?"
   ]
  },
  {
   "cell_type": "markdown",
   "metadata": {
    "ExecuteTime": {
     "end_time": "2019-04-24T07:49:02.639807Z",
     "start_time": "2019-04-24T07:49:02.627146Z"
    },
    "slideshow": {
     "slide_type": "subslide"
    }
   },
   "source": [
    "## What does being customer centric mean?\n",
    "\n",
    "* Strategy focused on <b>delivering value to the customer = Solving Problems.</b> \n",
    "    * Solving problems != Making a bad day better.\n",
    "    * Solving problems == Removing friction.\n",
    "* Decisions based on information about customer behaviour. <b>(Not about who the customer is!)</b> \n",
    "* Not only corporate alignment but also the tools, access to the information and the skills.\n",
    "\n",
    "How do you act on this?\n",
    "\n",
    "\n",
    "<img src=\"https://www.superoffice.com/blog/wp-content/uploads/2014/04/What-does-it-mean-to-customer-centric-2016-400x247.png\" style=\"width:1000px; height:600px;\">"
   ]
  },
  {
   "cell_type": "markdown",
   "metadata": {
    "slideshow": {
     "slide_type": "subslide"
    }
   },
   "source": [
    "### Scope\n",
    "<b> Are we talking about decisions when building products? </b>\n",
    "\n",
    "* UX = User Experience\n",
    "* CX = Customer Experience\n",
    "\n",
    "<img src=\"cx.png\" style=\"width:1000px; height:400px;\">"
   ]
  },
  {
   "cell_type": "markdown",
   "metadata": {
    "ExecuteTime": {
     "end_time": "2019-04-26T21:44:08.463803Z",
     "start_time": "2019-04-26T21:44:08.453018Z"
    },
    "slideshow": {
     "slide_type": "subslide"
    }
   },
   "source": [
    "### Scope\n",
    "<b> UX ties into CX through the customer journey </b>\n",
    "<img src=\"https://assets.econsultancy.com/images/0008/5175/cj.png\" style=\"width:800px; height:300px;\">\n",
    "Typical Retail Use Cases. \n",
    "* 1 Targeted ads\n",
    "* 2 Promotions\n",
    "* 3 Recommenders\n",
    "* 4 Churn Analytics"
   ]
  },
  {
   "cell_type": "markdown",
   "metadata": {
    "ExecuteTime": {
     "end_time": "2019-04-27T08:10:13.562209Z",
     "start_time": "2019-04-27T08:10:13.540690Z"
    },
    "slideshow": {
     "slide_type": "subslide"
    }
   },
   "source": [
    "### Scope\n",
    "\n",
    "Customer centric?\n",
    "<img src=\"https://neilpatel-qvjnwj7eutn3.netdna-ssl.com/wp-content/uploads/2018/06/ecommerce-conversion-funnel.png\" style=\"width:300px; height:200px;\">\n",
    "<b> Solve user problems, not company problems!</b>\n",
    "<b> Differing philosphies</b>\n",
    "\n",
    "\n",
    "\n",
    "So Customer Centricity is not about looking at customer data. \n",
    "Customer Centricity is about solving customer problems. "
   ]
  },
  {
   "cell_type": "markdown",
   "metadata": {
    "slideshow": {
     "slide_type": "subslide"
    }
   },
   "source": [
    "### Customer Mission vs Customer friction\n",
    "\n",
    "\n",
    "<img src=\"https://upload.wikimedia.org/wikipedia/commons/thumb/b/bb/Joseph_bernays_cropped.png/220px-Joseph_bernays_cropped.png\">\n",
    "\n",
    " \"If we understand the mechanism and motives of the group mind, is it not possible to control and regiment the masses according to our will without their knowing about it? The recent practice of propaganda has proved that it is possible, at least up to a certain point and within certain limits.\" - Edward Bernays"
   ]
  },
  {
   "cell_type": "markdown",
   "metadata": {},
   "source": [
    "### Customer Mission vs Customer friction\n",
    "\n",
    "<img src=\"https://cdn.emailmonday.com/wp-content/uploads/pillars-of-segmentation.jpg\">\n",
    "\n"
   ]
  },
  {
   "cell_type": "markdown",
   "metadata": {
    "slideshow": {
     "slide_type": "subslide"
    }
   },
   "source": [
    "### Customer Mission vs Customer friction\n",
    "\n",
    "* Post World War II consumerism is the motor of the American Economy. Industries are scared they're over producing. \n",
    "* In the digital era, marginal costs are going down and it's all about network effects. \n",
    "    * When your nearest competitor is one click away..."
   ]
  },
  {
   "cell_type": "markdown",
   "metadata": {
    "slideshow": {
     "slide_type": "subslide"
    }
   },
   "source": [
    "### Customer Mission vs Customer friction\n",
    "\n",
    "<img src=\"https://i2.wp.com/theproblem-solver.com/assets/wp-content/uploads/2017/08/Customer-Centric-Jeff-Bezos-Janice-B-Gordon.jpg?resize=600%2C596\">"
   ]
  },
  {
   "cell_type": "markdown",
   "metadata": {
    "slideshow": {
     "slide_type": "subslide"
    }
   },
   "source": [
    "## Customer Centric Model In Retail\n",
    "\n",
    "* Retailers give value to customers by presenting them with an attractive assortment (products) they can purchase.\n",
    "* An products and services set retailers apart. \n",
    "* There's a circular dependant relationship between each element. \n",
    "    * Demand conditions product assortment. \n",
    "    * Product assortment requires specific operations. \n",
    "    * Operation impact pricing. \n",
    "    * Pricing is regulated through promotions. \n",
    "    * Promotions (and pricing) influence demand. \n",
    "    \n",
    "\n",
    "<img src=\"customer_centric.jpg\" >"
   ]
  },
  {
   "cell_type": "markdown",
   "metadata": {
    "slideshow": {
     "slide_type": "subslide"
    }
   },
   "source": [
    "## Machine Learning in Retail\n",
    "\n",
    "* ML \"models\" the real real world to predict events (for a given input a specific output). \n",
    "* To have a succesful model, features must account for factors infuencing the prediction.\n",
    "* Circular dependancies make this hard to do succesfuly. \n",
    "* Finding relationships between important elements is key. "
   ]
  },
  {
   "cell_type": "markdown",
   "metadata": {
    "slideshow": {
     "slide_type": "subslide"
    }
   },
   "source": [
    "### Leveraging Data\n",
    "Most basic data in retail:\n",
    "* Customer data\n",
    "* Product data\n",
    "* Purchase data\n",
    "\n",
    "<img src=\"http://www.mysqltutorial.org/wp-content/uploads/2009/12/MySQL-Sample-Database-Schema.png\" style=\"width:500px; height:400px;\">"
   ]
  },
  {
   "cell_type": "markdown",
   "metadata": {
    "slideshow": {
     "slide_type": "subslide"
    }
   },
   "source": [
    "## Customer Purchases Data\n",
    "\n",
    "<ul>\n",
    "    <li style=\"font-size:22px\">The most valuable customer behaviour data is customer purchase data. \n",
    "         * <li style=\"font-size:22px\">*Navigation can be circumstantial and ambiguous. Buying is not. "
   ]
  },
  {
   "cell_type": "markdown",
   "metadata": {
    "slideshow": {
     "slide_type": "subslide"
    }
   },
   "source": [
    "## Using Purchase Data\n",
    "\n",
    "<ul>\n",
    "    <li style=\"font-size:22px\"><b> Complementary</b>: Complementary goods are products which are used together. \n",
    "    <li style=\"font-size:22px\"><b> Substitute</b>: A substitute is a product or service that can be easily replaced with another.\n",
    "    <li style=\"font-size:22px\"><b> Cross Selling</b>: Cross-selling is the action or practice of selling an additional product or service to an existing customer.\n",
    "    <li style=\"font-size:22px\"><b> Up selling</b>:  is a sales technique where a seller induces the customer to purchase more expensive items, upgrades or other add-ons in an attempt to make a more profitable sale.\n",
    "    <li style=\"font-size:22px\"><b> Cross-Elasticity</b>:The cross elasticity of demand is an economic concept that measures the responsiveness in the quantity demanded of one good when the price for another good changes.\n",
    "</ul>\n",
    "\n",
    "<ul>\n",
    "<li style=\"font-size:22px\">Whether products are substitutes or complementary is determined by purchase behavior. \n",
    "<li style=\"font-size:22px\">Cross Selling, Up Selling and Bundles for example are promotional mechanics based on customer purchase behaviour. \n",
    "<li style=\"font-size:22px\">Pricing calculations rely on cross-elasticity which is based on complementary and substitive products.\n",
    "<li style=\"font-size:22px\">Demand for one product is directly or inversely related to another product. (This underlying priciple drives the previous examples). \n",
    "<li style=\"font-size:22px\">Store operations, supply chain and last mile are influenced by demand. (As previously stated).\n",
    "\n",
    "<b> <li style=\"font-size:22px\"> So the purchase habbits of users have a direct influence on all the core elements of the retail industry. </b>"
   ]
  },
  {
   "cell_type": "markdown",
   "metadata": {
    "slideshow": {
     "slide_type": "subslide"
    }
   },
   "source": [
    "## Applying these concepts to Software Products\n",
    "\n",
    "* Automatically finding associations between products (assortment) can be used to:\n",
    "    * Make promotions that influence demand.\n",
    "    * Create dynamic pricing algorithms. \n",
    "    * Product placement\n",
    "    * Demand planning\n",
    "    * ..."
   ]
  },
  {
   "cell_type": "markdown",
   "metadata": {
    "ExecuteTime": {
     "end_time": "2019-04-24T07:40:21.078544Z",
     "start_time": "2019-04-24T07:40:21.076246Z"
    },
    "slideshow": {
     "slide_type": "slide"
    }
   },
   "source": [
    "# Market Basket Analysis"
   ]
  },
  {
   "cell_type": "markdown",
   "metadata": {
    "colab_type": "text",
    "id": "NxguhEK0DQSs",
    "slideshow": {
     "slide_type": "subslide"
    }
   },
   "source": [
    "* 1. What is Market Basket Analysis?\n",
    "* 2. How is MBA calculated ?\n",
    "* 3. Doing MBA with Python."
   ]
  },
  {
   "cell_type": "markdown",
   "metadata": {
    "colab_type": "text",
    "id": "YycSozAJDQSu",
    "slideshow": {
     "slide_type": "slide"
    }
   },
   "source": [
    "# What is Market Basket Analysis (MBA)?"
   ]
  },
  {
   "cell_type": "markdown",
   "metadata": {
    "colab_type": "text",
    "id": "kCU21wkVDQSv",
    "slideshow": {
     "slide_type": "subslide"
    }
   },
   "source": [
    "<h3>So what is MBA?</h3>\n",
    "<ul>\n",
    "    <li>It's a group of techniques often used in retail to uncover <b>associations</b> between items.</li>\n",
    "    <li> If a customer is buying a particular product he is likely to buy some related goods to complement the first one. </li>\n",
    "</ul>\n",
    "\n",
    "<img src=\"https://cdn-images-1.medium.com/max/800/1*YSDKzjONGi1xB6ub2gidXw.jpeg\" alt=\"Recommender\">"
   ]
  },
  {
   "cell_type": "markdown",
   "metadata": {
    "ExecuteTime": {
     "end_time": "2019-01-19T15:50:30.073398Z",
     "start_time": "2019-01-19T15:50:30.067167Z"
    },
    "colab_type": "text",
    "id": "tED0-SYFDQSw",
    "slideshow": {
     "slide_type": "subslide"
    }
   },
   "source": [
    "<h3>Basically, MBA will say things like:</h3>\n",
    "\n",
    "<ul>\n",
    "    <li>If bananas are purchased then avocados are also purchased</li>\n",
    "    <li> If both milk and bread are purchased then eggs are purchased 50% of the time.</li>\n",
    "</ul>"
   ]
  },
  {
   "cell_type": "markdown",
   "metadata": {
    "ExecuteTime": {
     "end_time": "2019-01-19T15:46:46.450928Z",
     "start_time": "2019-01-19T15:46:46.443922Z"
    },
    "colab_type": "text",
    "id": "CDFFqgD5DQSx",
    "slideshow": {
     "slide_type": "subslide"
    }
   },
   "source": [
    "<h3>What is MBA used for?</h3>\n",
    "\n",
    "<ul>\n",
    "    <li>Allowing retailers to make promotional product bundles and send coupons.</li>\n",
    "    <li>Improving store layout optimise flow and cross-sell. Content placement in e-commerce. </li>\n",
    "    <li>Inventory planning and pricing. </li>\n",
    "    <li>Creating product segments/groups - Category management.</li>\n",
    "    <li>Identifying product gaps in baskets.</li>\n",
    "    <li>Users also bought... E-Commerce </li>\n",
    "    <li>Fraud detection.</li>\n",
    "</ul>"
   ]
  },
  {
   "cell_type": "markdown",
   "metadata": {
    "colab_type": "text",
    "id": "MCe3tmE3DQSy",
    "slideshow": {
     "slide_type": "slide"
    }
   },
   "source": [
    "# How is it calculated using Python?"
   ]
  },
  {
   "cell_type": "markdown",
   "metadata": {
    "colab_type": "text",
    "id": "Bj4zlrc8DQSz",
    "slideshow": {
     "slide_type": "subslide"
    }
   },
   "source": [
    "<h3>We will be using the Apriori algorithm to calculate MBA</h3>\n",
    "\n",
    "<ul>\n",
    "    <li>Classic Data Mining algorithm.</li>\n",
    "    <li>Allows us to find frequent itemsets and association rules.</li>\n",
    "    <li>It's also used for example in healthcare to identify the relationships between drugs and adverse reactions.</li>\n",
    "</ul>"
   ]
  },
  {
   "cell_type": "markdown",
   "metadata": {
    "slideshow": {
     "slide_type": "subslide"
    }
   },
   "source": [
    "### Apriori Algorithm\n",
    "The Apriori algorithm was proposed by Agrawal and Srikant in 1994. \n",
    "\n",
    "The Apriori Algorithm is mainly comprised of two elements, the Apriori Property (which gives it its name) and the significance indicators: Support, Confidence and Lift. \n",
    "\n",
    "Let I = {i1 ,  i2 , ... ,in } be a set of items or products. \n",
    "\n",
    "Let D = {t1 ,  t2 , ... ,tn } be a set of baskets or transactions. \n",
    "\n",
    "An association rule is then defined as X → Y,  where X ⊂ I, Y ⊂ I and X ∩ Y = 0\n",
    "\n",
    "The rule X →  Y holds in the transaction set ‘D with confidence c if c% of transactions in D that contain X also contain Y. \n",
    "\n",
    "\n",
    "A⊂B = subset = {9,14} ⊂ {9,14,28} (A is a subset of B, but A is not equal to B.)\n",
    "A∩B = intersection = A ∩ B = {9,14} (Objects that belong to set A and set B.)"
   ]
  },
  {
   "cell_type": "markdown",
   "metadata": {},
   "source": [
    "* X is related to Y (X  Y) where X is a set of items that is part of the larger set (the whole assortment known as I), and Y also is a set of items. \n",
    "\n",
    "* However X and Y don’t contain the same items. \n",
    "\n",
    "* Also, the rule relating X to Y (X  Y) means that X and Y occur frequently together with a confidence of c% in all transactions contained in set D. "
   ]
  },
  {
   "cell_type": "markdown",
   "metadata": {
    "slideshow": {
     "slide_type": "subslide"
    }
   },
   "source": [
    "# Apriori Property\n",
    "\n",
    "\n",
    "<i> All subsets of a frequent itemset must be frequent(Apriori property).\n",
    "If an itemset is infrequent, all its supersets will be infrequent. </i>\n",
    "\n",
    "* This means that if a subset {Lemon Soda, Popcorn} is not frequent then its baskets {Lettuce, Popcorn, Lemon Soda}, {Shampoo, Popcorn, Lemon Soda} etc.  are not frequent either (otherwise Lemon Soda and Popcorn would be frequent, right?). \n",
    "\n",
    "* Even in small data sets, a large number of associations can be found and because not all might not relevant, finding them is a waste of processing power. \n",
    "\n",
    "* The Apriori Algorithm can therefore disregard those baskets and not waste processing time on calculating relations between those products. \n"
   ]
  },
  {
   "cell_type": "markdown",
   "metadata": {
    "ExecuteTime": {
     "end_time": "2019-01-19T16:09:00.881866Z",
     "start_time": "2019-01-19T16:09:00.874009Z"
    },
    "colab_type": "text",
    "id": "dr3myYPrDQSz",
    "slideshow": {
     "slide_type": "subslide"
    }
   },
   "source": [
    "<h3>The three significance indicators:</h3>\n",
    "\n",
    "<ol>\n",
    "    <li>Calculate support.</li>\n",
    "    <li>Calculate confidence.</li>\n",
    "    <li>Calculate lift.</li>\n",
    "</ol>"
   ]
  },
  {
   "cell_type": "markdown",
   "metadata": {
    "ExecuteTime": {
     "end_time": "2019-01-19T16:12:57.301843Z",
     "start_time": "2019-01-19T16:12:57.285613Z"
    },
    "colab_type": "text",
    "id": "2nZ7tft2DQS0",
    "slideshow": {
     "slide_type": "subslide"
    }
   },
   "source": [
    "<h3>Support:</h3>\n",
    "\n",
    "<p>Says how many times a product appears in customer transactions.</p>\n",
    "<img src=\"https://annalyzin.files.wordpress.com/2016/03/association-rule-support-eqn.png?w=248&h=68\" alt=\"Recommender\">\n",
    "<img src=\"https://annalyzin.files.wordpress.com/2016/04/association-rule-support-table.png?w=503&h=447\" alt=\"Recommender\">\n",
    "<ul>\n",
    "    <li>Support {apple} 50%</li>\n",
    "    <li>Support {apple, beer, rice} 2/8 or 25%</li>\n",
    "</ul>\n",
    "\n",
    "<a style = \"font-size:16px\" href=https://www.kdnuggets.com/2016/04/association-rules-apriori-algorithm-tutorial.html>Source</a>"
   ]
  },
  {
   "cell_type": "markdown",
   "metadata": {
    "colab_type": "text",
    "id": "GgaUyvK1DQS1",
    "slideshow": {
     "slide_type": "subslide"
    }
   },
   "source": [
    "<h3>Confidence:</h3>\n",
    "\n",
    "<p>Says how likely item Y is purchased when item X is purchased, expressed as {X -> Y} (reads as: X is related to Y)</p>\n",
    "<p> What is the confidence {apple -> beer}?</p>\n",
    "\n",
    "\n",
    "<img src=\"https://annalyzin.files.wordpress.com/2016/03/association-rule-confidence-eqn.png?w=527&h=77\" alt=\"Recommender\">\n",
    "<img src=\"https://annalyzin.files.wordpress.com/2016/04/association-rule-support-table.png?w=503&h=447\" alt=\"Recommender\">\n",
    "<p>The confidence of {beer -> apple} is 4 out of 6, or 66.6666%</p>\n",
    "<p style = \"font-size:20px\">One drawback of the confidence measure is that it might misrepresent the importance of an association. This is because it only accounts for how popular apples are, but not beers. If beers are also very popular in general, there will be a higher chance that a transaction containing apples will also contain beers, thus inflating the confidence measure. <b>To account for the base popularity of both constituent items, we use a third measure called lift.</b></p>\n",
    "\n",
    "<a style = \"font-size:16px\" href=https://www.kdnuggets.com/2016/04/association-rules-apriori-algorithm-tutorial.html>Source</a>"
   ]
  },
  {
   "cell_type": "markdown",
   "metadata": {
    "ExecuteTime": {
     "end_time": "2019-04-27T09:05:39.719029Z",
     "start_time": "2019-04-27T09:05:39.713614Z"
    },
    "slideshow": {
     "slide_type": "subslide"
    }
   },
   "source": [
    "<p>The confidence of {apple -> beer} is 3 out of 4, or 75%</p>\n",
    "\n",
    "(3/8) / (4/8) = 3 * 8 / 4 * 8 = 3 / 4"
   ]
  },
  {
   "cell_type": "markdown",
   "metadata": {
    "ExecuteTime": {
     "end_time": "2019-01-19T16:21:45.802014Z",
     "start_time": "2019-01-19T16:21:45.792189Z"
    },
    "colab_type": "text",
    "id": "MWB9m5pODQS2",
    "slideshow": {
     "slide_type": "subslide"
    }
   },
   "source": [
    "<h3>Lift</h3>\n",
    "\n",
    "<p>This says how likely item Y is purchased when item X is purchased, while controlling for how popular item Y is. </p>\n",
    "<p>Lift of {apple -> beer}?</p>\n",
    "\n",
    "<img src=\"https://annalyzin.files.wordpress.com/2016/03/association-rule-lift-eqn.png?w=566&h=80\" alt=\"Recommender\">\n",
    "\n",
    "<ul>\n",
    "    <li>lift <b>equal</b> to 1 implies no relationship between A and B.</li>\n",
    "    (ie: A and B occur together only by chance)\n",
    "    <li>lift <b>more than</b> 1 implies that there is a positive relationship between A and B. </li>\n",
    "    (ie:  A and B occur together more often than random)\n",
    "    <li>lift <b>less than</b> 1 implies that there is a negative relationship between A and B. </li>\n",
    "    (ie:  A and B occur together less often than random)\n",
    "</ul>\n",
    "\n",
    "<a style = \"font-size:16px\" href=https://www.kdnuggets.com/2016/04/association-rules-apriori-algorithm-tutorial.html>Source</a>"
   ]
  },
  {
   "cell_type": "markdown",
   "metadata": {
    "ExecuteTime": {
     "end_time": "2019-04-27T09:03:14.900998Z",
     "start_time": "2019-04-27T09:03:14.884838Z"
    },
    "slideshow": {
     "slide_type": "subslide"
    }
   },
   "source": [
    "<img src=\"https://annalyzin.files.wordpress.com/2016/03/association-rule-lift-eqn.png?w=566&h=80\" alt=\"Recommender\">\n",
    "<img src=\"https://annalyzin.files.wordpress.com/2016/04/association-rule-support-table.png?w=503&h=447\" alt=\"Recommender\">\n",
    "\n",
    "<p>The lift of {apple -> beer} is 3/8 out of 4/8 * 6/8 = 1</p>"
   ]
  },
  {
   "cell_type": "markdown",
   "metadata": {
    "colab_type": "text",
    "id": "cyJSe6wKDQS2",
    "slideshow": {
     "slide_type": "slide"
    }
   },
   "source": [
    "# Doing MBA with Python."
   ]
  },
  {
   "cell_type": "markdown",
   "metadata": {
    "slideshow": {
     "slide_type": "subslide"
    }
   },
   "source": [
    "## Instacart\n",
    "\n",
    "Instacart is a San Fransisco based company that operates as a same-day grocery delivery service. \n",
    "\n",
    "Customers select groceries through a web application from various retailers and delivered by a personal shopper. \n",
    "This study makes use of open sourced data set,“The Instacart Online Grocery Shopping Dataset 2017” released by Instacart. This anonymized dataset contains a sample of over 3 million grocery orders from more than 200,000 Instacart users.\n",
    "\n",
    "<p> Orders arrive within <b>two hours</b> of placement. Moreover, the grocery technology company's subscription service, Instacart Express, now costs 99 dollars per year. All deliveries above 35 dollars are free.</p> \n",
    "\n",
    "* The data set contains more than 50k different products for 206k unique users. \n",
    "\n",
    "* The only information provided about users are their orders. \n",
    "\n",
    "* All IDs in the dataset are completely random. \n",
    "\n",
    "* The dataset only contains products which have been bought by more than one person and can be found at more than one retailer. \n",
    "\n",
    "* There are no retailer IDs provided. We will have to assume it's all one seamless shop."
   ]
  },
  {
   "cell_type": "markdown",
   "metadata": {
    "colab_type": "text",
    "id": "3YiLKHSJDQS3",
    "slideshow": {
     "slide_type": "subslide"
    }
   },
   "source": [
    "* Import libraries\n",
    "* Data Preparation \n",
    "* Data exploration\n",
    "* Apriori Algorithm"
   ]
  },
  {
   "cell_type": "markdown",
   "metadata": {
    "colab_type": "text",
    "id": "oiricNxtDQS4",
    "slideshow": {
     "slide_type": "subslide"
    }
   },
   "source": [
    "## Basic Libraries"
   ]
  },
  {
   "cell_type": "code",
   "execution_count": 89,
   "metadata": {
    "ExecuteTime": {
     "end_time": "2019-04-27T09:23:56.132326Z",
     "start_time": "2019-04-27T09:23:56.115719Z"
    },
    "_cell_guid": "b1076dfc-b9ad-4769-8c92-a6c4dae69d19",
    "_uuid": "8f2839f25d086af736a60e9eeb907d3b93b6e0e5",
    "colab": {},
    "colab_type": "code",
    "hide_input": false,
    "id": "OICi2BmbDQS6",
    "slideshow": {
     "slide_type": "subslide"
    }
   },
   "outputs": [],
   "source": [
    "# PANDAS: \n",
    "import pandas as pd\n",
    "import numpy as np\n",
    "import collections\n",
    "from collections import Counter\n",
    "import itertools"
   ]
  },
  {
   "cell_type": "markdown",
   "metadata": {
    "colab_type": "text",
    "id": "FppXoa1yDQS5"
   },
   "source": [
    "<b> We're going to be counting a lot. Data manipulation is important to implement the algorithm. </b>\n",
    "\n",
    "<ul>\n",
    "    <li><b>Pandas:</b> <i>is a software library for data manipulation and analysis.</li>\n",
    "    <li><b>Numpy:</b>: <i>Adds support for large, multi-dimensional arrays and matrices, along with a large collection of high-level mathematical functions to operate on these arrays.</i> \n",
    "    <li><b>Collections:</b>: <i>This module implements specialized container datatypes providing alternatives to Python’s general purpose built-in containers, dict, list, set, and tuple. -Documentation.</i> \n",
    "    <li><il><b>Counter:</b>: <i>TA Counter is a dict subclass for counting hashable objects. It is an unordered collection where elements are stored as dictionary keys and their counts are stored as dictionary values. Counts are allowed to be any integer value including zero or negative counts. -Documentation. </i> \n",
    "    <li><b>Itertools:</b>: <i>The module standardizes a core set of fast, memory efficient tools that are useful by themselves or in combination. Together, they form an “iterator algebra” making it possible to construct specialized tools succinctly and efficiently in pure Python. -Documentation.</i> \n",
    "</ul>"
   ]
  },
  {
   "cell_type": "markdown",
   "metadata": {
    "colab_type": "text",
    "id": "Ii2qkMm4DQS8",
    "slideshow": {
     "slide_type": "subslide"
    }
   },
   "source": [
    "## Data Preparation"
   ]
  },
  {
   "cell_type": "markdown",
   "metadata": {
    "colab_type": "text",
    "id": "wApV5APKDQS9"
   },
   "source": [
    "<p style=\"font-size:22px\"><b>You can find more information on their blog:</b>\n",
    "<p style=\"font-size:22px\"> https://tech.instacart.com/3-million-instacart-orders-open-sourced-d40d29ead6f2 </p>\n",
    " \n",
    "<ul style=\"font-size:22px\"> <b>The complete data set contains 6 tables:</b>\n",
    " <li style=\"font-size:22px\"> Orders: This file tells to which set (prior, train, test) an order belongs. You are predicting reordered items only for the test set orders. 'order_dow' is the day of week.\n",
    " <li style=\"font-size:22px\"> Products: Product description and hierarchy. \n",
    " <li style=\"font-size:22px\"> Aisles : Relationship between aisle name and id.\n",
    " <li style=\"font-size:22px\"> Deptartments : Relationship between department name and id. \n",
    " <li style=\"font-size:22px\"> Order_products__SET : These files specify which products were purchased in each order. order_products__prior.csv contains previous order contents for all customers. 'reordered' indicates that the customer has a previous order that contains the product. Note that some orders will have no reordered items. You may predict an explicit 'None' value for orders with no reordered items. See the evaluation page for full details.\n",
    "</ul>"
   ]
  },
  {
   "cell_type": "markdown",
   "metadata": {
    "colab_type": "text",
    "id": "aSHEIzo-DQS9",
    "slideshow": {
     "slide_type": "subslide"
    }
   },
   "source": [
    "### Importing Data"
   ]
  },
  {
   "cell_type": "code",
   "execution_count": 6,
   "metadata": {
    "ExecuteTime": {
     "end_time": "2019-04-26T22:09:10.751660Z",
     "start_time": "2019-04-26T22:08:59.414527Z"
    },
    "_uuid": "ac63691888592478c7c90d414e66710faf5d191b",
    "colab": {},
    "colab_type": "code",
    "id": "gjHJQi7wDQS-",
    "slideshow": {
     "slide_type": "-"
    }
   },
   "outputs": [],
   "source": [
    "# Start by importing the data into dataframes. \n",
    "\n",
    "products = pd.read_csv(\"../data/products.csv\")\n",
    "order_products_prior = pd.read_csv(\"../data/order_products__prior.csv\")\n",
    "departments = pd.read_csv(\"../data/departments.csv\")\n",
    "#sample_submission = pd.read_csv(\"/content/sample_submission.csv\")\n",
    "orders = pd.read_csv(\"../data/orders.csv\")\n",
    "aisles = pd.read_csv(\"../data/aisles.csv\")"
   ]
  },
  {
   "cell_type": "markdown",
   "metadata": {
    "colab_type": "text",
    "id": "XyZi6ym2DQTB",
    "slideshow": {
     "slide_type": "subslide"
    }
   },
   "source": [
    "### Sampling Data"
   ]
  },
  {
   "cell_type": "code",
   "execution_count": 90,
   "metadata": {
    "ExecuteTime": {
     "end_time": "2019-04-27T09:34:27.441308Z",
     "start_time": "2019-04-27T09:34:27.319723Z"
    },
    "colab": {
     "base_uri": "https://localhost:8080/",
     "height": 765
    },
    "colab_type": "code",
    "id": "Eu1Mj12pDQTB",
    "outputId": "ca570392-6461-4cd1-e665-958ca638e9e5",
    "scrolled": true,
    "slideshow": {
     "slide_type": "-"
    }
   },
   "outputs": [
    {
     "data": {
      "text/html": [
       "<div>\n",
       "<style scoped>\n",
       "    .dataframe tbody tr th:only-of-type {\n",
       "        vertical-align: middle;\n",
       "    }\n",
       "\n",
       "    .dataframe tbody tr th {\n",
       "        vertical-align: top;\n",
       "    }\n",
       "\n",
       "    .dataframe thead th {\n",
       "        text-align: right;\n",
       "    }\n",
       "</style>\n",
       "<table border=\"1\" class=\"dataframe\">\n",
       "  <thead>\n",
       "    <tr style=\"text-align: right;\">\n",
       "      <th></th>\n",
       "      <th>product_id</th>\n",
       "      <th>product_name</th>\n",
       "      <th>aisle_id</th>\n",
       "      <th>department_id</th>\n",
       "    </tr>\n",
       "  </thead>\n",
       "  <tbody>\n",
       "    <tr>\n",
       "      <th>0</th>\n",
       "      <td>1</td>\n",
       "      <td>Chocolate Sandwich Cookies</td>\n",
       "      <td>61</td>\n",
       "      <td>19</td>\n",
       "    </tr>\n",
       "    <tr>\n",
       "      <th>1</th>\n",
       "      <td>2</td>\n",
       "      <td>All-Seasons Salt</td>\n",
       "      <td>104</td>\n",
       "      <td>13</td>\n",
       "    </tr>\n",
       "    <tr>\n",
       "      <th>2</th>\n",
       "      <td>3</td>\n",
       "      <td>Robust Golden Unsweetened Oolong Tea</td>\n",
       "      <td>94</td>\n",
       "      <td>7</td>\n",
       "    </tr>\n",
       "    <tr>\n",
       "      <th>3</th>\n",
       "      <td>4</td>\n",
       "      <td>Smart Ones Classic Favorites Mini Rigatoni Wit...</td>\n",
       "      <td>38</td>\n",
       "      <td>1</td>\n",
       "    </tr>\n",
       "    <tr>\n",
       "      <th>4</th>\n",
       "      <td>5</td>\n",
       "      <td>Green Chile Anytime Sauce</td>\n",
       "      <td>5</td>\n",
       "      <td>13</td>\n",
       "    </tr>\n",
       "  </tbody>\n",
       "</table>\n",
       "</div>"
      ],
      "text/plain": [
       "   product_id                                       product_name  aisle_id  \\\n",
       "0           1                         Chocolate Sandwich Cookies        61   \n",
       "1           2                                   All-Seasons Salt       104   \n",
       "2           3               Robust Golden Unsweetened Oolong Tea        94   \n",
       "3           4  Smart Ones Classic Favorites Mini Rigatoni Wit...        38   \n",
       "4           5                          Green Chile Anytime Sauce         5   \n",
       "\n",
       "   department_id  \n",
       "0             19  \n",
       "1             13  \n",
       "2              7  \n",
       "3              1  \n",
       "4             13  "
      ]
     },
     "metadata": {},
     "output_type": "display_data"
    },
    {
     "data": {
      "text/html": [
       "<div>\n",
       "<style scoped>\n",
       "    .dataframe tbody tr th:only-of-type {\n",
       "        vertical-align: middle;\n",
       "    }\n",
       "\n",
       "    .dataframe tbody tr th {\n",
       "        vertical-align: top;\n",
       "    }\n",
       "\n",
       "    .dataframe thead th {\n",
       "        text-align: right;\n",
       "    }\n",
       "</style>\n",
       "<table border=\"1\" class=\"dataframe\">\n",
       "  <thead>\n",
       "    <tr style=\"text-align: right;\">\n",
       "      <th></th>\n",
       "      <th>order_id</th>\n",
       "      <th>product_id</th>\n",
       "      <th>add_to_cart_order</th>\n",
       "      <th>reordered</th>\n",
       "    </tr>\n",
       "  </thead>\n",
       "  <tbody>\n",
       "    <tr>\n",
       "      <th>0</th>\n",
       "      <td>2</td>\n",
       "      <td>33120</td>\n",
       "      <td>1</td>\n",
       "      <td>1</td>\n",
       "    </tr>\n",
       "    <tr>\n",
       "      <th>1</th>\n",
       "      <td>2</td>\n",
       "      <td>28985</td>\n",
       "      <td>2</td>\n",
       "      <td>1</td>\n",
       "    </tr>\n",
       "    <tr>\n",
       "      <th>2</th>\n",
       "      <td>2</td>\n",
       "      <td>9327</td>\n",
       "      <td>3</td>\n",
       "      <td>0</td>\n",
       "    </tr>\n",
       "    <tr>\n",
       "      <th>3</th>\n",
       "      <td>2</td>\n",
       "      <td>45918</td>\n",
       "      <td>4</td>\n",
       "      <td>1</td>\n",
       "    </tr>\n",
       "    <tr>\n",
       "      <th>4</th>\n",
       "      <td>2</td>\n",
       "      <td>30035</td>\n",
       "      <td>5</td>\n",
       "      <td>0</td>\n",
       "    </tr>\n",
       "  </tbody>\n",
       "</table>\n",
       "</div>"
      ],
      "text/plain": [
       "   order_id  product_id  add_to_cart_order  reordered\n",
       "0         2       33120                  1          1\n",
       "1         2       28985                  2          1\n",
       "2         2        9327                  3          0\n",
       "3         2       45918                  4          1\n",
       "4         2       30035                  5          0"
      ]
     },
     "metadata": {},
     "output_type": "display_data"
    },
    {
     "data": {
      "text/html": [
       "<div>\n",
       "<style scoped>\n",
       "    .dataframe tbody tr th:only-of-type {\n",
       "        vertical-align: middle;\n",
       "    }\n",
       "\n",
       "    .dataframe tbody tr th {\n",
       "        vertical-align: top;\n",
       "    }\n",
       "\n",
       "    .dataframe thead th {\n",
       "        text-align: right;\n",
       "    }\n",
       "</style>\n",
       "<table border=\"1\" class=\"dataframe\">\n",
       "  <thead>\n",
       "    <tr style=\"text-align: right;\">\n",
       "      <th></th>\n",
       "      <th>department_id</th>\n",
       "      <th>department</th>\n",
       "    </tr>\n",
       "  </thead>\n",
       "  <tbody>\n",
       "    <tr>\n",
       "      <th>0</th>\n",
       "      <td>1</td>\n",
       "      <td>frozen</td>\n",
       "    </tr>\n",
       "    <tr>\n",
       "      <th>1</th>\n",
       "      <td>2</td>\n",
       "      <td>other</td>\n",
       "    </tr>\n",
       "    <tr>\n",
       "      <th>2</th>\n",
       "      <td>3</td>\n",
       "      <td>bakery</td>\n",
       "    </tr>\n",
       "    <tr>\n",
       "      <th>3</th>\n",
       "      <td>4</td>\n",
       "      <td>produce</td>\n",
       "    </tr>\n",
       "    <tr>\n",
       "      <th>4</th>\n",
       "      <td>5</td>\n",
       "      <td>alcohol</td>\n",
       "    </tr>\n",
       "  </tbody>\n",
       "</table>\n",
       "</div>"
      ],
      "text/plain": [
       "   department_id department\n",
       "0              1     frozen\n",
       "1              2      other\n",
       "2              3     bakery\n",
       "3              4    produce\n",
       "4              5    alcohol"
      ]
     },
     "metadata": {},
     "output_type": "display_data"
    },
    {
     "data": {
      "text/html": [
       "<div>\n",
       "<style scoped>\n",
       "    .dataframe tbody tr th:only-of-type {\n",
       "        vertical-align: middle;\n",
       "    }\n",
       "\n",
       "    .dataframe tbody tr th {\n",
       "        vertical-align: top;\n",
       "    }\n",
       "\n",
       "    .dataframe thead th {\n",
       "        text-align: right;\n",
       "    }\n",
       "</style>\n",
       "<table border=\"1\" class=\"dataframe\">\n",
       "  <thead>\n",
       "    <tr style=\"text-align: right;\">\n",
       "      <th></th>\n",
       "      <th>aisle_id</th>\n",
       "      <th>aisle</th>\n",
       "    </tr>\n",
       "  </thead>\n",
       "  <tbody>\n",
       "    <tr>\n",
       "      <th>0</th>\n",
       "      <td>1</td>\n",
       "      <td>prepared soups salads</td>\n",
       "    </tr>\n",
       "    <tr>\n",
       "      <th>1</th>\n",
       "      <td>2</td>\n",
       "      <td>specialty cheeses</td>\n",
       "    </tr>\n",
       "    <tr>\n",
       "      <th>2</th>\n",
       "      <td>3</td>\n",
       "      <td>energy granola bars</td>\n",
       "    </tr>\n",
       "    <tr>\n",
       "      <th>3</th>\n",
       "      <td>4</td>\n",
       "      <td>instant foods</td>\n",
       "    </tr>\n",
       "    <tr>\n",
       "      <th>4</th>\n",
       "      <td>5</td>\n",
       "      <td>marinades meat preparation</td>\n",
       "    </tr>\n",
       "  </tbody>\n",
       "</table>\n",
       "</div>"
      ],
      "text/plain": [
       "   aisle_id                       aisle\n",
       "0         1       prepared soups salads\n",
       "1         2           specialty cheeses\n",
       "2         3         energy granola bars\n",
       "3         4               instant foods\n",
       "4         5  marinades meat preparation"
      ]
     },
     "metadata": {},
     "output_type": "display_data"
    }
   ],
   "source": [
    "#Example of each the newly created dataframes\n",
    "# Products contain product description but not aisle or department descriptions.\n",
    "# Orders have product ids so its not transparent either. \n",
    "# department and aisle have descriptions. \n",
    "\n",
    "display(products.head())\n",
    "display(order_products_prior.head())\n",
    "display(departments.head())\n",
    "display(aisles.head())"
   ]
  },
  {
   "cell_type": "markdown",
   "metadata": {
    "colab_type": "text",
    "id": "Ba9wSv5QDQTG",
    "slideshow": {
     "slide_type": "subslide"
    }
   },
   "source": [
    "### Creating the data set\n",
    "\n",
    "* We want a dataset about orders that allows us to understand what we're looking at and know if it makes sense.  \n",
    "\n",
    "* Using pandas we can merge dataframes. "
   ]
  },
  {
   "cell_type": "markdown",
   "metadata": {
    "ExecuteTime": {
     "end_time": "2019-04-27T09:38:52.476187Z",
     "start_time": "2019-04-27T09:38:28.183Z"
    }
   },
   "source": [
    "* Which products are in each order so I merge by the product id column. \n",
    "    * Structure is always pd.merge(dataframe1, dataframe2, column to use as the key)\n",
    "* I also want to know about department and aisles. \n",
    "    * You can only use on = \"...\" because both columns are the same. "
   ]
  },
  {
   "cell_type": "code",
   "execution_count": 102,
   "metadata": {
    "ExecuteTime": {
     "end_time": "2019-04-27T09:44:03.895314Z",
     "start_time": "2019-04-27T09:43:18.391966Z"
    },
    "_uuid": "d656c26ad8d0de67bdd1a24ae25b6205b98d8d9b",
    "colab": {},
    "colab_type": "code",
    "id": "lEx0KXqDDQTH",
    "scrolled": true,
    "slideshow": {
     "slide_type": "-"
    }
   },
   "outputs": [],
   "source": [
    "# Merge orders and products to give Product IDs a description.\n",
    "orders_prior = pd.merge(products, order_products_prior, on=\"product_id\")\n",
    "\n",
    "# Merge orders and department to give department ids a description.\n",
    "orders_deps_prior = pd.merge(orders_prior, departments, on=\"department_id\")\n",
    "\n",
    "# Merge orders and aisles to give aisles ids a description.\n",
    "orders_total_prior = pd.merge(orders_deps_prior, aisles, on=\"aisle_id\")\n",
    "\n",
    "del orders_prior\n",
    "del orders_deps_prior\n",
    "\n",
    "# Delete department_id and aisle_id from table as we will use their description.\n",
    "orders_total_prior.drop(['department_id', 'aisle_id'], inplace=True, axis=1)"
   ]
  },
  {
   "cell_type": "code",
   "execution_count": 101,
   "metadata": {
    "ExecuteTime": {
     "end_time": "2019-04-27T09:43:14.104756Z",
     "start_time": "2019-04-27T09:43:13.669405Z"
    },
    "slideshow": {
     "slide_type": "subslide"
    }
   },
   "outputs": [
    {
     "data": {
      "text/html": [
       "<div>\n",
       "<style scoped>\n",
       "    .dataframe tbody tr th:only-of-type {\n",
       "        vertical-align: middle;\n",
       "    }\n",
       "\n",
       "    .dataframe tbody tr th {\n",
       "        vertical-align: top;\n",
       "    }\n",
       "\n",
       "    .dataframe thead th {\n",
       "        text-align: right;\n",
       "    }\n",
       "</style>\n",
       "<table border=\"1\" class=\"dataframe\">\n",
       "  <thead>\n",
       "    <tr style=\"text-align: right;\">\n",
       "      <th></th>\n",
       "      <th>product_id</th>\n",
       "      <th>product_name</th>\n",
       "      <th>order_id</th>\n",
       "      <th>add_to_cart_order</th>\n",
       "      <th>reordered</th>\n",
       "      <th>department</th>\n",
       "      <th>aisle</th>\n",
       "    </tr>\n",
       "  </thead>\n",
       "  <tbody>\n",
       "    <tr>\n",
       "      <th>28728896</th>\n",
       "      <td>47626</td>\n",
       "      <td>Large Lemon</td>\n",
       "      <td>2527538</td>\n",
       "      <td>5</td>\n",
       "      <td>1</td>\n",
       "      <td>produce</td>\n",
       "      <td>fresh fruits</td>\n",
       "    </tr>\n",
       "    <tr>\n",
       "      <th>13470015</th>\n",
       "      <td>40852</td>\n",
       "      <td>Lactose Free Fat Free Milk</td>\n",
       "      <td>600852</td>\n",
       "      <td>2</td>\n",
       "      <td>1</td>\n",
       "      <td>dairy eggs</td>\n",
       "      <td>soy lactosefree</td>\n",
       "    </tr>\n",
       "    <tr>\n",
       "      <th>31122863</th>\n",
       "      <td>28238</td>\n",
       "      <td>Original Belgian Wheat Beer</td>\n",
       "      <td>1109703</td>\n",
       "      <td>1</td>\n",
       "      <td>1</td>\n",
       "      <td>alcohol</td>\n",
       "      <td>beers coolers</td>\n",
       "    </tr>\n",
       "    <tr>\n",
       "      <th>6736675</th>\n",
       "      <td>46372</td>\n",
       "      <td>Squeezed Orange Juice</td>\n",
       "      <td>2694403</td>\n",
       "      <td>2</td>\n",
       "      <td>0</td>\n",
       "      <td>beverages</td>\n",
       "      <td>refrigerated</td>\n",
       "    </tr>\n",
       "    <tr>\n",
       "      <th>13295679</th>\n",
       "      <td>25659</td>\n",
       "      <td>Organic Coconut Milk</td>\n",
       "      <td>3187711</td>\n",
       "      <td>13</td>\n",
       "      <td>0</td>\n",
       "      <td>dairy eggs</td>\n",
       "      <td>soy lactosefree</td>\n",
       "    </tr>\n",
       "  </tbody>\n",
       "</table>\n",
       "</div>"
      ],
      "text/plain": [
       "          product_id                 product_name  order_id  \\\n",
       "28728896       47626                  Large Lemon   2527538   \n",
       "13470015       40852   Lactose Free Fat Free Milk    600852   \n",
       "31122863       28238  Original Belgian Wheat Beer   1109703   \n",
       "6736675        46372        Squeezed Orange Juice   2694403   \n",
       "13295679       25659         Organic Coconut Milk   3187711   \n",
       "\n",
       "          add_to_cart_order  reordered  department            aisle  \n",
       "28728896                  5          1     produce     fresh fruits  \n",
       "13470015                  2          1  dairy eggs  soy lactosefree  \n",
       "31122863                  1          1     alcohol    beers coolers  \n",
       "6736675                   2          0   beverages     refrigerated  \n",
       "13295679                 13          0  dairy eggs  soy lactosefree  "
      ]
     },
     "execution_count": 101,
     "metadata": {},
     "output_type": "execute_result"
    }
   ],
   "source": [
    "#Example of the final table created by merging the different data sources. \n",
    "orders_total_prior.sample(5).head(5)\n",
    "#orders_total_prior = orders_total_prior.sample(frac = 0.4)"
   ]
  },
  {
   "cell_type": "code",
   "execution_count": 103,
   "metadata": {
    "ExecuteTime": {
     "end_time": "2019-04-27T09:44:14.861095Z",
     "start_time": "2019-04-27T09:44:14.532476Z"
    },
    "colab": {},
    "colab_type": "code",
    "id": "R4MP3UNmSxin",
    "slideshow": {
     "slide_type": "subslide"
    }
   },
   "outputs": [
    {
     "data": {
      "text/plain": [
       "'Number of lines: 32,434,489'"
      ]
     },
     "execution_count": 103,
     "metadata": {},
     "output_type": "execute_result"
    }
   ],
   "source": [
    "\"Number of lines: {:,}\".format(orders_total_prior.order_id.count())"
   ]
  },
  {
   "cell_type": "code",
   "execution_count": 104,
   "metadata": {
    "ExecuteTime": {
     "end_time": "2019-04-27T09:44:16.148424Z",
     "start_time": "2019-04-27T09:44:15.337625Z"
    },
    "colab": {},
    "colab_type": "code",
    "id": "D0tQ8Fw6YeR7"
   },
   "outputs": [
    {
     "data": {
      "text/plain": [
       "'Number of orders: 3,214,874'"
      ]
     },
     "execution_count": 104,
     "metadata": {},
     "output_type": "execute_result"
    }
   ],
   "source": [
    "\"Number of orders: {:,}\".format(len(orders_total_prior.order_id.unique()))"
   ]
  },
  {
   "cell_type": "markdown",
   "metadata": {
    "colab_type": "text",
    "id": "hYK7wMgzDQTK",
    "slideshow": {
     "slide_type": "subslide"
    }
   },
   "source": [
    "### Exploring the Data"
   ]
  },
  {
   "cell_type": "markdown",
   "metadata": {
    "slideshow": {
     "slide_type": "-"
    }
   },
   "source": [
    "To make sure the data makes sense:\n",
    "\n",
    "* Find a hypothesis on the data and test if it makes sense. \n",
    "    * Which departments are the most reordered from?\n",
    "    * Which aisles are the most reordered from?"
   ]
  },
  {
   "cell_type": "markdown",
   "metadata": {
    "colab_type": "text",
    "id": "yS9vfR8MDQTU",
    "slideshow": {
     "slide_type": "subslide"
    }
   },
   "source": [
    "#### Departments"
   ]
  },
  {
   "cell_type": "markdown",
   "metadata": {},
   "source": [
    "* Top-Down Approach\n",
    "* Which are the popular departments?"
   ]
  },
  {
   "cell_type": "code",
   "execution_count": 108,
   "metadata": {
    "ExecuteTime": {
     "end_time": "2019-04-27T09:45:04.412604Z",
     "start_time": "2019-04-27T09:45:02.337387Z"
    }
   },
   "outputs": [
    {
     "data": {
      "text/plain": [
       "'Number of Departments: 21'"
      ]
     },
     "metadata": {},
     "output_type": "display_data"
    },
    {
     "name": "stdout",
     "output_type": "stream",
     "text": [
      "- snacks\n",
      "- pantry\n",
      "- beverages\n",
      "- frozen\n",
      "- personal care\n",
      "- dairy eggs\n",
      "- household\n",
      "- babies\n",
      "- meat seafood\n",
      "- dry goods pasta\n",
      "- pets\n",
      "- breakfast\n",
      "- canned goods\n",
      "- produce\n",
      "- missing\n",
      "- international\n",
      "- deli\n",
      "- alcohol\n",
      "- bakery\n",
      "- other\n",
      "- bulk\n"
     ]
    }
   ],
   "source": [
    "display(\"Number of Departments: {:,}\".format(len(orders_total_prior.department.unique())))\n",
    "for i in list(orders_total_prior.department.unique()):\n",
    "    print('-', i)\n",
    "\n",
    "#'missing', 'other', 'pets', 'bulk' --> Provide very little information"
   ]
  },
  {
   "cell_type": "markdown",
   "metadata": {
    "ExecuteTime": {
     "end_time": "2019-04-27T09:53:18.001083Z",
     "start_time": "2019-04-27T09:53:17.978078Z"
    },
    "slideshow": {
     "slide_type": "subslide"
    }
   },
   "source": [
    "* How do we define popularity? Is it a list of sales?\n",
    "\n",
    "* Let's try to use as much data as possible."
   ]
  },
  {
   "cell_type": "code",
   "execution_count": 118,
   "metadata": {
    "ExecuteTime": {
     "end_time": "2019-04-27T09:55:06.301640Z",
     "start_time": "2019-04-27T09:55:04.425386Z"
    },
    "slideshow": {
     "slide_type": "-"
    }
   },
   "outputs": [
    {
     "data": {
      "text/html": [
       "<div>\n",
       "<style scoped>\n",
       "    .dataframe tbody tr th:only-of-type {\n",
       "        vertical-align: middle;\n",
       "    }\n",
       "\n",
       "    .dataframe tbody tr th {\n",
       "        vertical-align: top;\n",
       "    }\n",
       "\n",
       "    .dataframe thead th {\n",
       "        text-align: right;\n",
       "    }\n",
       "</style>\n",
       "<table border=\"1\" class=\"dataframe\">\n",
       "  <thead>\n",
       "    <tr style=\"text-align: right;\">\n",
       "      <th></th>\n",
       "      <th>product_id</th>\n",
       "      <th>product_name</th>\n",
       "      <th>order_id</th>\n",
       "      <th>add_to_cart_order</th>\n",
       "      <th>reordered</th>\n",
       "      <th>department</th>\n",
       "      <th>aisle</th>\n",
       "    </tr>\n",
       "  </thead>\n",
       "  <tbody>\n",
       "    <tr>\n",
       "      <th>18325301</th>\n",
       "      <td>779</td>\n",
       "      <td>Cat Treats Hair Ball Control Chicken</td>\n",
       "      <td>1757728</td>\n",
       "      <td>1</td>\n",
       "      <td>1</td>\n",
       "      <td>pets</td>\n",
       "      <td>cat food care</td>\n",
       "    </tr>\n",
       "    <tr>\n",
       "      <th>31312223</th>\n",
       "      <td>30678</td>\n",
       "      <td>Rosemary &amp; Olive Oil Flatbread</td>\n",
       "      <td>619111</td>\n",
       "      <td>4</td>\n",
       "      <td>1</td>\n",
       "      <td>bakery</td>\n",
       "      <td>tortillas flat bread</td>\n",
       "    </tr>\n",
       "    <tr>\n",
       "      <th>22753296</th>\n",
       "      <td>15872</td>\n",
       "      <td>Celery Hearts</td>\n",
       "      <td>2629296</td>\n",
       "      <td>15</td>\n",
       "      <td>0</td>\n",
       "      <td>produce</td>\n",
       "      <td>fresh vegetables</td>\n",
       "    </tr>\n",
       "    <tr>\n",
       "      <th>28857706</th>\n",
       "      <td>47766</td>\n",
       "      <td>Organic Avocado</td>\n",
       "      <td>1318542</td>\n",
       "      <td>5</td>\n",
       "      <td>1</td>\n",
       "      <td>produce</td>\n",
       "      <td>fresh fruits</td>\n",
       "    </tr>\n",
       "    <tr>\n",
       "      <th>32021607</th>\n",
       "      <td>13866</td>\n",
       "      <td>Deluxe Plain Bagels</td>\n",
       "      <td>1646144</td>\n",
       "      <td>2</td>\n",
       "      <td>1</td>\n",
       "      <td>bakery</td>\n",
       "      <td>breakfast bakery</td>\n",
       "    </tr>\n",
       "  </tbody>\n",
       "</table>\n",
       "</div>"
      ],
      "text/plain": [
       "          product_id                          product_name  order_id  \\\n",
       "18325301         779  Cat Treats Hair Ball Control Chicken   1757728   \n",
       "31312223       30678        Rosemary & Olive Oil Flatbread    619111   \n",
       "22753296       15872                         Celery Hearts   2629296   \n",
       "28857706       47766                       Organic Avocado   1318542   \n",
       "32021607       13866                   Deluxe Plain Bagels   1646144   \n",
       "\n",
       "          add_to_cart_order  reordered department                 aisle  \n",
       "18325301                  1          1       pets         cat food care  \n",
       "31312223                  4          1     bakery  tortillas flat bread  \n",
       "22753296                 15          0    produce      fresh vegetables  \n",
       "28857706                  5          1    produce          fresh fruits  \n",
       "32021607                  2          1     bakery      breakfast bakery  "
      ]
     },
     "execution_count": 118,
     "metadata": {},
     "output_type": "execute_result"
    }
   ],
   "source": [
    "orders_total_prior.sample(5).head(5)"
   ]
  },
  {
   "cell_type": "markdown",
   "metadata": {
    "slideshow": {
     "slide_type": "subslide"
    }
   },
   "source": [
    "* Let's look at popularity vs. loyalty = Sales vs. Reorders. "
   ]
  },
  {
   "cell_type": "code",
   "execution_count": 54,
   "metadata": {
    "ExecuteTime": {
     "end_time": "2019-04-26T22:32:00.696587Z",
     "start_time": "2019-04-26T22:31:55.274600Z"
    },
    "colab": {},
    "colab_type": "code",
    "id": "Su7XcGNfX0RS",
    "slideshow": {
     "slide_type": "subslide"
    }
   },
   "outputs": [],
   "source": [
    "# Clean noisy categories\n",
    "# Apply a mask. Masks will use True & False to know what to filter. If it's not, missing etc. pandas will keep it. \n",
    "orders_total_prior = orders_total_prior[~orders_total_prior.department.isin([\n",
    "    'missing', 'other', 'pets', 'bulk'\n",
    "    ])]"
   ]
  },
  {
   "cell_type": "code",
   "execution_count": 142,
   "metadata": {
    "ExecuteTime": {
     "end_time": "2019-04-27T11:58:58.552839Z",
     "start_time": "2019-04-27T11:58:52.928660Z"
    }
   },
   "outputs": [
    {
     "data": {
      "text/html": [
       "<div>\n",
       "<style scoped>\n",
       "    .dataframe tbody tr th:only-of-type {\n",
       "        vertical-align: middle;\n",
       "    }\n",
       "\n",
       "    .dataframe tbody tr th {\n",
       "        vertical-align: top;\n",
       "    }\n",
       "\n",
       "    .dataframe thead th {\n",
       "        text-align: right;\n",
       "    }\n",
       "</style>\n",
       "<table border=\"1\" class=\"dataframe\">\n",
       "  <thead>\n",
       "    <tr style=\"text-align: right;\">\n",
       "      <th></th>\n",
       "      <th>product_id</th>\n",
       "      <th>product_name</th>\n",
       "      <th>order_id</th>\n",
       "      <th>add_to_cart_order</th>\n",
       "      <th>reordered</th>\n",
       "      <th>department</th>\n",
       "      <th>aisle</th>\n",
       "    </tr>\n",
       "  </thead>\n",
       "  <tbody>\n",
       "    <tr>\n",
       "      <th>2887550</th>\n",
       "      <td>2</td>\n",
       "      <td>All-Seasons Salt</td>\n",
       "      <td>12209</td>\n",
       "      <td>20</td>\n",
       "      <td>0</td>\n",
       "      <td>pantry</td>\n",
       "      <td>spices seasonings</td>\n",
       "    </tr>\n",
       "    <tr>\n",
       "      <th>2887551</th>\n",
       "      <td>2</td>\n",
       "      <td>All-Seasons Salt</td>\n",
       "      <td>59102</td>\n",
       "      <td>15</td>\n",
       "      <td>0</td>\n",
       "      <td>pantry</td>\n",
       "      <td>spices seasonings</td>\n",
       "    </tr>\n",
       "    <tr>\n",
       "      <th>2887552</th>\n",
       "      <td>2</td>\n",
       "      <td>All-Seasons Salt</td>\n",
       "      <td>105042</td>\n",
       "      <td>1</td>\n",
       "      <td>0</td>\n",
       "      <td>pantry</td>\n",
       "      <td>spices seasonings</td>\n",
       "    </tr>\n",
       "    <tr>\n",
       "      <th>2887553</th>\n",
       "      <td>2</td>\n",
       "      <td>All-Seasons Salt</td>\n",
       "      <td>116256</td>\n",
       "      <td>17</td>\n",
       "      <td>0</td>\n",
       "      <td>pantry</td>\n",
       "      <td>spices seasonings</td>\n",
       "    </tr>\n",
       "    <tr>\n",
       "      <th>2887554</th>\n",
       "      <td>2</td>\n",
       "      <td>All-Seasons Salt</td>\n",
       "      <td>199992</td>\n",
       "      <td>17</td>\n",
       "      <td>1</td>\n",
       "      <td>pantry</td>\n",
       "      <td>spices seasonings</td>\n",
       "    </tr>\n",
       "    <tr>\n",
       "      <th>2887555</th>\n",
       "      <td>2</td>\n",
       "      <td>All-Seasons Salt</td>\n",
       "      <td>200610</td>\n",
       "      <td>1</td>\n",
       "      <td>0</td>\n",
       "      <td>pantry</td>\n",
       "      <td>spices seasonings</td>\n",
       "    </tr>\n",
       "    <tr>\n",
       "      <th>2887556</th>\n",
       "      <td>2</td>\n",
       "      <td>All-Seasons Salt</td>\n",
       "      <td>220800</td>\n",
       "      <td>10</td>\n",
       "      <td>0</td>\n",
       "      <td>pantry</td>\n",
       "      <td>spices seasonings</td>\n",
       "    </tr>\n",
       "    <tr>\n",
       "      <th>2887557</th>\n",
       "      <td>2</td>\n",
       "      <td>All-Seasons Salt</td>\n",
       "      <td>228831</td>\n",
       "      <td>24</td>\n",
       "      <td>0</td>\n",
       "      <td>pantry</td>\n",
       "      <td>spices seasonings</td>\n",
       "    </tr>\n",
       "    <tr>\n",
       "      <th>2887558</th>\n",
       "      <td>2</td>\n",
       "      <td>All-Seasons Salt</td>\n",
       "      <td>248800</td>\n",
       "      <td>18</td>\n",
       "      <td>0</td>\n",
       "      <td>pantry</td>\n",
       "      <td>spices seasonings</td>\n",
       "    </tr>\n",
       "    <tr>\n",
       "      <th>2887559</th>\n",
       "      <td>2</td>\n",
       "      <td>All-Seasons Salt</td>\n",
       "      <td>281009</td>\n",
       "      <td>3</td>\n",
       "      <td>0</td>\n",
       "      <td>pantry</td>\n",
       "      <td>spices seasonings</td>\n",
       "    </tr>\n",
       "    <tr>\n",
       "      <th>2887560</th>\n",
       "      <td>2</td>\n",
       "      <td>All-Seasons Salt</td>\n",
       "      <td>294464</td>\n",
       "      <td>11</td>\n",
       "      <td>0</td>\n",
       "      <td>pantry</td>\n",
       "      <td>spices seasonings</td>\n",
       "    </tr>\n",
       "    <tr>\n",
       "      <th>2887561</th>\n",
       "      <td>2</td>\n",
       "      <td>All-Seasons Salt</td>\n",
       "      <td>339467</td>\n",
       "      <td>11</td>\n",
       "      <td>0</td>\n",
       "      <td>pantry</td>\n",
       "      <td>spices seasonings</td>\n",
       "    </tr>\n",
       "    <tr>\n",
       "      <th>2887562</th>\n",
       "      <td>2</td>\n",
       "      <td>All-Seasons Salt</td>\n",
       "      <td>375254</td>\n",
       "      <td>5</td>\n",
       "      <td>0</td>\n",
       "      <td>pantry</td>\n",
       "      <td>spices seasonings</td>\n",
       "    </tr>\n",
       "    <tr>\n",
       "      <th>2887563</th>\n",
       "      <td>2</td>\n",
       "      <td>All-Seasons Salt</td>\n",
       "      <td>511190</td>\n",
       "      <td>1</td>\n",
       "      <td>0</td>\n",
       "      <td>pantry</td>\n",
       "      <td>spices seasonings</td>\n",
       "    </tr>\n",
       "    <tr>\n",
       "      <th>2887564</th>\n",
       "      <td>2</td>\n",
       "      <td>All-Seasons Salt</td>\n",
       "      <td>571389</td>\n",
       "      <td>14</td>\n",
       "      <td>0</td>\n",
       "      <td>pantry</td>\n",
       "      <td>spices seasonings</td>\n",
       "    </tr>\n",
       "    <tr>\n",
       "      <th>2887565</th>\n",
       "      <td>2</td>\n",
       "      <td>All-Seasons Salt</td>\n",
       "      <td>600201</td>\n",
       "      <td>45</td>\n",
       "      <td>0</td>\n",
       "      <td>pantry</td>\n",
       "      <td>spices seasonings</td>\n",
       "    </tr>\n",
       "    <tr>\n",
       "      <th>2887566</th>\n",
       "      <td>2</td>\n",
       "      <td>All-Seasons Salt</td>\n",
       "      <td>666580</td>\n",
       "      <td>6</td>\n",
       "      <td>1</td>\n",
       "      <td>pantry</td>\n",
       "      <td>spices seasonings</td>\n",
       "    </tr>\n",
       "    <tr>\n",
       "      <th>2887567</th>\n",
       "      <td>2</td>\n",
       "      <td>All-Seasons Salt</td>\n",
       "      <td>734430</td>\n",
       "      <td>9</td>\n",
       "      <td>0</td>\n",
       "      <td>pantry</td>\n",
       "      <td>spices seasonings</td>\n",
       "    </tr>\n",
       "    <tr>\n",
       "      <th>2887568</th>\n",
       "      <td>2</td>\n",
       "      <td>All-Seasons Salt</td>\n",
       "      <td>814451</td>\n",
       "      <td>9</td>\n",
       "      <td>0</td>\n",
       "      <td>pantry</td>\n",
       "      <td>spices seasonings</td>\n",
       "    </tr>\n",
       "    <tr>\n",
       "      <th>2887569</th>\n",
       "      <td>2</td>\n",
       "      <td>All-Seasons Salt</td>\n",
       "      <td>900210</td>\n",
       "      <td>12</td>\n",
       "      <td>0</td>\n",
       "      <td>pantry</td>\n",
       "      <td>spices seasonings</td>\n",
       "    </tr>\n",
       "    <tr>\n",
       "      <th>2887570</th>\n",
       "      <td>2</td>\n",
       "      <td>All-Seasons Salt</td>\n",
       "      <td>929650</td>\n",
       "      <td>13</td>\n",
       "      <td>0</td>\n",
       "      <td>pantry</td>\n",
       "      <td>spices seasonings</td>\n",
       "    </tr>\n",
       "    <tr>\n",
       "      <th>2887571</th>\n",
       "      <td>2</td>\n",
       "      <td>All-Seasons Salt</td>\n",
       "      <td>956627</td>\n",
       "      <td>5</td>\n",
       "      <td>0</td>\n",
       "      <td>pantry</td>\n",
       "      <td>spices seasonings</td>\n",
       "    </tr>\n",
       "    <tr>\n",
       "      <th>2887572</th>\n",
       "      <td>2</td>\n",
       "      <td>All-Seasons Salt</td>\n",
       "      <td>1034307</td>\n",
       "      <td>13</td>\n",
       "      <td>1</td>\n",
       "      <td>pantry</td>\n",
       "      <td>spices seasonings</td>\n",
       "    </tr>\n",
       "    <tr>\n",
       "      <th>2887573</th>\n",
       "      <td>2</td>\n",
       "      <td>All-Seasons Salt</td>\n",
       "      <td>1085243</td>\n",
       "      <td>10</td>\n",
       "      <td>1</td>\n",
       "      <td>pantry</td>\n",
       "      <td>spices seasonings</td>\n",
       "    </tr>\n",
       "    <tr>\n",
       "      <th>2887574</th>\n",
       "      <td>2</td>\n",
       "      <td>All-Seasons Salt</td>\n",
       "      <td>1136817</td>\n",
       "      <td>4</td>\n",
       "      <td>0</td>\n",
       "      <td>pantry</td>\n",
       "      <td>spices seasonings</td>\n",
       "    </tr>\n",
       "    <tr>\n",
       "      <th>2887575</th>\n",
       "      <td>2</td>\n",
       "      <td>All-Seasons Salt</td>\n",
       "      <td>1155025</td>\n",
       "      <td>9</td>\n",
       "      <td>1</td>\n",
       "      <td>pantry</td>\n",
       "      <td>spices seasonings</td>\n",
       "    </tr>\n",
       "    <tr>\n",
       "      <th>2887576</th>\n",
       "      <td>2</td>\n",
       "      <td>All-Seasons Salt</td>\n",
       "      <td>1164024</td>\n",
       "      <td>8</td>\n",
       "      <td>0</td>\n",
       "      <td>pantry</td>\n",
       "      <td>spices seasonings</td>\n",
       "    </tr>\n",
       "    <tr>\n",
       "      <th>2887577</th>\n",
       "      <td>2</td>\n",
       "      <td>All-Seasons Salt</td>\n",
       "      <td>1198842</td>\n",
       "      <td>6</td>\n",
       "      <td>0</td>\n",
       "      <td>pantry</td>\n",
       "      <td>spices seasonings</td>\n",
       "    </tr>\n",
       "    <tr>\n",
       "      <th>2887578</th>\n",
       "      <td>2</td>\n",
       "      <td>All-Seasons Salt</td>\n",
       "      <td>1224162</td>\n",
       "      <td>2</td>\n",
       "      <td>0</td>\n",
       "      <td>pantry</td>\n",
       "      <td>spices seasonings</td>\n",
       "    </tr>\n",
       "    <tr>\n",
       "      <th>2887579</th>\n",
       "      <td>2</td>\n",
       "      <td>All-Seasons Salt</td>\n",
       "      <td>1250289</td>\n",
       "      <td>8</td>\n",
       "      <td>0</td>\n",
       "      <td>pantry</td>\n",
       "      <td>spices seasonings</td>\n",
       "    </tr>\n",
       "    <tr>\n",
       "      <th>...</th>\n",
       "      <td>...</td>\n",
       "      <td>...</td>\n",
       "      <td>...</td>\n",
       "      <td>...</td>\n",
       "      <td>...</td>\n",
       "      <td>...</td>\n",
       "      <td>...</td>\n",
       "    </tr>\n",
       "    <tr>\n",
       "      <th>32363595</th>\n",
       "      <td>49334</td>\n",
       "      <td>White Giant Hot Dog Buns</td>\n",
       "      <td>1372049</td>\n",
       "      <td>10</td>\n",
       "      <td>0</td>\n",
       "      <td>bakery</td>\n",
       "      <td>buns rolls</td>\n",
       "    </tr>\n",
       "    <tr>\n",
       "      <th>32363596</th>\n",
       "      <td>49334</td>\n",
       "      <td>White Giant Hot Dog Buns</td>\n",
       "      <td>1418469</td>\n",
       "      <td>10</td>\n",
       "      <td>0</td>\n",
       "      <td>bakery</td>\n",
       "      <td>buns rolls</td>\n",
       "    </tr>\n",
       "    <tr>\n",
       "      <th>32363597</th>\n",
       "      <td>49334</td>\n",
       "      <td>White Giant Hot Dog Buns</td>\n",
       "      <td>1484830</td>\n",
       "      <td>4</td>\n",
       "      <td>1</td>\n",
       "      <td>bakery</td>\n",
       "      <td>buns rolls</td>\n",
       "    </tr>\n",
       "    <tr>\n",
       "      <th>32363598</th>\n",
       "      <td>49334</td>\n",
       "      <td>White Giant Hot Dog Buns</td>\n",
       "      <td>1492505</td>\n",
       "      <td>9</td>\n",
       "      <td>1</td>\n",
       "      <td>bakery</td>\n",
       "      <td>buns rolls</td>\n",
       "    </tr>\n",
       "    <tr>\n",
       "      <th>32363599</th>\n",
       "      <td>49334</td>\n",
       "      <td>White Giant Hot Dog Buns</td>\n",
       "      <td>1603358</td>\n",
       "      <td>18</td>\n",
       "      <td>0</td>\n",
       "      <td>bakery</td>\n",
       "      <td>buns rolls</td>\n",
       "    </tr>\n",
       "    <tr>\n",
       "      <th>32363600</th>\n",
       "      <td>49334</td>\n",
       "      <td>White Giant Hot Dog Buns</td>\n",
       "      <td>1611267</td>\n",
       "      <td>5</td>\n",
       "      <td>0</td>\n",
       "      <td>bakery</td>\n",
       "      <td>buns rolls</td>\n",
       "    </tr>\n",
       "    <tr>\n",
       "      <th>32363601</th>\n",
       "      <td>49334</td>\n",
       "      <td>White Giant Hot Dog Buns</td>\n",
       "      <td>1675567</td>\n",
       "      <td>4</td>\n",
       "      <td>1</td>\n",
       "      <td>bakery</td>\n",
       "      <td>buns rolls</td>\n",
       "    </tr>\n",
       "    <tr>\n",
       "      <th>32363602</th>\n",
       "      <td>49334</td>\n",
       "      <td>White Giant Hot Dog Buns</td>\n",
       "      <td>1685995</td>\n",
       "      <td>3</td>\n",
       "      <td>0</td>\n",
       "      <td>bakery</td>\n",
       "      <td>buns rolls</td>\n",
       "    </tr>\n",
       "    <tr>\n",
       "      <th>32363603</th>\n",
       "      <td>49334</td>\n",
       "      <td>White Giant Hot Dog Buns</td>\n",
       "      <td>1945174</td>\n",
       "      <td>4</td>\n",
       "      <td>0</td>\n",
       "      <td>bakery</td>\n",
       "      <td>buns rolls</td>\n",
       "    </tr>\n",
       "    <tr>\n",
       "      <th>32363604</th>\n",
       "      <td>49334</td>\n",
       "      <td>White Giant Hot Dog Buns</td>\n",
       "      <td>1948134</td>\n",
       "      <td>33</td>\n",
       "      <td>0</td>\n",
       "      <td>bakery</td>\n",
       "      <td>buns rolls</td>\n",
       "    </tr>\n",
       "    <tr>\n",
       "      <th>32363605</th>\n",
       "      <td>49334</td>\n",
       "      <td>White Giant Hot Dog Buns</td>\n",
       "      <td>1951340</td>\n",
       "      <td>6</td>\n",
       "      <td>0</td>\n",
       "      <td>bakery</td>\n",
       "      <td>buns rolls</td>\n",
       "    </tr>\n",
       "    <tr>\n",
       "      <th>32363606</th>\n",
       "      <td>49334</td>\n",
       "      <td>White Giant Hot Dog Buns</td>\n",
       "      <td>2129845</td>\n",
       "      <td>1</td>\n",
       "      <td>0</td>\n",
       "      <td>bakery</td>\n",
       "      <td>buns rolls</td>\n",
       "    </tr>\n",
       "    <tr>\n",
       "      <th>32363607</th>\n",
       "      <td>49334</td>\n",
       "      <td>White Giant Hot Dog Buns</td>\n",
       "      <td>2152418</td>\n",
       "      <td>1</td>\n",
       "      <td>0</td>\n",
       "      <td>bakery</td>\n",
       "      <td>buns rolls</td>\n",
       "    </tr>\n",
       "    <tr>\n",
       "      <th>32363608</th>\n",
       "      <td>49334</td>\n",
       "      <td>White Giant Hot Dog Buns</td>\n",
       "      <td>2174348</td>\n",
       "      <td>12</td>\n",
       "      <td>0</td>\n",
       "      <td>bakery</td>\n",
       "      <td>buns rolls</td>\n",
       "    </tr>\n",
       "    <tr>\n",
       "      <th>32363609</th>\n",
       "      <td>49334</td>\n",
       "      <td>White Giant Hot Dog Buns</td>\n",
       "      <td>2285787</td>\n",
       "      <td>8</td>\n",
       "      <td>0</td>\n",
       "      <td>bakery</td>\n",
       "      <td>buns rolls</td>\n",
       "    </tr>\n",
       "    <tr>\n",
       "      <th>32363610</th>\n",
       "      <td>49334</td>\n",
       "      <td>White Giant Hot Dog Buns</td>\n",
       "      <td>2306500</td>\n",
       "      <td>4</td>\n",
       "      <td>0</td>\n",
       "      <td>bakery</td>\n",
       "      <td>buns rolls</td>\n",
       "    </tr>\n",
       "    <tr>\n",
       "      <th>32363611</th>\n",
       "      <td>49334</td>\n",
       "      <td>White Giant Hot Dog Buns</td>\n",
       "      <td>2312993</td>\n",
       "      <td>4</td>\n",
       "      <td>0</td>\n",
       "      <td>bakery</td>\n",
       "      <td>buns rolls</td>\n",
       "    </tr>\n",
       "    <tr>\n",
       "      <th>32363612</th>\n",
       "      <td>49334</td>\n",
       "      <td>White Giant Hot Dog Buns</td>\n",
       "      <td>2335091</td>\n",
       "      <td>16</td>\n",
       "      <td>0</td>\n",
       "      <td>bakery</td>\n",
       "      <td>buns rolls</td>\n",
       "    </tr>\n",
       "    <tr>\n",
       "      <th>32363613</th>\n",
       "      <td>49334</td>\n",
       "      <td>White Giant Hot Dog Buns</td>\n",
       "      <td>2386534</td>\n",
       "      <td>3</td>\n",
       "      <td>0</td>\n",
       "      <td>bakery</td>\n",
       "      <td>buns rolls</td>\n",
       "    </tr>\n",
       "    <tr>\n",
       "      <th>32363614</th>\n",
       "      <td>49334</td>\n",
       "      <td>White Giant Hot Dog Buns</td>\n",
       "      <td>2482412</td>\n",
       "      <td>4</td>\n",
       "      <td>0</td>\n",
       "      <td>bakery</td>\n",
       "      <td>buns rolls</td>\n",
       "    </tr>\n",
       "    <tr>\n",
       "      <th>32363615</th>\n",
       "      <td>49334</td>\n",
       "      <td>White Giant Hot Dog Buns</td>\n",
       "      <td>2859367</td>\n",
       "      <td>3</td>\n",
       "      <td>0</td>\n",
       "      <td>bakery</td>\n",
       "      <td>buns rolls</td>\n",
       "    </tr>\n",
       "    <tr>\n",
       "      <th>32363616</th>\n",
       "      <td>49334</td>\n",
       "      <td>White Giant Hot Dog Buns</td>\n",
       "      <td>2924299</td>\n",
       "      <td>4</td>\n",
       "      <td>0</td>\n",
       "      <td>bakery</td>\n",
       "      <td>buns rolls</td>\n",
       "    </tr>\n",
       "    <tr>\n",
       "      <th>32363617</th>\n",
       "      <td>49334</td>\n",
       "      <td>White Giant Hot Dog Buns</td>\n",
       "      <td>3023202</td>\n",
       "      <td>9</td>\n",
       "      <td>1</td>\n",
       "      <td>bakery</td>\n",
       "      <td>buns rolls</td>\n",
       "    </tr>\n",
       "    <tr>\n",
       "      <th>32363618</th>\n",
       "      <td>49334</td>\n",
       "      <td>White Giant Hot Dog Buns</td>\n",
       "      <td>3074127</td>\n",
       "      <td>3</td>\n",
       "      <td>1</td>\n",
       "      <td>bakery</td>\n",
       "      <td>buns rolls</td>\n",
       "    </tr>\n",
       "    <tr>\n",
       "      <th>32363619</th>\n",
       "      <td>49334</td>\n",
       "      <td>White Giant Hot Dog Buns</td>\n",
       "      <td>3094037</td>\n",
       "      <td>4</td>\n",
       "      <td>0</td>\n",
       "      <td>bakery</td>\n",
       "      <td>buns rolls</td>\n",
       "    </tr>\n",
       "    <tr>\n",
       "      <th>32363620</th>\n",
       "      <td>49334</td>\n",
       "      <td>White Giant Hot Dog Buns</td>\n",
       "      <td>3145464</td>\n",
       "      <td>8</td>\n",
       "      <td>0</td>\n",
       "      <td>bakery</td>\n",
       "      <td>buns rolls</td>\n",
       "    </tr>\n",
       "    <tr>\n",
       "      <th>32363621</th>\n",
       "      <td>49334</td>\n",
       "      <td>White Giant Hot Dog Buns</td>\n",
       "      <td>3216442</td>\n",
       "      <td>8</td>\n",
       "      <td>0</td>\n",
       "      <td>bakery</td>\n",
       "      <td>buns rolls</td>\n",
       "    </tr>\n",
       "    <tr>\n",
       "      <th>32363622</th>\n",
       "      <td>49334</td>\n",
       "      <td>White Giant Hot Dog Buns</td>\n",
       "      <td>3307622</td>\n",
       "      <td>2</td>\n",
       "      <td>0</td>\n",
       "      <td>bakery</td>\n",
       "      <td>buns rolls</td>\n",
       "    </tr>\n",
       "    <tr>\n",
       "      <th>32363623</th>\n",
       "      <td>49334</td>\n",
       "      <td>White Giant Hot Dog Buns</td>\n",
       "      <td>3356253</td>\n",
       "      <td>11</td>\n",
       "      <td>0</td>\n",
       "      <td>bakery</td>\n",
       "      <td>buns rolls</td>\n",
       "    </tr>\n",
       "    <tr>\n",
       "      <th>32363624</th>\n",
       "      <td>49334</td>\n",
       "      <td>White Giant Hot Dog Buns</td>\n",
       "      <td>3419489</td>\n",
       "      <td>15</td>\n",
       "      <td>0</td>\n",
       "      <td>bakery</td>\n",
       "      <td>buns rolls</td>\n",
       "    </tr>\n",
       "  </tbody>\n",
       "</table>\n",
       "<p>22920927 rows × 7 columns</p>\n",
       "</div>"
      ],
      "text/plain": [
       "          product_id              product_name  order_id  add_to_cart_order  \\\n",
       "2887550            2          All-Seasons Salt     12209                 20   \n",
       "2887551            2          All-Seasons Salt     59102                 15   \n",
       "2887552            2          All-Seasons Salt    105042                  1   \n",
       "2887553            2          All-Seasons Salt    116256                 17   \n",
       "2887554            2          All-Seasons Salt    199992                 17   \n",
       "2887555            2          All-Seasons Salt    200610                  1   \n",
       "2887556            2          All-Seasons Salt    220800                 10   \n",
       "2887557            2          All-Seasons Salt    228831                 24   \n",
       "2887558            2          All-Seasons Salt    248800                 18   \n",
       "2887559            2          All-Seasons Salt    281009                  3   \n",
       "2887560            2          All-Seasons Salt    294464                 11   \n",
       "2887561            2          All-Seasons Salt    339467                 11   \n",
       "2887562            2          All-Seasons Salt    375254                  5   \n",
       "2887563            2          All-Seasons Salt    511190                  1   \n",
       "2887564            2          All-Seasons Salt    571389                 14   \n",
       "2887565            2          All-Seasons Salt    600201                 45   \n",
       "2887566            2          All-Seasons Salt    666580                  6   \n",
       "2887567            2          All-Seasons Salt    734430                  9   \n",
       "2887568            2          All-Seasons Salt    814451                  9   \n",
       "2887569            2          All-Seasons Salt    900210                 12   \n",
       "2887570            2          All-Seasons Salt    929650                 13   \n",
       "2887571            2          All-Seasons Salt    956627                  5   \n",
       "2887572            2          All-Seasons Salt   1034307                 13   \n",
       "2887573            2          All-Seasons Salt   1085243                 10   \n",
       "2887574            2          All-Seasons Salt   1136817                  4   \n",
       "2887575            2          All-Seasons Salt   1155025                  9   \n",
       "2887576            2          All-Seasons Salt   1164024                  8   \n",
       "2887577            2          All-Seasons Salt   1198842                  6   \n",
       "2887578            2          All-Seasons Salt   1224162                  2   \n",
       "2887579            2          All-Seasons Salt   1250289                  8   \n",
       "...              ...                       ...       ...                ...   \n",
       "32363595       49334  White Giant Hot Dog Buns   1372049                 10   \n",
       "32363596       49334  White Giant Hot Dog Buns   1418469                 10   \n",
       "32363597       49334  White Giant Hot Dog Buns   1484830                  4   \n",
       "32363598       49334  White Giant Hot Dog Buns   1492505                  9   \n",
       "32363599       49334  White Giant Hot Dog Buns   1603358                 18   \n",
       "32363600       49334  White Giant Hot Dog Buns   1611267                  5   \n",
       "32363601       49334  White Giant Hot Dog Buns   1675567                  4   \n",
       "32363602       49334  White Giant Hot Dog Buns   1685995                  3   \n",
       "32363603       49334  White Giant Hot Dog Buns   1945174                  4   \n",
       "32363604       49334  White Giant Hot Dog Buns   1948134                 33   \n",
       "32363605       49334  White Giant Hot Dog Buns   1951340                  6   \n",
       "32363606       49334  White Giant Hot Dog Buns   2129845                  1   \n",
       "32363607       49334  White Giant Hot Dog Buns   2152418                  1   \n",
       "32363608       49334  White Giant Hot Dog Buns   2174348                 12   \n",
       "32363609       49334  White Giant Hot Dog Buns   2285787                  8   \n",
       "32363610       49334  White Giant Hot Dog Buns   2306500                  4   \n",
       "32363611       49334  White Giant Hot Dog Buns   2312993                  4   \n",
       "32363612       49334  White Giant Hot Dog Buns   2335091                 16   \n",
       "32363613       49334  White Giant Hot Dog Buns   2386534                  3   \n",
       "32363614       49334  White Giant Hot Dog Buns   2482412                  4   \n",
       "32363615       49334  White Giant Hot Dog Buns   2859367                  3   \n",
       "32363616       49334  White Giant Hot Dog Buns   2924299                  4   \n",
       "32363617       49334  White Giant Hot Dog Buns   3023202                  9   \n",
       "32363618       49334  White Giant Hot Dog Buns   3074127                  3   \n",
       "32363619       49334  White Giant Hot Dog Buns   3094037                  4   \n",
       "32363620       49334  White Giant Hot Dog Buns   3145464                  8   \n",
       "32363621       49334  White Giant Hot Dog Buns   3216442                  8   \n",
       "32363622       49334  White Giant Hot Dog Buns   3307622                  2   \n",
       "32363623       49334  White Giant Hot Dog Buns   3356253                 11   \n",
       "32363624       49334  White Giant Hot Dog Buns   3419489                 15   \n",
       "\n",
       "          reordered department              aisle  \n",
       "2887550           0     pantry  spices seasonings  \n",
       "2887551           0     pantry  spices seasonings  \n",
       "2887552           0     pantry  spices seasonings  \n",
       "2887553           0     pantry  spices seasonings  \n",
       "2887554           1     pantry  spices seasonings  \n",
       "2887555           0     pantry  spices seasonings  \n",
       "2887556           0     pantry  spices seasonings  \n",
       "2887557           0     pantry  spices seasonings  \n",
       "2887558           0     pantry  spices seasonings  \n",
       "2887559           0     pantry  spices seasonings  \n",
       "2887560           0     pantry  spices seasonings  \n",
       "2887561           0     pantry  spices seasonings  \n",
       "2887562           0     pantry  spices seasonings  \n",
       "2887563           0     pantry  spices seasonings  \n",
       "2887564           0     pantry  spices seasonings  \n",
       "2887565           0     pantry  spices seasonings  \n",
       "2887566           1     pantry  spices seasonings  \n",
       "2887567           0     pantry  spices seasonings  \n",
       "2887568           0     pantry  spices seasonings  \n",
       "2887569           0     pantry  spices seasonings  \n",
       "2887570           0     pantry  spices seasonings  \n",
       "2887571           0     pantry  spices seasonings  \n",
       "2887572           1     pantry  spices seasonings  \n",
       "2887573           1     pantry  spices seasonings  \n",
       "2887574           0     pantry  spices seasonings  \n",
       "2887575           1     pantry  spices seasonings  \n",
       "2887576           0     pantry  spices seasonings  \n",
       "2887577           0     pantry  spices seasonings  \n",
       "2887578           0     pantry  spices seasonings  \n",
       "2887579           0     pantry  spices seasonings  \n",
       "...             ...        ...                ...  \n",
       "32363595          0     bakery         buns rolls  \n",
       "32363596          0     bakery         buns rolls  \n",
       "32363597          1     bakery         buns rolls  \n",
       "32363598          1     bakery         buns rolls  \n",
       "32363599          0     bakery         buns rolls  \n",
       "32363600          0     bakery         buns rolls  \n",
       "32363601          1     bakery         buns rolls  \n",
       "32363602          0     bakery         buns rolls  \n",
       "32363603          0     bakery         buns rolls  \n",
       "32363604          0     bakery         buns rolls  \n",
       "32363605          0     bakery         buns rolls  \n",
       "32363606          0     bakery         buns rolls  \n",
       "32363607          0     bakery         buns rolls  \n",
       "32363608          0     bakery         buns rolls  \n",
       "32363609          0     bakery         buns rolls  \n",
       "32363610          0     bakery         buns rolls  \n",
       "32363611          0     bakery         buns rolls  \n",
       "32363612          0     bakery         buns rolls  \n",
       "32363613          0     bakery         buns rolls  \n",
       "32363614          0     bakery         buns rolls  \n",
       "32363615          0     bakery         buns rolls  \n",
       "32363616          0     bakery         buns rolls  \n",
       "32363617          1     bakery         buns rolls  \n",
       "32363618          1     bakery         buns rolls  \n",
       "32363619          0     bakery         buns rolls  \n",
       "32363620          0     bakery         buns rolls  \n",
       "32363621          0     bakery         buns rolls  \n",
       "32363622          0     bakery         buns rolls  \n",
       "32363623          0     bakery         buns rolls  \n",
       "32363624          0     bakery         buns rolls  \n",
       "\n",
       "[22920927 rows x 7 columns]"
      ]
     },
     "execution_count": 142,
     "metadata": {},
     "output_type": "execute_result"
    }
   ],
   "source": [
    "orders_total_prior[~orders_total_prior.department.isin([\n",
    "    'missing', 'other', 'pets', 'bulk'\n",
    "    ])]"
   ]
  },
  {
   "cell_type": "code",
   "execution_count": 145,
   "metadata": {
    "ExecuteTime": {
     "end_time": "2019-04-27T12:00:09.579831Z",
     "start_time": "2019-04-27T12:00:08.300157Z"
    },
    "colab": {},
    "colab_type": "code",
    "id": "o876rm3BXUFH",
    "slideshow": {
     "slide_type": "subslide"
    }
   },
   "outputs": [],
   "source": [
    "# Count the number of times a product from each department is bought.\n",
    "\n",
    "dept_orders = orders_total_prior.department.value_counts().to_frame(\n",
    ").sort_index(ascending=True).reset_index().rename(columns={\n",
    "    \"department\": \"orders\",\n",
    "    \"index\": \"department\"\n",
    "})"
   ]
  },
  {
   "cell_type": "code",
   "execution_count": 146,
   "metadata": {
    "ExecuteTime": {
     "end_time": "2019-04-27T12:00:10.706876Z",
     "start_time": "2019-04-27T12:00:10.699650Z"
    }
   },
   "outputs": [
    {
     "data": {
      "text/html": [
       "<div>\n",
       "<style scoped>\n",
       "    .dataframe tbody tr th:only-of-type {\n",
       "        vertical-align: middle;\n",
       "    }\n",
       "\n",
       "    .dataframe tbody tr th {\n",
       "        vertical-align: top;\n",
       "    }\n",
       "\n",
       "    .dataframe thead th {\n",
       "        text-align: right;\n",
       "    }\n",
       "</style>\n",
       "<table border=\"1\" class=\"dataframe\">\n",
       "  <thead>\n",
       "    <tr style=\"text-align: right;\">\n",
       "      <th></th>\n",
       "      <th>department</th>\n",
       "      <th>orders</th>\n",
       "    </tr>\n",
       "  </thead>\n",
       "  <tbody>\n",
       "    <tr>\n",
       "      <th>0</th>\n",
       "      <td>bakery</td>\n",
       "      <td>1176787</td>\n",
       "    </tr>\n",
       "    <tr>\n",
       "      <th>1</th>\n",
       "      <td>beverages</td>\n",
       "      <td>2690129</td>\n",
       "    </tr>\n",
       "    <tr>\n",
       "      <th>2</th>\n",
       "      <td>breakfast</td>\n",
       "      <td>709569</td>\n",
       "    </tr>\n",
       "    <tr>\n",
       "      <th>3</th>\n",
       "      <td>bulk</td>\n",
       "      <td>34573</td>\n",
       "    </tr>\n",
       "    <tr>\n",
       "      <th>4</th>\n",
       "      <td>dairy eggs</td>\n",
       "      <td>5414016</td>\n",
       "    </tr>\n",
       "  </tbody>\n",
       "</table>\n",
       "</div>"
      ],
      "text/plain": [
       "   department   orders\n",
       "0      bakery  1176787\n",
       "1   beverages  2690129\n",
       "2   breakfast   709569\n",
       "3        bulk    34573\n",
       "4  dairy eggs  5414016"
      ]
     },
     "execution_count": 146,
     "metadata": {},
     "output_type": "execute_result"
    }
   ],
   "source": [
    "dept_orders.head()"
   ]
  },
  {
   "cell_type": "code",
   "execution_count": 148,
   "metadata": {
    "ExecuteTime": {
     "end_time": "2019-04-27T12:01:13.461388Z",
     "start_time": "2019-04-27T12:01:12.017270Z"
    },
    "colab": {},
    "colab_type": "code",
    "id": "ZaW3-c7IXVPb",
    "slideshow": {
     "slide_type": "subslide"
    }
   },
   "outputs": [],
   "source": [
    "# Count the number of times a product from each department is reordered.\n",
    "\n",
    "dept_orders['reorders'] = orders_total_prior.groupby(\n",
    "    'department')['reordered'].sum().to_frame().sort_values(\n",
    "        by='reordered', ascending=True).reset_index()['reordered']"
   ]
  },
  {
   "cell_type": "code",
   "execution_count": 149,
   "metadata": {
    "ExecuteTime": {
     "end_time": "2019-04-27T12:01:18.566615Z",
     "start_time": "2019-04-27T12:01:18.559181Z"
    }
   },
   "outputs": [
    {
     "data": {
      "text/html": [
       "<div>\n",
       "<style scoped>\n",
       "    .dataframe tbody tr th:only-of-type {\n",
       "        vertical-align: middle;\n",
       "    }\n",
       "\n",
       "    .dataframe tbody tr th {\n",
       "        vertical-align: top;\n",
       "    }\n",
       "\n",
       "    .dataframe thead th {\n",
       "        text-align: right;\n",
       "    }\n",
       "</style>\n",
       "<table border=\"1\" class=\"dataframe\">\n",
       "  <thead>\n",
       "    <tr style=\"text-align: right;\">\n",
       "      <th></th>\n",
       "      <th>department</th>\n",
       "      <th>orders</th>\n",
       "      <th>reorders</th>\n",
       "    </tr>\n",
       "  </thead>\n",
       "  <tbody>\n",
       "    <tr>\n",
       "      <th>0</th>\n",
       "      <td>bakery</td>\n",
       "      <td>1176787</td>\n",
       "      <td>14806</td>\n",
       "    </tr>\n",
       "    <tr>\n",
       "      <th>1</th>\n",
       "      <td>beverages</td>\n",
       "      <td>2690129</td>\n",
       "      <td>19950</td>\n",
       "    </tr>\n",
       "    <tr>\n",
       "      <th>2</th>\n",
       "      <td>breakfast</td>\n",
       "      <td>709569</td>\n",
       "      <td>27371</td>\n",
       "    </tr>\n",
       "    <tr>\n",
       "      <th>3</th>\n",
       "      <td>bulk</td>\n",
       "      <td>34573</td>\n",
       "      <td>58760</td>\n",
       "    </tr>\n",
       "    <tr>\n",
       "      <th>4</th>\n",
       "      <td>dairy eggs</td>\n",
       "      <td>5414016</td>\n",
       "      <td>398013</td>\n",
       "    </tr>\n",
       "    <tr>\n",
       "      <th>5</th>\n",
       "      <td>dry goods pasta</td>\n",
       "      <td>866627</td>\n",
       "      <td>399581</td>\n",
       "    </tr>\n",
       "    <tr>\n",
       "      <th>6</th>\n",
       "      <td>meat seafood</td>\n",
       "      <td>708931</td>\n",
       "      <td>402442</td>\n",
       "    </tr>\n",
       "    <tr>\n",
       "      <th>7</th>\n",
       "      <td>missing</td>\n",
       "      <td>69145</td>\n",
       "      <td>650301</td>\n",
       "    </tr>\n",
       "    <tr>\n",
       "      <th>8</th>\n",
       "      <td>other</td>\n",
       "      <td>36291</td>\n",
       "      <td>739188</td>\n",
       "    </tr>\n",
       "    <tr>\n",
       "      <th>9</th>\n",
       "      <td>pantry</td>\n",
       "      <td>1875577</td>\n",
       "      <td>1757892</td>\n",
       "    </tr>\n",
       "    <tr>\n",
       "      <th>10</th>\n",
       "      <td>pets</td>\n",
       "      <td>97724</td>\n",
       "      <td>3627221</td>\n",
       "    </tr>\n",
       "    <tr>\n",
       "      <th>11</th>\n",
       "      <td>produce</td>\n",
       "      <td>9479291</td>\n",
       "      <td>6160710</td>\n",
       "    </tr>\n",
       "  </tbody>\n",
       "</table>\n",
       "</div>"
      ],
      "text/plain": [
       "         department   orders  reorders\n",
       "0            bakery  1176787     14806\n",
       "1         beverages  2690129     19950\n",
       "2         breakfast   709569     27371\n",
       "3              bulk    34573     58760\n",
       "4        dairy eggs  5414016    398013\n",
       "5   dry goods pasta   866627    399581\n",
       "6      meat seafood   708931    402442\n",
       "7           missing    69145    650301\n",
       "8             other    36291    739188\n",
       "9            pantry  1875577   1757892\n",
       "10             pets    97724   3627221\n",
       "11          produce  9479291   6160710"
      ]
     },
     "execution_count": 149,
     "metadata": {},
     "output_type": "execute_result"
    }
   ],
   "source": [
    "dept_orders"
   ]
  },
  {
   "cell_type": "code",
   "execution_count": 61,
   "metadata": {
    "ExecuteTime": {
     "end_time": "2019-04-26T22:33:50.277067Z",
     "start_time": "2019-04-26T22:33:50.272327Z"
    },
    "colab": {},
    "colab_type": "code",
    "id": "M7yfNJSfXWqx",
    "slideshow": {
     "slide_type": "subslide"
    }
   },
   "outputs": [],
   "source": [
    "# Obtain the percentage of times that a product in that department is reordered \n",
    "# with regards to total sales.\n",
    "dept_orders['perc_reorders'] = dept_orders['reorders'] / dept_orders['orders']"
   ]
  },
  {
   "cell_type": "markdown",
   "metadata": {
    "slideshow": {
     "slide_type": "subslide"
    }
   },
   "source": [
    "* What happens if I use a notion of orders that removes reorders? \n",
    "    * Detail: Orders would not intersect with the reorders set. \n",
    "\n",
    "\n",
    "* Answer: ?\n",
    "    * Hint: What happens if a department has the same number of orders but different levels of reorders. Would they be comparable?"
   ]
  },
  {
   "cell_type": "code",
   "execution_count": 126,
   "metadata": {
    "ExecuteTime": {
     "end_time": "2019-04-27T10:03:23.753848Z",
     "start_time": "2019-04-27T10:03:22.371983Z"
    },
    "colab": {},
    "colab_type": "code",
    "id": "KqeqiQ5nDQTe",
    "slideshow": {
     "slide_type": "subslide"
    }
   },
   "outputs": [
    {
     "data": {
      "text/plain": [
       "'Number of orders: 3,214,874'"
      ]
     },
     "execution_count": 126,
     "metadata": {},
     "output_type": "execute_result"
    }
   ],
   "source": [
    "# Check if we worstened our data set. Only 2k orders are lost.\n",
    "\"Number of orders: {:,}\".format(len(orders_total_prior.order_id.unique()))"
   ]
  },
  {
   "cell_type": "code",
   "execution_count": 69,
   "metadata": {
    "ExecuteTime": {
     "end_time": "2019-04-26T22:35:54.109058Z",
     "start_time": "2019-04-26T22:35:53.781049Z"
    },
    "colab": {},
    "colab_type": "code",
    "id": "CNrZ-pQeDQTp",
    "slideshow": {
     "slide_type": "subslide"
    }
   },
   "outputs": [
    {
     "data": {
      "image/png": "[encoded data removed]",
      "text/plain": [
       "<Figure size 1080x360 with 1 Axes>"
      ]
     },
     "metadata": {
      "needs_background": "light"
     },
     "output_type": "display_data"
    }
   ],
   "source": [
    "# Plot Reorder Percentage vs. Log(Sales) for each department.\n",
    "# Normalizing both axi to make the plot readable. \n",
    "\n",
    "\n",
    "import matplotlib.pyplot as plt\n",
    "%matplotlib inline\n",
    "\n",
    "# Using rcParams to set the size. \n",
    "plt.rcParams['figure.figsize'] = [15, 5]\n",
    "\n",
    "# Simulating a pandas df['type'] column to plot text next to each point.\n",
    "types = dept_orders['department']\n",
    "x_coords = np.log10(dept_orders['orders'])\n",
    "y_coords = dept_orders['perc_reorders']\n",
    "\n",
    "for i, type in enumerate(types):\n",
    "    x = x_coords[i]\n",
    "    y = y_coords[i]\n",
    "    # Plot scatter to plot points\n",
    "    plt.scatter(x, y, marker='x', color='red')\n",
    "    # Plot text to add text next to points\n",
    "    plt.text(x, y, type, fontsize=9)\n",
    "\n",
    "# Add title and axis names\n",
    "plt.title('Reorders vs. Orders by Department')\n",
    "plt.xlabel('Log Number of Orders')\n",
    "plt.ylabel('Percentage or Reorders')\n",
    "\n",
    "plt.show()"
   ]
  },
  {
   "cell_type": "markdown",
   "metadata": {
    "ExecuteTime": {
     "end_time": "2019-04-26T22:38:13.646698Z",
     "start_time": "2019-04-26T22:38:13.626313Z"
    },
    "slideshow": {
     "slide_type": "subslide"
    }
   },
   "source": [
    "* Basic fresh products are ordered more often (more users) while they're not often reordered. \n",
    "* Personal Care is reordered more often but purchased fewer times.\n",
    "\n",
    "What does this say about how users use the instacart service?\n",
    "\n",
    "<img src=\"reordersvsdept.png\" alt=\"Recommender\" style=\"width:1400px; height:600px;\">"
   ]
  },
  {
   "cell_type": "markdown",
   "metadata": {
    "slideshow": {
     "slide_type": "subslide"
    }
   },
   "source": [
    "<b> People use instacart as a convenience service. Not as their main source for groceries. </b>\n",
    "\n",
    "<b> People reorder periodically non perishable products. Like Dollar Shave Club.  </b>\n",
    "\n",
    "<img src=\"https://img.moneysavingmom.com/wp-content/uploads/2016/11/Screenshot-2016-11-18-15.53.35.png\" alt=\"Recommender\" style=\"width:500px; height:400px;\">"
   ]
  },
  {
   "cell_type": "code",
   "execution_count": 19,
   "metadata": {
    "ExecuteTime": {
     "end_time": "2019-04-26T22:13:44.249725Z",
     "start_time": "2019-04-26T22:13:44.247070Z"
    },
    "colab": {},
    "colab_type": "code",
    "id": "7Dn4DrTaZxN3",
    "slideshow": {
     "slide_type": "skip"
    }
   },
   "outputs": [],
   "source": [
    "del dept_orders"
   ]
  },
  {
   "cell_type": "markdown",
   "metadata": {
    "colab_type": "text",
    "id": "aTP77n1EDQTL",
    "slideshow": {
     "slide_type": "subslide"
    }
   },
   "source": [
    "#### Aisles"
   ]
  },
  {
   "cell_type": "code",
   "execution_count": 127,
   "metadata": {
    "ExecuteTime": {
     "end_time": "2019-04-27T10:12:47.458450Z",
     "start_time": "2019-04-27T10:12:44.579160Z"
    }
   },
   "outputs": [
    {
     "data": {
      "text/plain": [
       "'Number of Aisles: 134'"
      ]
     },
     "metadata": {},
     "output_type": "display_data"
    },
    {
     "name": "stdout",
     "output_type": "stream",
     "text": [
      "- cookies cakes\n",
      "- ice cream toppings\n",
      "- energy granola bars\n",
      "- chips pretzels\n",
      "- crackers\n",
      "- popcorn jerky\n",
      "- fruit vegetable snacks\n",
      "- candy chocolate\n",
      "- mint gum\n",
      "- nuts seeds dried fruit\n",
      "- trail mix snack mix\n",
      "- spices seasonings\n",
      "- marinades meat preparation\n",
      "- doughs gelatins bake mixes\n",
      "- salad dressing toppings\n",
      "- spreads\n",
      "- oils vinegars\n",
      "- baking supplies decor\n",
      "- preserved dips spreads\n",
      "- honeys syrups nectars\n",
      "- baking ingredients\n",
      "- condiments\n",
      "- pickled goods olives\n",
      "- tea\n",
      "- juice nectars\n",
      "- water seltzer sparkling water\n",
      "- refrigerated\n",
      "- energy sports drinks\n",
      "- coffee\n",
      "- soft drinks\n",
      "- cocoa drink mixes\n",
      "- frozen meals\n",
      "- frozen produce\n",
      "- frozen dessert\n",
      "- frozen pizza\n",
      "- frozen breads doughs\n",
      "- frozen meat seafood\n",
      "- ice cream ice\n",
      "- frozen appetizers sides\n",
      "- frozen breakfast\n",
      "- frozen vegan vegetarian\n",
      "- frozen juice\n",
      "- cold flu allergy\n",
      "- oral hygiene\n",
      "- vitamins supplements\n",
      "- body lotions soap\n",
      "- hair care\n",
      "- protein meal replacements\n",
      "- digestion\n",
      "- first aid\n",
      "- skin care\n",
      "- beauty\n",
      "- soap\n",
      "- facial care\n",
      "- feminine care\n",
      "- eye ear care\n",
      "- deodorants\n",
      "- muscles joints pain relief\n",
      "- shave needs\n",
      "- yogurt\n",
      "- specialty cheeses\n",
      "- packaged cheese\n",
      "- other creams cheeses\n",
      "- soy lactosefree\n",
      "- milk\n",
      "- cream\n",
      "- butter\n",
      "- refrigerated pudding desserts\n",
      "- eggs\n",
      "- dish detergents\n",
      "- more household\n",
      "- plates bowls cups flatware\n",
      "- kitchen supplies\n",
      "- laundry\n",
      "- cleaning products\n",
      "- food storage\n",
      "- air fresheners candles\n",
      "- paper goods\n",
      "- trash bags liners\n",
      "- diapers wipes\n",
      "- baby food formula\n",
      "- baby accessories\n",
      "- baby bath body care\n",
      "- poultry counter\n",
      "- packaged poultry\n",
      "- hot dogs bacon sausage\n",
      "- packaged meat\n",
      "- meat counter\n",
      "- packaged seafood\n",
      "- seafood counter\n",
      "- grains rice dried goods\n",
      "- dry pasta\n",
      "- pasta sauce\n",
      "- fresh pasta\n",
      "- instant foods\n",
      "- dog food care\n",
      "- cat food care\n",
      "- cereal\n",
      "- hot cereal pancake mixes\n",
      "- breakfast bars pastries\n",
      "- granola\n",
      "- canned jarred vegetables\n",
      "- soup broth bouillon\n",
      "- canned meat seafood\n",
      "- canned meals beans\n",
      "- canned fruit applesauce\n",
      "- packaged vegetables fruits\n",
      "- fresh vegetables\n",
      "- fresh fruits\n",
      "- fresh herbs\n",
      "- packaged produce\n",
      "- missing\n",
      "- asian foods\n",
      "- kosher foods\n",
      "- latino foods\n",
      "- indian foods\n",
      "- tofu meat alternatives\n",
      "- lunch meat\n",
      "- prepared meals\n",
      "- fresh dips tapenades\n",
      "- prepared soups salads\n",
      "- specialty wines champagnes\n",
      "- white wines\n",
      "- spirits\n",
      "- beers coolers\n",
      "- red wines\n",
      "- tortillas flat bread\n",
      "- bread\n",
      "- breakfast bakery\n",
      "- bakery desserts\n",
      "- buns rolls\n",
      "- other\n",
      "- bulk grains rice dried goods\n",
      "- bulk dried fruits vegetables\n"
     ]
    }
   ],
   "source": [
    "display(\"Number of Aisles: {:,}\".format(len(orders_total_prior.aisle.unique())))\n",
    "for i in list(orders_total_prior.aisle.unique()):\n",
    "    print('-', i)"
   ]
  },
  {
   "cell_type": "code",
   "execution_count": 128,
   "metadata": {
    "ExecuteTime": {
     "end_time": "2019-04-27T10:13:13.002055Z",
     "start_time": "2019-04-27T10:13:08.311469Z"
    },
    "colab": {},
    "colab_type": "code",
    "id": "KySQfFc9Q62c",
    "slideshow": {
     "slide_type": "-"
    }
   },
   "outputs": [],
   "source": [
    "orders_total_prior = orders_total_prior[~orders_total_prior.department.isin([\n",
    "    'household', 'personal care', 'babies', 'international', 'personal care', 'alcohol', 'snacks', 'frozen', 'deli', \n",
    "    'canned goods'\n",
    "    ])]"
   ]
  },
  {
   "cell_type": "code",
   "execution_count": 129,
   "metadata": {
    "ExecuteTime": {
     "end_time": "2019-04-27T10:13:15.678014Z",
     "start_time": "2019-04-27T10:13:14.813213Z"
    }
   },
   "outputs": [
    {
     "data": {
      "text/plain": [
       "'Number of Aisles: 62'"
      ]
     },
     "metadata": {},
     "output_type": "display_data"
    }
   ],
   "source": [
    "display(\"Number of Aisles: {:,}\".format(len(orders_total_prior.aisle.unique())))"
   ]
  },
  {
   "cell_type": "code",
   "execution_count": 131,
   "metadata": {
    "ExecuteTime": {
     "end_time": "2019-04-27T10:13:46.202939Z",
     "start_time": "2019-04-27T10:13:45.492912Z"
    },
    "colab": {},
    "colab_type": "code",
    "id": "gWZw1B_9WKTO",
    "slideshow": {
     "slide_type": "subslide"
    }
   },
   "outputs": [
    {
     "data": {
      "text/plain": [
       "'Number of orders: 3,110,132'"
      ]
     },
     "execution_count": 131,
     "metadata": {},
     "output_type": "execute_result"
    }
   ],
   "source": [
    "# We haven't lost too many orders.\n",
    "\"Number of orders: {:,}\".format(len(orders_total_prior.order_id.unique()))"
   ]
  },
  {
   "cell_type": "code",
   "execution_count": 23,
   "metadata": {
    "ExecuteTime": {
     "end_time": "2019-04-26T22:13:57.372921Z",
     "start_time": "2019-04-26T22:13:56.180427Z"
    },
    "colab": {},
    "colab_type": "code",
    "id": "W5ez34jnS9Dk",
    "slideshow": {
     "slide_type": "subslide"
    }
   },
   "outputs": [
    {
     "data": {
      "text/html": [
       "<div>\n",
       "<style scoped>\n",
       "    .dataframe tbody tr th:only-of-type {\n",
       "        vertical-align: middle;\n",
       "    }\n",
       "\n",
       "    .dataframe tbody tr th {\n",
       "        vertical-align: top;\n",
       "    }\n",
       "\n",
       "    .dataframe thead th {\n",
       "        text-align: right;\n",
       "    }\n",
       "</style>\n",
       "<table border=\"1\" class=\"dataframe\">\n",
       "  <thead>\n",
       "    <tr style=\"text-align: right;\">\n",
       "      <th></th>\n",
       "      <th>product_id</th>\n",
       "      <th>product_name</th>\n",
       "      <th>order_id</th>\n",
       "      <th>add_to_cart_order</th>\n",
       "      <th>reordered</th>\n",
       "      <th>department</th>\n",
       "      <th>aisle</th>\n",
       "    </tr>\n",
       "  </thead>\n",
       "  <tbody>\n",
       "    <tr>\n",
       "      <th>12097289</th>\n",
       "      <td>22035</td>\n",
       "      <td>Organic Whole String Cheese</td>\n",
       "      <td>237067</td>\n",
       "      <td>2</td>\n",
       "      <td>1</td>\n",
       "      <td>dairy eggs</td>\n",
       "      <td>packaged cheese</td>\n",
       "    </tr>\n",
       "    <tr>\n",
       "      <th>31400778</th>\n",
       "      <td>2855</td>\n",
       "      <td>Organic Good Seed Bread</td>\n",
       "      <td>1523312</td>\n",
       "      <td>2</td>\n",
       "      <td>1</td>\n",
       "      <td>bakery</td>\n",
       "      <td>bread</td>\n",
       "    </tr>\n",
       "    <tr>\n",
       "      <th>25544192</th>\n",
       "      <td>5876</td>\n",
       "      <td>Organic Lemon</td>\n",
       "      <td>2862707</td>\n",
       "      <td>4</td>\n",
       "      <td>1</td>\n",
       "      <td>produce</td>\n",
       "      <td>fresh fruits</td>\n",
       "    </tr>\n",
       "    <tr>\n",
       "      <th>28494964</th>\n",
       "      <td>47209</td>\n",
       "      <td>Organic Hass Avocado</td>\n",
       "      <td>1564022</td>\n",
       "      <td>16</td>\n",
       "      <td>1</td>\n",
       "      <td>produce</td>\n",
       "      <td>fresh fruits</td>\n",
       "    </tr>\n",
       "    <tr>\n",
       "      <th>29015992</th>\n",
       "      <td>4086</td>\n",
       "      <td>Mint</td>\n",
       "      <td>1335719</td>\n",
       "      <td>23</td>\n",
       "      <td>1</td>\n",
       "      <td>produce</td>\n",
       "      <td>fresh herbs</td>\n",
       "    </tr>\n",
       "  </tbody>\n",
       "</table>\n",
       "</div>"
      ],
      "text/plain": [
       "          product_id                 product_name  order_id  \\\n",
       "12097289       22035  Organic Whole String Cheese    237067   \n",
       "31400778        2855      Organic Good Seed Bread   1523312   \n",
       "25544192        5876                Organic Lemon   2862707   \n",
       "28494964       47209         Organic Hass Avocado   1564022   \n",
       "29015992        4086                         Mint   1335719   \n",
       "\n",
       "          add_to_cart_order  reordered  department            aisle  \n",
       "12097289                  2          1  dairy eggs  packaged cheese  \n",
       "31400778                  2          1      bakery            bread  \n",
       "25544192                  4          1     produce     fresh fruits  \n",
       "28494964                 16          1     produce     fresh fruits  \n",
       "29015992                 23          1     produce      fresh herbs  "
      ]
     },
     "execution_count": 23,
     "metadata": {},
     "output_type": "execute_result"
    }
   ],
   "source": [
    "orders_total_prior.sample(5).head(5)"
   ]
  },
  {
   "cell_type": "code",
   "execution_count": 24,
   "metadata": {
    "ExecuteTime": {
     "end_time": "2019-04-26T22:14:00.968808Z",
     "start_time": "2019-04-26T22:13:58.462272Z"
    },
    "colab": {},
    "colab_type": "code",
    "id": "wqPi8vfeDQTM",
    "scrolled": true,
    "slideshow": {
     "slide_type": "subslide"
    }
   },
   "outputs": [
    {
     "data": {
      "text/html": [
       "<div>\n",
       "<style scoped>\n",
       "    .dataframe tbody tr th:only-of-type {\n",
       "        vertical-align: middle;\n",
       "    }\n",
       "\n",
       "    .dataframe tbody tr th {\n",
       "        vertical-align: top;\n",
       "    }\n",
       "\n",
       "    .dataframe thead th {\n",
       "        text-align: right;\n",
       "    }\n",
       "</style>\n",
       "<table border=\"1\" class=\"dataframe\">\n",
       "  <thead>\n",
       "    <tr style=\"text-align: right;\">\n",
       "      <th></th>\n",
       "      <th>aisle</th>\n",
       "      <th>orders</th>\n",
       "      <th>reorders</th>\n",
       "    </tr>\n",
       "  </thead>\n",
       "  <tbody>\n",
       "    <tr>\n",
       "      <th>0</th>\n",
       "      <td>bakery desserts</td>\n",
       "      <td>34871</td>\n",
       "      <td>3962</td>\n",
       "    </tr>\n",
       "    <tr>\n",
       "      <th>1</th>\n",
       "      <td>baking ingredients</td>\n",
       "      <td>326692</td>\n",
       "      <td>8598</td>\n",
       "    </tr>\n",
       "    <tr>\n",
       "      <th>2</th>\n",
       "      <td>baking supplies decor</td>\n",
       "      <td>23692</td>\n",
       "      <td>10620</td>\n",
       "    </tr>\n",
       "    <tr>\n",
       "      <th>3</th>\n",
       "      <td>bread</td>\n",
       "      <td>584834</td>\n",
       "      <td>15292</td>\n",
       "    </tr>\n",
       "    <tr>\n",
       "      <th>4</th>\n",
       "      <td>breakfast bakery</td>\n",
       "      <td>250770</td>\n",
       "      <td>17405</td>\n",
       "    </tr>\n",
       "  </tbody>\n",
       "</table>\n",
       "</div>"
      ],
      "text/plain": [
       "                   aisle  orders  reorders\n",
       "0        bakery desserts   34871      3962\n",
       "1     baking ingredients  326692      8598\n",
       "2  baking supplies decor   23692     10620\n",
       "3                  bread  584834     15292\n",
       "4       breakfast bakery  250770     17405"
      ]
     },
     "execution_count": 24,
     "metadata": {},
     "output_type": "execute_result"
    }
   ],
   "source": [
    "# Count the number of times a product from each aisle is bought.\n",
    "aisle_orders = orders_total_prior.aisle.value_counts().to_frame().sort_index(\n",
    "    ascending=True).reset_index().rename(columns={\n",
    "        \"aisle\": \"orders\",\n",
    "        \"index\": \"aisle\"\n",
    "    })\n",
    "\n",
    "# Count the number of times a product from each aisle is reordered.\n",
    "aisle_orders['reorders'] = orders_total_prior.groupby(\n",
    "    'aisle')['reordered'].sum().to_frame().sort_values(\n",
    "        by='reordered', ascending=True).reset_index()['reordered']\n",
    "\n",
    "#Example of the table generated.\n",
    "aisle_orders.head(5)"
   ]
  },
  {
   "cell_type": "code",
   "execution_count": 25,
   "metadata": {
    "ExecuteTime": {
     "end_time": "2019-04-26T22:14:01.745831Z",
     "start_time": "2019-04-26T22:14:01.735343Z"
    },
    "colab": {},
    "colab_type": "code",
    "id": "BRu3CClQDQTO",
    "slideshow": {
     "slide_type": "subslide"
    }
   },
   "outputs": [
    {
     "data": {
      "text/html": [
       "<div>\n",
       "<style scoped>\n",
       "    .dataframe tbody tr th:only-of-type {\n",
       "        vertical-align: middle;\n",
       "    }\n",
       "\n",
       "    .dataframe tbody tr th {\n",
       "        vertical-align: top;\n",
       "    }\n",
       "\n",
       "    .dataframe thead th {\n",
       "        text-align: right;\n",
       "    }\n",
       "</style>\n",
       "<table border=\"1\" class=\"dataframe\">\n",
       "  <thead>\n",
       "    <tr style=\"text-align: right;\">\n",
       "      <th></th>\n",
       "      <th>aisle</th>\n",
       "      <th>orders</th>\n",
       "      <th>reorders</th>\n",
       "      <th>perc_reorders</th>\n",
       "    </tr>\n",
       "  </thead>\n",
       "  <tbody>\n",
       "    <tr>\n",
       "      <th>0</th>\n",
       "      <td>bakery desserts</td>\n",
       "      <td>34871</td>\n",
       "      <td>3962</td>\n",
       "      <td>0.113619</td>\n",
       "    </tr>\n",
       "    <tr>\n",
       "      <th>1</th>\n",
       "      <td>baking ingredients</td>\n",
       "      <td>326692</td>\n",
       "      <td>8598</td>\n",
       "      <td>0.026318</td>\n",
       "    </tr>\n",
       "    <tr>\n",
       "      <th>2</th>\n",
       "      <td>baking supplies decor</td>\n",
       "      <td>23692</td>\n",
       "      <td>10620</td>\n",
       "      <td>0.448253</td>\n",
       "    </tr>\n",
       "    <tr>\n",
       "      <th>3</th>\n",
       "      <td>bread</td>\n",
       "      <td>584834</td>\n",
       "      <td>15292</td>\n",
       "      <td>0.026148</td>\n",
       "    </tr>\n",
       "    <tr>\n",
       "      <th>4</th>\n",
       "      <td>breakfast bakery</td>\n",
       "      <td>250770</td>\n",
       "      <td>17405</td>\n",
       "      <td>0.069406</td>\n",
       "    </tr>\n",
       "  </tbody>\n",
       "</table>\n",
       "</div>"
      ],
      "text/plain": [
       "                   aisle  orders  reorders  perc_reorders\n",
       "0        bakery desserts   34871      3962       0.113619\n",
       "1     baking ingredients  326692      8598       0.026318\n",
       "2  baking supplies decor   23692     10620       0.448253\n",
       "3                  bread  584834     15292       0.026148\n",
       "4       breakfast bakery  250770     17405       0.069406"
      ]
     },
     "execution_count": 25,
     "metadata": {},
     "output_type": "execute_result"
    }
   ],
   "source": [
    "# Obtain the percentage of times that a product is reordered with regards to total sales.\n",
    "aisle_orders['perc_reorders'] = aisle_orders['reorders']/ aisle_orders['orders']\n",
    "\n",
    "#Example of the table generated.\n",
    "aisle_orders.head(5)"
   ]
  },
  {
   "cell_type": "code",
   "execution_count": 26,
   "metadata": {
    "ExecuteTime": {
     "end_time": "2019-04-26T22:14:06.309312Z",
     "start_time": "2019-04-26T22:14:05.505338Z"
    },
    "colab": {},
    "colab_type": "code",
    "id": "DnFomoH2DQTR",
    "scrolled": false,
    "slideshow": {
     "slide_type": "subslide"
    }
   },
   "outputs": [
    {
     "data": {
      "image/png": "[encoded data removed]",
      "text/plain": [
       "<Figure size 1440x720 with 1 Axes>"
      ]
     },
     "metadata": {
      "needs_background": "light"
     },
     "output_type": "display_data"
    }
   ],
   "source": [
    "# Plot Reorder Percentage vs. Log(Sales) for each aisle.\n",
    "\n",
    "import matplotlib.pyplot as plt\n",
    "\n",
    "# To see the plot in jupyter notebook use this command:\n",
    "%matplotlib inline\n",
    "\n",
    "# To specify the size of the output use the following command.\n",
    "plt.rcParams['figure.figsize'] = [20, 10]\n",
    "\n",
    "\n",
    "types = aisle_orders['aisle']\n",
    "x_coords = np.log10(aisle_orders['orders'])\n",
    "y_coords = aisle_orders['perc_reorders']\n",
    "\n",
    "for i, type in enumerate(types):\n",
    "    x = x_coords[i]\n",
    "    y = y_coords[i]\n",
    "    plt.scatter(x, y, marker='x', color='red')\n",
    "    plt.text(x, y, type, fontsize=8)\n",
    "\n",
    "plt.title('Reorders vs. Orders by Aisle')\n",
    "plt.xlabel('Log Number of Orders')\n",
    "plt.ylabel('Percentage or Reorders')\n",
    "\n",
    "plt.show()"
   ]
  },
  {
   "cell_type": "markdown",
   "metadata": {
    "ExecuteTime": {
     "end_time": "2019-04-26T22:39:22.252951Z",
     "start_time": "2019-04-26T22:39:22.248991Z"
    },
    "slideshow": {
     "slide_type": "subslide"
    }
   },
   "source": [
    "<img src=\"reordersvsaisle.png\" alt=\"Recommender\">"
   ]
  },
  {
   "cell_type": "markdown",
   "metadata": {},
   "source": [
    "* Pantry and refrigerated products tend to be reordered more often. \n",
    "* Fresh products are ordered by more users but reordered less, again. "
   ]
  },
  {
   "cell_type": "markdown",
   "metadata": {
    "_uuid": "727bb4dcb71a83edb78667286a1a10cb1b2283a5",
    "colab_type": "text",
    "id": "unOyntbJDQTt",
    "scrolled": true,
    "slideshow": {
     "slide_type": "subslide"
    }
   },
   "source": [
    "\n",
    "##  Apriori Algorithm"
   ]
  },
  {
   "cell_type": "markdown",
   "metadata": {
    "ExecuteTime": {
     "end_time": "2019-04-27T10:42:26.591117Z",
     "start_time": "2019-04-27T10:42:26.572648Z"
    }
   },
   "source": [
    "* We're going to calculate the apriori algorithm's rules. \n",
    "\n",
    "* The Apriori Algorithm is mainly comprised of two elements, the Apriori Property (which gives it its name) and the significance indicators: Support, Confidence and Lift. \n",
    "\n",
    "* The Apriori algorithm uses the apriori property to be efficient. It cuts off products that are not going to be relevant ahead of lift calculation. "
   ]
  },
  {
   "cell_type": "code",
   "execution_count": 150,
   "metadata": {
    "ExecuteTime": {
     "end_time": "2019-04-27T12:09:44.328763Z",
     "start_time": "2019-04-27T12:09:43.322719Z"
    },
    "_uuid": "c8e79164eff596eff8784b1d62824f053e97c6cf",
    "colab": {},
    "colab_type": "code",
    "id": "2DKhO6NMDQTv",
    "scrolled": true,
    "slideshow": {
     "slide_type": "subslide"
    }
   },
   "outputs": [
    {
     "data": {
      "text/plain": [
       "'Total number of orders (transactions): 3,110,132'"
      ]
     },
     "metadata": {},
     "output_type": "display_data"
    }
   ],
   "source": [
    "# We still have a large number of orders which is above 3M. \n",
    "N_Transactions = len(orders_total_prior['order_id'].unique())\n",
    "display(\"Total number of orders (transactions): {:,}\".format(N_Transactions))"
   ]
  },
  {
   "cell_type": "markdown",
   "metadata": {
    "colab_type": "text",
    "id": "MiJl8wtgDQTz",
    "slideshow": {
     "slide_type": "subslide"
    }
   },
   "source": [
    "### Apriority Priority\n",
    "How do we apply the Apriority Property?"
   ]
  },
  {
   "cell_type": "markdown",
   "metadata": {},
   "source": [
    "<i> All subsets of a frequent itemset must be frequent(Apriori property).\n",
    "If an itemset is infrequent, all its supersets will be infrequent. </i>\n",
    "\n",
    "* If we know that a product is not popular (frequent) then baskets that contain it aren't frequent either. That means that just by looking at product frequency in baskets we can determine if it will lead to relevant rules later on. \n",
    "\n",
    "* Frequency in baskets is the same as which indicator?"
   ]
  },
  {
   "cell_type": "markdown",
   "metadata": {
    "ExecuteTime": {
     "end_time": "2019-03-23T23:24:20.226227Z",
     "start_time": "2019-03-23T23:24:20.216088Z"
    },
    "colab_type": "text",
    "id": "IIx2EqJ0DQT1",
    "slideshow": {
     "slide_type": "subslide"
    }
   },
   "source": [
    "#### Calculating Product Support"
   ]
  },
  {
   "cell_type": "code",
   "execution_count": 29,
   "metadata": {
    "ExecuteTime": {
     "end_time": "2019-04-26T22:14:16.706905Z",
     "start_time": "2019-04-26T22:14:15.249669Z"
    },
    "colab": {},
    "colab_type": "code",
    "id": "hYnYD9esDQT7",
    "slideshow": {
     "slide_type": "subslide"
    }
   },
   "outputs": [
    {
     "data": {
      "text/html": [
       "<div>\n",
       "<style scoped>\n",
       "    .dataframe tbody tr th:only-of-type {\n",
       "        vertical-align: middle;\n",
       "    }\n",
       "\n",
       "    .dataframe tbody tr th {\n",
       "        vertical-align: top;\n",
       "    }\n",
       "\n",
       "    .dataframe thead th {\n",
       "        text-align: right;\n",
       "    }\n",
       "</style>\n",
       "<table border=\"1\" class=\"dataframe\">\n",
       "  <thead>\n",
       "    <tr style=\"text-align: right;\">\n",
       "      <th></th>\n",
       "      <th>product_name</th>\n",
       "      <th>freq</th>\n",
       "    </tr>\n",
       "  </thead>\n",
       "  <tbody>\n",
       "    <tr>\n",
       "      <th>0</th>\n",
       "      <td>Banana</td>\n",
       "      <td>472565</td>\n",
       "    </tr>\n",
       "    <tr>\n",
       "      <th>1</th>\n",
       "      <td>Bag of Organic Bananas</td>\n",
       "      <td>379450</td>\n",
       "    </tr>\n",
       "    <tr>\n",
       "      <th>2</th>\n",
       "      <td>Organic Strawberries</td>\n",
       "      <td>264683</td>\n",
       "    </tr>\n",
       "    <tr>\n",
       "      <th>3</th>\n",
       "      <td>Organic Baby Spinach</td>\n",
       "      <td>241921</td>\n",
       "    </tr>\n",
       "    <tr>\n",
       "      <th>4</th>\n",
       "      <td>Organic Hass Avocado</td>\n",
       "      <td>213584</td>\n",
       "    </tr>\n",
       "  </tbody>\n",
       "</table>\n",
       "</div>"
      ],
      "text/plain": [
       "             product_name    freq\n",
       "0                  Banana  472565\n",
       "1  Bag of Organic Bananas  379450\n",
       "2    Organic Strawberries  264683\n",
       "3    Organic Baby Spinach  241921\n",
       "4    Organic Hass Avocado  213584"
      ]
     },
     "execution_count": 29,
     "metadata": {},
     "output_type": "execute_result"
    }
   ],
   "source": [
    "# Start by frequency: Count the total number of times each appears in a basket.\n",
    "count_prods = orders_total_prior.groupby(\"product_name\")['order_id'].count()\n",
    "# The output is a pandas series. \n",
    "# To make calculations easier lets format it into a dataframe. \n",
    "\n",
    "# Create a dataframe, rename the count to 'frequ' and sort values. \n",
    "count_prods = count_prods.to_frame().rename(columns={\n",
    "    'order_id': 'freq'\n",
    "}).sort_values(\n",
    "    by=\"freq\", ascending=False).reset_index()\n",
    "\n",
    "#Example of the table generated.\n",
    "count_prods.head()"
   ]
  },
  {
   "cell_type": "code",
   "execution_count": null,
   "metadata": {},
   "outputs": [],
   "source": []
  },
  {
   "cell_type": "markdown",
   "metadata": {
    "ExecuteTime": {
     "end_time": "2019-03-23T23:24:43.407115Z",
     "start_time": "2019-03-23T23:24:43.404025Z"
    },
    "colab_type": "text",
    "id": "nEdNyhMtDQT_",
    "slideshow": {
     "slide_type": "subslide"
    }
   },
   "source": [
    "#### Support calculation for each product"
   ]
  },
  {
   "cell_type": "code",
   "execution_count": 30,
   "metadata": {
    "ExecuteTime": {
     "end_time": "2019-04-26T22:14:19.824241Z",
     "start_time": "2019-04-26T22:14:19.812079Z"
    },
    "colab": {},
    "colab_type": "code",
    "id": "Bflviw66DQT_",
    "scrolled": true,
    "slideshow": {
     "slide_type": "-"
    }
   },
   "outputs": [
    {
     "data": {
      "text/html": [
       "<div>\n",
       "<style scoped>\n",
       "    .dataframe tbody tr th:only-of-type {\n",
       "        vertical-align: middle;\n",
       "    }\n",
       "\n",
       "    .dataframe tbody tr th {\n",
       "        vertical-align: top;\n",
       "    }\n",
       "\n",
       "    .dataframe thead th {\n",
       "        text-align: right;\n",
       "    }\n",
       "</style>\n",
       "<table border=\"1\" class=\"dataframe\">\n",
       "  <thead>\n",
       "    <tr style=\"text-align: right;\">\n",
       "      <th></th>\n",
       "      <th>product_name</th>\n",
       "      <th>freq</th>\n",
       "      <th>supp</th>\n",
       "    </tr>\n",
       "  </thead>\n",
       "  <tbody>\n",
       "    <tr>\n",
       "      <th>0</th>\n",
       "      <td>Banana</td>\n",
       "      <td>472565</td>\n",
       "      <td>15.228406</td>\n",
       "    </tr>\n",
       "    <tr>\n",
       "      <th>1</th>\n",
       "      <td>Bag of Organic Bananas</td>\n",
       "      <td>379450</td>\n",
       "      <td>12.227775</td>\n",
       "    </tr>\n",
       "    <tr>\n",
       "      <th>2</th>\n",
       "      <td>Organic Strawberries</td>\n",
       "      <td>264683</td>\n",
       "      <td>8.529409</td>\n",
       "    </tr>\n",
       "    <tr>\n",
       "      <th>3</th>\n",
       "      <td>Organic Baby Spinach</td>\n",
       "      <td>241921</td>\n",
       "      <td>7.795904</td>\n",
       "    </tr>\n",
       "    <tr>\n",
       "      <th>4</th>\n",
       "      <td>Organic Hass Avocado</td>\n",
       "      <td>213584</td>\n",
       "      <td>6.882744</td>\n",
       "    </tr>\n",
       "  </tbody>\n",
       "</table>\n",
       "</div>"
      ],
      "text/plain": [
       "             product_name    freq       supp\n",
       "0                  Banana  472565  15.228406\n",
       "1  Bag of Organic Bananas  379450  12.227775\n",
       "2    Organic Strawberries  264683   8.529409\n",
       "3    Organic Baby Spinach  241921   7.795904\n",
       "4    Organic Hass Avocado  213584   6.882744"
      ]
     },
     "execution_count": 30,
     "metadata": {},
     "output_type": "execute_result"
    }
   ],
   "source": [
    "# Obtain the support values for each product. \n",
    "# Number of transactions was calculated before, remember? N_Transactions\n",
    "count_prods['supp'] = count_prods['freq'] / N_Transactions * 100\n",
    "\n",
    "#Now we have the support for each product.\n",
    "count_prods.head()"
   ]
  },
  {
   "cell_type": "code",
   "execution_count": null,
   "metadata": {},
   "outputs": [],
   "source": []
  },
  {
   "cell_type": "markdown",
   "metadata": {
    "colab_type": "text",
    "id": "gZHM7_zuDQUE",
    "slideshow": {
     "slide_type": "subslide"
    }
   },
   "source": [
    "### Filtering"
   ]
  },
  {
   "cell_type": "code",
   "execution_count": 134,
   "metadata": {
    "ExecuteTime": {
     "end_time": "2019-04-27T10:49:40.272186Z",
     "start_time": "2019-04-27T10:49:38.692916Z"
    },
    "colab": {},
    "colab_type": "code",
    "id": "Wtgqyj-RDQT2",
    "slideshow": {
     "slide_type": "-"
    }
   },
   "outputs": [
    {
     "data": {
      "text/plain": [
       "'Total number of products: 23,073'"
      ]
     },
     "metadata": {},
     "output_type": "display_data"
    }
   ],
   "source": [
    "# There are a total of...\n",
    "\n",
    "display(\"Total number of products: {:,}\".format(len(orders_total_prior.product_name.unique())))"
   ]
  },
  {
   "cell_type": "code",
   "execution_count": 32,
   "metadata": {
    "ExecuteTime": {
     "end_time": "2019-04-26T22:14:23.069266Z",
     "start_time": "2019-04-26T22:14:23.057963Z"
    },
    "colab": {},
    "colab_type": "code",
    "id": "FnqCUoHgDQUL",
    "scrolled": false,
    "slideshow": {
     "slide_type": "subslide"
    }
   },
   "outputs": [
    {
     "data": {
      "text/plain": [
       "'Percentage of products that will be considered: 30.17275419545903'"
      ]
     },
     "metadata": {},
     "output_type": "display_data"
    },
    {
     "data": {
      "text/plain": [
       "'Number of products that will be considered:  6,113'"
      ]
     },
     "metadata": {},
     "output_type": "display_data"
    }
   ],
   "source": [
    "# We can choose a typical Support value chosen:\n",
    "# Support value choice is test and learn. Depends on the data set. Usual numbers are 0.01 percent support\n",
    "support_value = 0.01\n",
    "\n",
    "# Create a filter to use later on as a mask.\n",
    "prod_filter = list(count_prods[count_prods['supp'] > support_value].product_name)\n",
    "\n",
    "# Percentage of products that will be taken into account to create the set. \n",
    "display('Percentage of products that will be considered: {:,}'.format(len(prod_filter)*100/count_prods.product_name.count()))\n",
    "display('Number of products that will be considered:  {:,}'.format(len(prod_filter)))"
   ]
  },
  {
   "cell_type": "markdown",
   "metadata": {
    "ExecuteTime": {
     "end_time": "2019-04-27T10:50:59.310358Z",
     "start_time": "2019-04-27T10:50:59.303321Z"
    },
    "slideshow": {
     "slide_type": "subslide"
    }
   },
   "source": [
    "Is this number surprising?"
   ]
  },
  {
   "cell_type": "markdown",
   "metadata": {
    "ExecuteTime": {
     "end_time": "2019-04-27T10:51:58.095278Z",
     "start_time": "2019-04-27T10:51:58.091234Z"
    },
    "slideshow": {
     "slide_type": "-"
    }
   },
   "source": [
    "A lot of things in retail follow Pareto closely."
   ]
  },
  {
   "cell_type": "code",
   "execution_count": 33,
   "metadata": {
    "ExecuteTime": {
     "end_time": "2019-04-26T22:14:26.205070Z",
     "start_time": "2019-04-26T22:14:23.860287Z"
    },
    "colab": {},
    "colab_type": "code",
    "id": "5yT6kXhMDQUX",
    "slideshow": {
     "slide_type": "subslide"
    }
   },
   "outputs": [
    {
     "data": {
      "text/plain": [
       "'Total number of orders (transactions) after filter: 3,086,166'"
      ]
     },
     "metadata": {},
     "output_type": "display_data"
    },
    {
     "data": {
      "text/html": [
       "<div>\n",
       "<style scoped>\n",
       "    .dataframe tbody tr th:only-of-type {\n",
       "        vertical-align: middle;\n",
       "    }\n",
       "\n",
       "    .dataframe tbody tr th {\n",
       "        vertical-align: top;\n",
       "    }\n",
       "\n",
       "    .dataframe thead th {\n",
       "        text-align: right;\n",
       "    }\n",
       "</style>\n",
       "<table border=\"1\" class=\"dataframe\">\n",
       "  <thead>\n",
       "    <tr style=\"text-align: right;\">\n",
       "      <th></th>\n",
       "      <th>product_id</th>\n",
       "      <th>product_name</th>\n",
       "      <th>order_id</th>\n",
       "      <th>add_to_cart_order</th>\n",
       "      <th>reordered</th>\n",
       "      <th>department</th>\n",
       "      <th>aisle</th>\n",
       "    </tr>\n",
       "  </thead>\n",
       "  <tbody>\n",
       "    <tr>\n",
       "      <th>2887742</th>\n",
       "      <td>481</td>\n",
       "      <td>Black Peppercorns</td>\n",
       "      <td>638</td>\n",
       "      <td>10</td>\n",
       "      <td>0</td>\n",
       "      <td>pantry</td>\n",
       "      <td>spices seasonings</td>\n",
       "    </tr>\n",
       "    <tr>\n",
       "      <th>2887743</th>\n",
       "      <td>481</td>\n",
       "      <td>Black Peppercorns</td>\n",
       "      <td>784</td>\n",
       "      <td>17</td>\n",
       "      <td>0</td>\n",
       "      <td>pantry</td>\n",
       "      <td>spices seasonings</td>\n",
       "    </tr>\n",
       "    <tr>\n",
       "      <th>2887744</th>\n",
       "      <td>481</td>\n",
       "      <td>Black Peppercorns</td>\n",
       "      <td>797</td>\n",
       "      <td>9</td>\n",
       "      <td>0</td>\n",
       "      <td>pantry</td>\n",
       "      <td>spices seasonings</td>\n",
       "    </tr>\n",
       "    <tr>\n",
       "      <th>2887745</th>\n",
       "      <td>481</td>\n",
       "      <td>Black Peppercorns</td>\n",
       "      <td>1245</td>\n",
       "      <td>18</td>\n",
       "      <td>0</td>\n",
       "      <td>pantry</td>\n",
       "      <td>spices seasonings</td>\n",
       "    </tr>\n",
       "    <tr>\n",
       "      <th>2887746</th>\n",
       "      <td>481</td>\n",
       "      <td>Black Peppercorns</td>\n",
       "      <td>11360</td>\n",
       "      <td>1</td>\n",
       "      <td>0</td>\n",
       "      <td>pantry</td>\n",
       "      <td>spices seasonings</td>\n",
       "    </tr>\n",
       "  </tbody>\n",
       "</table>\n",
       "</div>"
      ],
      "text/plain": [
       "         product_id       product_name  order_id  add_to_cart_order  \\\n",
       "2887742         481  Black Peppercorns       638                 10   \n",
       "2887743         481  Black Peppercorns       784                 17   \n",
       "2887744         481  Black Peppercorns       797                  9   \n",
       "2887745         481  Black Peppercorns      1245                 18   \n",
       "2887746         481  Black Peppercorns     11360                  1   \n",
       "\n",
       "         reordered department              aisle  \n",
       "2887742          0     pantry  spices seasonings  \n",
       "2887743          0     pantry  spices seasonings  \n",
       "2887744          0     pantry  spices seasonings  \n",
       "2887745          0     pantry  spices seasonings  \n",
       "2887746          0     pantry  spices seasonings  "
      ]
     },
     "metadata": {},
     "output_type": "display_data"
    }
   ],
   "source": [
    "# Apply the filter to the orders data set so products that are not sufficiently frequent\n",
    "# are not taken into account. \n",
    "orders_total_prior_filt = orders_total_prior[\n",
    "    orders_total_prior['product_name'].isin(prod_filter)]\n",
    "\n",
    "\n",
    "#We're still left with a large amount of transactions. \n",
    "N_Transactions = len(orders_total_prior_filt['order_id'].unique())\n",
    "display(\"Total number of orders (transactions) after filter: {:,}\".format(N_Transactions))\n",
    "#Example of the table generated.\n",
    "display(orders_total_prior_filt.head())"
   ]
  },
  {
   "cell_type": "markdown",
   "metadata": {
    "colab_type": "text",
    "id": "L8zzYZ5SDQUc",
    "slideshow": {
     "slide_type": "subslide"
    }
   },
   "source": [
    "### Extracting Sets"
   ]
  },
  {
   "cell_type": "code",
   "execution_count": 34,
   "metadata": {
    "ExecuteTime": {
     "end_time": "2019-04-26T22:19:21.680778Z",
     "start_time": "2019-04-26T22:14:27.544517Z"
    },
    "_uuid": "a1b615d936721ec6e91fba60503c3742b71576af",
    "colab": {},
    "colab_type": "code",
    "id": "38AZldPdDQUd",
    "scrolled": true,
    "slideshow": {
     "slide_type": "-"
    }
   },
   "outputs": [
    {
     "data": {
      "text/plain": [
       "'Total number of orders with more than one product: 2,809,557'"
      ]
     },
     "metadata": {},
     "output_type": "display_data"
    },
    {
     "data": {
      "text/plain": [
       "'Total number of orders: 3,086,166'"
      ]
     },
     "metadata": {},
     "output_type": "display_data"
    },
    {
     "data": {
      "text/plain": [
       "[['Garlic Powder',\n",
       "  'Original Unflavored Gelatine Mix',\n",
       "  'All Natural No Stir Creamy Almond Butter',\n",
       "  'Coconut Butter',\n",
       "  'Natural Sweetener',\n",
       "  'Organic Egg Whites',\n",
       "  'Carrots',\n",
       "  'Michigan Organic Kale'],\n",
       " ['Total 2% with Strawberry Lowfat Greek Strained Yogurt',\n",
       "  'Unsweetened Chocolate Almond Breeze Almond Milk',\n",
       "  'Unsweetened Almondmilk',\n",
       "  'Air Chilled Organic Boneless Skinless Chicken Breasts',\n",
       "  'Lemons',\n",
       "  'Organic Baby Spinach',\n",
       "  'Organic Ginger Root',\n",
       "  'Organic Ezekiel 49 Bread Cinnamon Raisin'],\n",
       " ['Original Orange Juice',\n",
       "  'Sugarfree Energy Drink',\n",
       "  'Energy Drink',\n",
       "  \"Kellogg's Nutri-Grain Apple Cinnamon Cereal\",\n",
       "  'Nutri-Grain Soft Baked Strawberry Cereal Breakfast Bars',\n",
       "  \"Kellogg's Nutri-Grain Blueberry Cereal\",\n",
       "  'Oats & Chocolate Chewy Bars',\n",
       "  'Plain Pre-Sliced Bagels'],\n",
       " ['Apricot Preserves',\n",
       "  'Natural Artesian Water, Mini & Mobile',\n",
       "  'Mini Original Babybel Cheese',\n",
       "  'American Slices Cheese',\n",
       "  '2% Reduced Fat Milk',\n",
       "  'Boneless Skinless Chicken Breast Fillets',\n",
       "  'Spaghetti Pasta',\n",
       "  'Macaroni And Cheese',\n",
       "  'Organic Raspberries',\n",
       "  'Artichokes',\n",
       "  'Bag of Organic Bananas',\n",
       "  'Meyer Lemon',\n",
       "  'Organic Hass Avocado',\n",
       "  'Bag of Organic Lemons',\n",
       "  'Clementines'],\n",
       " ['Extra Virgin Olive Oil',\n",
       "  'Distilled Water',\n",
       "  'Low Fat Kefir Cultured Milk Smoothie Lowfat Probiotic Blueberry',\n",
       "  'Natural Sharp Cheddar Sliced Cheese',\n",
       "  'Vanilla Almond Breeze Almond Milk',\n",
       "  'Fruit & Nutty Almonds Raisins Cranberries Pecans Granola',\n",
       "  'Baby Spinach',\n",
       "  'Whole White Mushrooms',\n",
       "  'Green Beans',\n",
       "  'Organic Red Radish, Bunch',\n",
       "  'Organic Bread with 21 Whole Grains',\n",
       "  'French Baguettes, Take & Bake, Twin Pack'],\n",
       " ['Organic Half & Half',\n",
       "  'Boneless Beef Sirloin Steak',\n",
       "  'Organic Butterhead (Boston, Butter, Bibb) Lettuce',\n",
       "  'Yellow Onions',\n",
       "  'Baby Portabella Mushrooms',\n",
       "  'Green Beans',\n",
       "  'Organic Sunchoke',\n",
       "  'Organic Strawberries',\n",
       "  'Banana',\n",
       "  'Organic Avocado',\n",
       "  'Parsley, Italian (Flat), New England Grown',\n",
       "  'Organic Cilantro'],\n",
       " ['100% Juice No Sugar Added Apple',\n",
       "  'Ruby Red Grapefruit Juice',\n",
       "  '100% Cranberry Juice',\n",
       "  '2% Milk',\n",
       "  'French Vanilla Coffee Creamer',\n",
       "  'Extra Creamy Dairy Whipped Topping',\n",
       "  'Cherubs Heavenly Salad Tomatoes'],\n",
       " ['Chunky Salsa Medium',\n",
       "  'Salsa Con Queso Medium Dip',\n",
       "  'Sparkling Natural Mineral Water',\n",
       "  'Lemonade',\n",
       "  'Lemon Lime Thirst Quencher',\n",
       "  'Soda',\n",
       "  'Diet Tonic Water',\n",
       "  'Hampshire 100% Natural Sour Cream',\n",
       "  'Philadelphia Original Cream Cheese'],\n",
       " ['Hair Bender Whole Bean Coffee',\n",
       "  'Total Greek Strained Yogurt',\n",
       "  'Unprocessed American Singles Colby-Style Cheese',\n",
       "  'Organic Whole Milk',\n",
       "  'Organic Mesa Sunrise Cereal',\n",
       "  'Honeycrisp Apple'],\n",
       " ['Organic Extra Virgin Olive Oil', 'Spring Water']]"
      ]
     },
     "execution_count": 34,
     "metadata": {},
     "output_type": "execute_result"
    }
   ],
   "source": [
    "# Using the filtered orders we create create lists of products that appear in \n",
    "# each order. Note: Basket = Order. \n",
    "basket_lists = orders_total_prior_filt.groupby('order_id')['product_name'].apply(list)\n",
    "\n",
    "\n",
    "#Take lists with more than one product left. \n",
    "\n",
    "N_Transactions =  len(basket_lists[basket_lists.str.len()>1])\n",
    "display(\"Total number of orders with more than one product: {:,}\".format(N_Transactions))\n",
    "display(\"Total number of orders: {:,}\".format(len(basket_lists)))\n",
    "\n",
    "basket_lists = list(basket_lists[basket_lists.str.len()>1])\n",
    "# The output is a list of product lists = Baskets. \n",
    "basket_lists[:2]"
   ]
  },
  {
   "cell_type": "markdown",
   "metadata": {
    "ExecuteTime": {
     "end_time": "2019-04-27T10:53:42.257829Z",
     "start_time": "2019-04-27T10:53:42.253167Z"
    }
   },
   "source": [
    "Let I = {i1 ,  i2 , ... ,in } be a set of items or products. \n",
    "\n",
    "Let D = {t1 ,  t2 , ... ,tn } be a set of baskets or transactions. "
   ]
  },
  {
   "cell_type": "markdown",
   "metadata": {
    "slideshow": {
     "slide_type": "subslide"
    }
   },
   "source": [
    "* We applied the apriori property. Now we can calculate relevance indicators (support, confidence and lift). \n",
    "\n",
    "* We need to know product pairs first so we can calcute support for each. "
   ]
  },
  {
   "cell_type": "code",
   "execution_count": 35,
   "metadata": {
    "ExecuteTime": {
     "end_time": "2019-04-26T22:20:49.122894Z",
     "start_time": "2019-04-26T22:19:25.528822Z"
    },
    "colab": {},
    "colab_type": "code",
    "id": "B4snZpYODQUh",
    "slideshow": {
     "slide_type": "subslide"
    }
   },
   "outputs": [
    {
     "data": {
      "text/plain": [
       "{('All Natural No Stir Creamy Almond Butter', 'Carrots'): 84,\n",
       " ('All Natural No Stir Creamy Almond Butter', 'Coconut Butter'): 3}"
      ]
     },
     "metadata": {},
     "output_type": "display_data"
    }
   ],
   "source": [
    "# With unfrequent products filtered we find product pairs. These are products\n",
    "# that have been bought together. \n",
    "\n",
    "#itertools.combinations(basket, 2) generates pairs from a list. \n",
    "# We iterate through these lists (which are baskets).\n",
    "# For product pairs that reoccur we just increase the count.\n",
    "\n",
    "i=0\n",
    "\n",
    "product_counts = collections.defaultdict(int)\n",
    "\n",
    "for basket in basket_lists:\n",
    "    basket.sort()\n",
    "    for pair in itertools.combinations(basket, 2):\n",
    "        product_counts[pair] += 1\n",
    "\n",
    "# The output is a list of product pairs and the frequency with which they appear together. \n",
    "display(dict(list(product_counts.items())[0:2]))"
   ]
  },
  {
   "cell_type": "code",
   "execution_count": 36,
   "metadata": {
    "ExecuteTime": {
     "end_time": "2019-04-26T22:21:24.542291Z",
     "start_time": "2019-04-26T22:21:23.628447Z"
    },
    "colab": {},
    "colab_type": "code",
    "id": "6Ja7BWmADQUl",
    "slideshow": {
     "slide_type": "subslide"
    }
   },
   "outputs": [
    {
     "data": {
      "text/plain": [
       "'Total number of product pairs: 7,169,993'"
      ]
     },
     "metadata": {},
     "output_type": "display_data"
    }
   ],
   "source": [
    "display(\"Total number of product pairs: {:,}\".format(len(list(product_counts.items()))))"
   ]
  },
  {
   "cell_type": "markdown",
   "metadata": {
    "colab_type": "text",
    "id": "qUJGoxAcDQUw",
    "slideshow": {
     "slide_type": "subslide"
    }
   },
   "source": [
    "### Support"
   ]
  },
  {
   "cell_type": "code",
   "execution_count": 38,
   "metadata": {
    "ExecuteTime": {
     "end_time": "2019-04-26T22:21:31.557525Z",
     "start_time": "2019-04-26T22:21:29.119726Z"
    },
    "colab": {},
    "colab_type": "code",
    "id": "SYVYTF--DQUq",
    "slideshow": {
     "slide_type": "subslide"
    }
   },
   "outputs": [
    {
     "data": {
      "text/html": [
       "<div>\n",
       "<style scoped>\n",
       "    .dataframe tbody tr th:only-of-type {\n",
       "        vertical-align: middle;\n",
       "    }\n",
       "\n",
       "    .dataframe tbody tr th {\n",
       "        vertical-align: top;\n",
       "    }\n",
       "\n",
       "    .dataframe thead th {\n",
       "        text-align: right;\n",
       "    }\n",
       "</style>\n",
       "<table border=\"1\" class=\"dataframe\">\n",
       "  <thead>\n",
       "    <tr style=\"text-align: right;\">\n",
       "      <th></th>\n",
       "      <th>items1</th>\n",
       "      <th>items2</th>\n",
       "      <th>frequency</th>\n",
       "    </tr>\n",
       "  </thead>\n",
       "  <tbody>\n",
       "    <tr>\n",
       "      <th>0</th>\n",
       "      <td>All Natural No Stir Creamy Almond Butter</td>\n",
       "      <td>Carrots</td>\n",
       "      <td>84</td>\n",
       "    </tr>\n",
       "    <tr>\n",
       "      <th>1</th>\n",
       "      <td>All Natural No Stir Creamy Almond Butter</td>\n",
       "      <td>Coconut Butter</td>\n",
       "      <td>3</td>\n",
       "    </tr>\n",
       "    <tr>\n",
       "      <th>2</th>\n",
       "      <td>All Natural No Stir Creamy Almond Butter</td>\n",
       "      <td>Garlic Powder</td>\n",
       "      <td>8</td>\n",
       "    </tr>\n",
       "    <tr>\n",
       "      <th>3</th>\n",
       "      <td>All Natural No Stir Creamy Almond Butter</td>\n",
       "      <td>Michigan Organic Kale</td>\n",
       "      <td>87</td>\n",
       "    </tr>\n",
       "    <tr>\n",
       "      <th>4</th>\n",
       "      <td>All Natural No Stir Creamy Almond Butter</td>\n",
       "      <td>Natural Sweetener</td>\n",
       "      <td>4</td>\n",
       "    </tr>\n",
       "  </tbody>\n",
       "</table>\n",
       "</div>"
      ],
      "text/plain": [
       "                                     items1                 items2  frequency\n",
       "0  All Natural No Stir Creamy Almond Butter                Carrots         84\n",
       "1  All Natural No Stir Creamy Almond Butter         Coconut Butter          3\n",
       "2  All Natural No Stir Creamy Almond Butter          Garlic Powder          8\n",
       "3  All Natural No Stir Creamy Almond Butter  Michigan Organic Kale         87\n",
       "4  All Natural No Stir Creamy Almond Butter      Natural Sweetener          4"
      ]
     },
     "execution_count": 38,
     "metadata": {},
     "output_type": "execute_result"
    }
   ],
   "source": [
    "# Product pairs appear in the same column. Lets format them into a dataframe and \n",
    "df_apriori = pd.DataFrame(list(product_counts.keys()))\n",
    "\n",
    "# Rename columns.\n",
    "df_apriori.columns = ['items1', 'items2']\n",
    "\n",
    "# include the frequency in another column. \n",
    "df_apriori['frequency'] = list(product_counts.values())\n",
    "\n",
    "# Example of the generated dataframe. \n",
    "df_apriori.head()"
   ]
  },
  {
   "cell_type": "code",
   "execution_count": 39,
   "metadata": {
    "ExecuteTime": {
     "end_time": "2019-04-26T22:21:32.800727Z",
     "start_time": "2019-04-26T22:21:31.779875Z"
    },
    "_uuid": "9052c1ebfc8fd462199b5beb42cadb019ad8f104",
    "colab": {},
    "colab_type": "code",
    "id": "o5MsULIaDQUx",
    "scrolled": true,
    "slideshow": {
     "slide_type": "-"
    }
   },
   "outputs": [
    {
     "data": {
      "text/html": [
       "<div>\n",
       "<style scoped>\n",
       "    .dataframe tbody tr th:only-of-type {\n",
       "        vertical-align: middle;\n",
       "    }\n",
       "\n",
       "    .dataframe tbody tr th {\n",
       "        vertical-align: top;\n",
       "    }\n",
       "\n",
       "    .dataframe thead th {\n",
       "        text-align: right;\n",
       "    }\n",
       "</style>\n",
       "<table border=\"1\" class=\"dataframe\">\n",
       "  <thead>\n",
       "    <tr style=\"text-align: right;\">\n",
       "      <th></th>\n",
       "      <th>items1</th>\n",
       "      <th>items2</th>\n",
       "      <th>frequency</th>\n",
       "      <th>Support_1_2</th>\n",
       "    </tr>\n",
       "  </thead>\n",
       "  <tbody>\n",
       "    <tr>\n",
       "      <th>141</th>\n",
       "      <td>Bag of Organic Bananas</td>\n",
       "      <td>Organic Hass Avocado</td>\n",
       "      <td>62341</td>\n",
       "      <td>2.218891</td>\n",
       "    </tr>\n",
       "    <tr>\n",
       "      <th>5379</th>\n",
       "      <td>Bag of Organic Bananas</td>\n",
       "      <td>Organic Strawberries</td>\n",
       "      <td>61628</td>\n",
       "      <td>2.193513</td>\n",
       "    </tr>\n",
       "    <tr>\n",
       "      <th>272</th>\n",
       "      <td>Banana</td>\n",
       "      <td>Organic Strawberries</td>\n",
       "      <td>56156</td>\n",
       "      <td>1.998749</td>\n",
       "    </tr>\n",
       "    <tr>\n",
       "      <th>268</th>\n",
       "      <td>Banana</td>\n",
       "      <td>Organic Avocado</td>\n",
       "      <td>53395</td>\n",
       "      <td>1.900478</td>\n",
       "    </tr>\n",
       "    <tr>\n",
       "      <th>673</th>\n",
       "      <td>Banana</td>\n",
       "      <td>Organic Baby Spinach</td>\n",
       "      <td>51395</td>\n",
       "      <td>1.829292</td>\n",
       "    </tr>\n",
       "  </tbody>\n",
       "</table>\n",
       "</div>"
      ],
      "text/plain": [
       "                      items1                items2  frequency  Support_1_2\n",
       "141   Bag of Organic Bananas  Organic Hass Avocado      62341     2.218891\n",
       "5379  Bag of Organic Bananas  Organic Strawberries      61628     2.193513\n",
       "272                   Banana  Organic Strawberries      56156     1.998749\n",
       "268                   Banana       Organic Avocado      53395     1.900478\n",
       "673                   Banana  Organic Baby Spinach      51395     1.829292"
      ]
     },
     "execution_count": 39,
     "metadata": {},
     "output_type": "execute_result"
    }
   ],
   "source": [
    "# Sort values by frequency. \n",
    "df_apriori = df_apriori.sort_values(by=\"frequency\", ascending=False)\n",
    "\n",
    "# Obtain support of product pairs.  \n",
    "df_apriori['Support_1_2'] = df_apriori['frequency'] / N_Transactions * 100\n",
    "\n",
    "# Example output with support column. \n",
    "df_apriori.head()"
   ]
  },
  {
   "cell_type": "code",
   "execution_count": null,
   "metadata": {},
   "outputs": [],
   "source": []
  },
  {
   "cell_type": "markdown",
   "metadata": {
    "slideshow": {
     "slide_type": "subslide"
    }
   },
   "source": [
    "Again we apply the Apriori Property:"
   ]
  },
  {
   "cell_type": "code",
   "execution_count": 139,
   "metadata": {
    "ExecuteTime": {
     "end_time": "2019-04-27T10:57:52.690927Z",
     "start_time": "2019-04-27T10:57:52.672662Z"
    },
    "colab": {},
    "colab_type": "code",
    "id": "_9Ee_-2GDQU2",
    "slideshow": {
     "slide_type": "-"
    }
   },
   "outputs": [
    {
     "data": {
      "text/plain": [
       "'Total number of products above 0.01% support: 47,206'"
      ]
     },
     "metadata": {},
     "output_type": "display_data"
    }
   ],
   "source": [
    "display(\"Total number of products above 0.01% support: {:,}\".format(df_apriori[df_apriori['Support_1_2']>0.01]['Support_1_2'].count()))"
   ]
  },
  {
   "cell_type": "code",
   "execution_count": 43,
   "metadata": {
    "ExecuteTime": {
     "end_time": "2019-04-26T22:21:54.441447Z",
     "start_time": "2019-04-26T22:21:36.655898Z"
    },
    "_uuid": "97533350fbf6adabeeee07a560ce2211e0863502",
    "colab": {},
    "colab_type": "code",
    "id": "TeRNDIW_DQVV",
    "scrolled": true,
    "slideshow": {
     "slide_type": "subslide"
    }
   },
   "outputs": [
    {
     "data": {
      "text/html": [
       "<div>\n",
       "<style scoped>\n",
       "    .dataframe tbody tr th:only-of-type {\n",
       "        vertical-align: middle;\n",
       "    }\n",
       "\n",
       "    .dataframe tbody tr th {\n",
       "        vertical-align: top;\n",
       "    }\n",
       "\n",
       "    .dataframe thead th {\n",
       "        text-align: right;\n",
       "    }\n",
       "</style>\n",
       "<table border=\"1\" class=\"dataframe\">\n",
       "  <thead>\n",
       "    <tr style=\"text-align: right;\">\n",
       "      <th></th>\n",
       "      <th>items1</th>\n",
       "      <th>items2</th>\n",
       "      <th>frequency</th>\n",
       "      <th>Support_1_2</th>\n",
       "      <th>i1_freq</th>\n",
       "      <th>i1_supp</th>\n",
       "      <th>i2_freq</th>\n",
       "      <th>i2_supp</th>\n",
       "    </tr>\n",
       "  </thead>\n",
       "  <tbody>\n",
       "    <tr>\n",
       "      <th>0</th>\n",
       "      <td>Bag of Organic Bananas</td>\n",
       "      <td>Organic Hass Avocado</td>\n",
       "      <td>62341</td>\n",
       "      <td>2.218891</td>\n",
       "      <td>379450</td>\n",
       "      <td>12.227775</td>\n",
       "      <td>213584</td>\n",
       "      <td>6.882744</td>\n",
       "    </tr>\n",
       "    <tr>\n",
       "      <th>1</th>\n",
       "      <td>Banana</td>\n",
       "      <td>Organic Hass Avocado</td>\n",
       "      <td>31222</td>\n",
       "      <td>1.111278</td>\n",
       "      <td>472565</td>\n",
       "      <td>15.228406</td>\n",
       "      <td>213584</td>\n",
       "      <td>6.882744</td>\n",
       "    </tr>\n",
       "    <tr>\n",
       "      <th>2</th>\n",
       "      <td>Organic Baby Spinach</td>\n",
       "      <td>Organic Hass Avocado</td>\n",
       "      <td>34901</td>\n",
       "      <td>1.242224</td>\n",
       "      <td>241921</td>\n",
       "      <td>7.795904</td>\n",
       "      <td>213584</td>\n",
       "      <td>6.882744</td>\n",
       "    </tr>\n",
       "    <tr>\n",
       "      <th>3</th>\n",
       "      <td>Organic Avocado</td>\n",
       "      <td>Organic Hass Avocado</td>\n",
       "      <td>907</td>\n",
       "      <td>0.032283</td>\n",
       "      <td>176815</td>\n",
       "      <td>5.697863</td>\n",
       "      <td>213584</td>\n",
       "      <td>6.882744</td>\n",
       "    </tr>\n",
       "    <tr>\n",
       "      <th>4</th>\n",
       "      <td>Large Lemon</td>\n",
       "      <td>Organic Hass Avocado</td>\n",
       "      <td>15005</td>\n",
       "      <td>0.534070</td>\n",
       "      <td>152657</td>\n",
       "      <td>4.919371</td>\n",
       "      <td>213584</td>\n",
       "      <td>6.882744</td>\n",
       "    </tr>\n",
       "  </tbody>\n",
       "</table>\n",
       "</div>"
      ],
      "text/plain": [
       "                   items1                items2  frequency  Support_1_2  \\\n",
       "0  Bag of Organic Bananas  Organic Hass Avocado      62341     2.218891   \n",
       "1                  Banana  Organic Hass Avocado      31222     1.111278   \n",
       "2    Organic Baby Spinach  Organic Hass Avocado      34901     1.242224   \n",
       "3         Organic Avocado  Organic Hass Avocado        907     0.032283   \n",
       "4             Large Lemon  Organic Hass Avocado      15005     0.534070   \n",
       "\n",
       "   i1_freq    i1_supp  i2_freq   i2_supp  \n",
       "0   379450  12.227775   213584  6.882744  \n",
       "1   472565  15.228406   213584  6.882744  \n",
       "2   241921   7.795904   213584  6.882744  \n",
       "3   176815   5.697863   213584  6.882744  \n",
       "4   152657   4.919371   213584  6.882744  "
      ]
     },
     "execution_count": 43,
     "metadata": {},
     "output_type": "execute_result"
    }
   ],
   "source": [
    "# Add to the apriori dataframe frequency and support of product pairs, for column one. \n",
    "df_apriori = pd.merge(\n",
    "    df_apriori,\n",
    "    count_prods[count_prods['supp'] > support_value],\n",
    "    right_on='product_name',\n",
    "    left_on='items1').rename(columns={\n",
    "        'freq': 'i1_freq',\n",
    "        'supp': 'i1_supp'\n",
    "    })\n",
    "\n",
    "# Add to the apriori dataframe frequency and support of product pairs, for column two. \n",
    "df_apriori = pd.merge(\n",
    "    df_apriori,\n",
    "    count_prods[count_prods['supp'] > support_value],\n",
    "    right_on='product_name',\n",
    "    left_on='items2').rename(columns={\n",
    "        'freq': 'i2_freq',\n",
    "        'supp': 'i2_supp'\n",
    "    })\n",
    "\n",
    "# Drop redundant columns. \n",
    "df_apriori.drop(['product_name_x', 'product_name_y'], inplace=True, axis=1)\n",
    "\n",
    "# Example output with support column.\n",
    "df_apriori.head()"
   ]
  },
  {
   "cell_type": "code",
   "execution_count": null,
   "metadata": {},
   "outputs": [],
   "source": []
  },
  {
   "cell_type": "markdown",
   "metadata": {
    "colab_type": "text",
    "id": "vKOu3hymDQVZ",
    "slideshow": {
     "slide_type": "subslide"
    }
   },
   "source": [
    "### Confidence"
   ]
  },
  {
   "cell_type": "code",
   "execution_count": 44,
   "metadata": {
    "ExecuteTime": {
     "end_time": "2019-04-26T22:21:59.289603Z",
     "start_time": "2019-04-26T22:21:59.250204Z"
    },
    "colab": {},
    "colab_type": "code",
    "id": "wQHzl3PgDQVa",
    "slideshow": {
     "slide_type": "-"
    }
   },
   "outputs": [
    {
     "data": {
      "text/html": [
       "<div>\n",
       "<style scoped>\n",
       "    .dataframe tbody tr th:only-of-type {\n",
       "        vertical-align: middle;\n",
       "    }\n",
       "\n",
       "    .dataframe tbody tr th {\n",
       "        vertical-align: top;\n",
       "    }\n",
       "\n",
       "    .dataframe thead th {\n",
       "        text-align: right;\n",
       "    }\n",
       "</style>\n",
       "<table border=\"1\" class=\"dataframe\">\n",
       "  <thead>\n",
       "    <tr style=\"text-align: right;\">\n",
       "      <th></th>\n",
       "      <th>items1</th>\n",
       "      <th>items2</th>\n",
       "      <th>frequency</th>\n",
       "      <th>Support_1_2</th>\n",
       "      <th>i1_freq</th>\n",
       "      <th>i1_supp</th>\n",
       "      <th>i2_freq</th>\n",
       "      <th>i2_supp</th>\n",
       "      <th>confidence</th>\n",
       "    </tr>\n",
       "  </thead>\n",
       "  <tbody>\n",
       "    <tr>\n",
       "      <th>0</th>\n",
       "      <td>Bag of Organic Bananas</td>\n",
       "      <td>Organic Hass Avocado</td>\n",
       "      <td>62341</td>\n",
       "      <td>2.218891</td>\n",
       "      <td>379450</td>\n",
       "      <td>12.227775</td>\n",
       "      <td>213584</td>\n",
       "      <td>6.882744</td>\n",
       "      <td>0.181463</td>\n",
       "    </tr>\n",
       "    <tr>\n",
       "      <th>1</th>\n",
       "      <td>Banana</td>\n",
       "      <td>Organic Hass Avocado</td>\n",
       "      <td>31222</td>\n",
       "      <td>1.111278</td>\n",
       "      <td>472565</td>\n",
       "      <td>15.228406</td>\n",
       "      <td>213584</td>\n",
       "      <td>6.882744</td>\n",
       "      <td>0.072974</td>\n",
       "    </tr>\n",
       "    <tr>\n",
       "      <th>2</th>\n",
       "      <td>Organic Baby Spinach</td>\n",
       "      <td>Organic Hass Avocado</td>\n",
       "      <td>34901</td>\n",
       "      <td>1.242224</td>\n",
       "      <td>241921</td>\n",
       "      <td>7.795904</td>\n",
       "      <td>213584</td>\n",
       "      <td>6.882744</td>\n",
       "      <td>0.159343</td>\n",
       "    </tr>\n",
       "    <tr>\n",
       "      <th>3</th>\n",
       "      <td>Organic Avocado</td>\n",
       "      <td>Organic Hass Avocado</td>\n",
       "      <td>907</td>\n",
       "      <td>0.032283</td>\n",
       "      <td>176815</td>\n",
       "      <td>5.697863</td>\n",
       "      <td>213584</td>\n",
       "      <td>6.882744</td>\n",
       "      <td>0.005666</td>\n",
       "    </tr>\n",
       "    <tr>\n",
       "      <th>4</th>\n",
       "      <td>Large Lemon</td>\n",
       "      <td>Organic Hass Avocado</td>\n",
       "      <td>15005</td>\n",
       "      <td>0.534070</td>\n",
       "      <td>152657</td>\n",
       "      <td>4.919371</td>\n",
       "      <td>213584</td>\n",
       "      <td>6.882744</td>\n",
       "      <td>0.108565</td>\n",
       "    </tr>\n",
       "  </tbody>\n",
       "</table>\n",
       "</div>"
      ],
      "text/plain": [
       "                   items1                items2  frequency  Support_1_2  \\\n",
       "0  Bag of Organic Bananas  Organic Hass Avocado      62341     2.218891   \n",
       "1                  Banana  Organic Hass Avocado      31222     1.111278   \n",
       "2    Organic Baby Spinach  Organic Hass Avocado      34901     1.242224   \n",
       "3         Organic Avocado  Organic Hass Avocado        907     0.032283   \n",
       "4             Large Lemon  Organic Hass Avocado      15005     0.534070   \n",
       "\n",
       "   i1_freq    i1_supp  i2_freq   i2_supp  confidence  \n",
       "0   379450  12.227775   213584  6.882744    0.181463  \n",
       "1   472565  15.228406   213584  6.882744    0.072974  \n",
       "2   241921   7.795904   213584  6.882744    0.159343  \n",
       "3   176815   5.697863   213584  6.882744    0.005666  \n",
       "4   152657   4.919371   213584  6.882744    0.108565  "
      ]
     },
     "execution_count": 44,
     "metadata": {},
     "output_type": "execute_result"
    }
   ],
   "source": [
    "# Calculate confidence of product pairs. \n",
    "df_apriori['confidence'] = df_apriori['Support_1_2'] / (df_apriori['i1_supp'])\n",
    "\n",
    "# Example output.\n",
    "df_apriori.head()"
   ]
  },
  {
   "cell_type": "code",
   "execution_count": null,
   "metadata": {},
   "outputs": [],
   "source": []
  },
  {
   "cell_type": "markdown",
   "metadata": {
    "colab_type": "text",
    "id": "uy4d84DWDQVf",
    "slideshow": {
     "slide_type": "subslide"
    }
   },
   "source": [
    "### Lift"
   ]
  },
  {
   "cell_type": "code",
   "execution_count": 45,
   "metadata": {
    "ExecuteTime": {
     "end_time": "2019-04-26T22:22:00.602281Z",
     "start_time": "2019-04-26T22:22:00.545390Z"
    },
    "_uuid": "afca5e58ce708a452891bfba81cb097252c06b48",
    "colab": {},
    "colab_type": "code",
    "id": "WTVoTVctDQVg",
    "scrolled": true,
    "slideshow": {
     "slide_type": "-"
    }
   },
   "outputs": [
    {
     "data": {
      "text/html": [
       "<div>\n",
       "<style scoped>\n",
       "    .dataframe tbody tr th:only-of-type {\n",
       "        vertical-align: middle;\n",
       "    }\n",
       "\n",
       "    .dataframe tbody tr th {\n",
       "        vertical-align: top;\n",
       "    }\n",
       "\n",
       "    .dataframe thead th {\n",
       "        text-align: right;\n",
       "    }\n",
       "</style>\n",
       "<table border=\"1\" class=\"dataframe\">\n",
       "  <thead>\n",
       "    <tr style=\"text-align: right;\">\n",
       "      <th></th>\n",
       "      <th>items1</th>\n",
       "      <th>items2</th>\n",
       "      <th>frequency</th>\n",
       "      <th>Support_1_2</th>\n",
       "      <th>i1_freq</th>\n",
       "      <th>i1_supp</th>\n",
       "      <th>i2_freq</th>\n",
       "      <th>i2_supp</th>\n",
       "      <th>confidence</th>\n",
       "      <th>lift</th>\n",
       "    </tr>\n",
       "  </thead>\n",
       "  <tbody>\n",
       "    <tr>\n",
       "      <th>0</th>\n",
       "      <td>Bag of Organic Bananas</td>\n",
       "      <td>Organic Hass Avocado</td>\n",
       "      <td>62341</td>\n",
       "      <td>2.218891</td>\n",
       "      <td>379450</td>\n",
       "      <td>12.227775</td>\n",
       "      <td>213584</td>\n",
       "      <td>6.882744</td>\n",
       "      <td>0.181463</td>\n",
       "      <td>0.026365</td>\n",
       "    </tr>\n",
       "    <tr>\n",
       "      <th>1</th>\n",
       "      <td>Banana</td>\n",
       "      <td>Organic Hass Avocado</td>\n",
       "      <td>31222</td>\n",
       "      <td>1.111278</td>\n",
       "      <td>472565</td>\n",
       "      <td>15.228406</td>\n",
       "      <td>213584</td>\n",
       "      <td>6.882744</td>\n",
       "      <td>0.072974</td>\n",
       "      <td>0.010602</td>\n",
       "    </tr>\n",
       "    <tr>\n",
       "      <th>2</th>\n",
       "      <td>Organic Baby Spinach</td>\n",
       "      <td>Organic Hass Avocado</td>\n",
       "      <td>34901</td>\n",
       "      <td>1.242224</td>\n",
       "      <td>241921</td>\n",
       "      <td>7.795904</td>\n",
       "      <td>213584</td>\n",
       "      <td>6.882744</td>\n",
       "      <td>0.159343</td>\n",
       "      <td>0.023151</td>\n",
       "    </tr>\n",
       "    <tr>\n",
       "      <th>3</th>\n",
       "      <td>Organic Avocado</td>\n",
       "      <td>Organic Hass Avocado</td>\n",
       "      <td>907</td>\n",
       "      <td>0.032283</td>\n",
       "      <td>176815</td>\n",
       "      <td>5.697863</td>\n",
       "      <td>213584</td>\n",
       "      <td>6.882744</td>\n",
       "      <td>0.005666</td>\n",
       "      <td>0.000823</td>\n",
       "    </tr>\n",
       "    <tr>\n",
       "      <th>4</th>\n",
       "      <td>Large Lemon</td>\n",
       "      <td>Organic Hass Avocado</td>\n",
       "      <td>15005</td>\n",
       "      <td>0.534070</td>\n",
       "      <td>152657</td>\n",
       "      <td>4.919371</td>\n",
       "      <td>213584</td>\n",
       "      <td>6.882744</td>\n",
       "      <td>0.108565</td>\n",
       "      <td>0.015773</td>\n",
       "    </tr>\n",
       "  </tbody>\n",
       "</table>\n",
       "</div>"
      ],
      "text/plain": [
       "                   items1                items2  frequency  Support_1_2  \\\n",
       "0  Bag of Organic Bananas  Organic Hass Avocado      62341     2.218891   \n",
       "1                  Banana  Organic Hass Avocado      31222     1.111278   \n",
       "2    Organic Baby Spinach  Organic Hass Avocado      34901     1.242224   \n",
       "3         Organic Avocado  Organic Hass Avocado        907     0.032283   \n",
       "4             Large Lemon  Organic Hass Avocado      15005     0.534070   \n",
       "\n",
       "   i1_freq    i1_supp  i2_freq   i2_supp  confidence      lift  \n",
       "0   379450  12.227775   213584  6.882744    0.181463  0.026365  \n",
       "1   472565  15.228406   213584  6.882744    0.072974  0.010602  \n",
       "2   241921   7.795904   213584  6.882744    0.159343  0.023151  \n",
       "3   176815   5.697863   213584  6.882744    0.005666  0.000823  \n",
       "4   152657   4.919371   213584  6.882744    0.108565  0.015773  "
      ]
     },
     "execution_count": 45,
     "metadata": {},
     "output_type": "execute_result"
    }
   ],
   "source": [
    "# Calculate lift of product pairs. \n",
    "df_apriori[\"lift\"] = (df_apriori['Support_1_2']) / (df_apriori['i1_supp']*df_apriori['i2_supp'] )\n",
    "# Example output.\n",
    "df_apriori.head()"
   ]
  },
  {
   "cell_type": "code",
   "execution_count": null,
   "metadata": {},
   "outputs": [],
   "source": []
  },
  {
   "cell_type": "markdown",
   "metadata": {
    "colab_type": "text",
    "id": "NiRwxXOXDQVh",
    "slideshow": {
     "slide_type": "subslide"
    }
   },
   "source": [
    "## Exploring the output"
   ]
  },
  {
   "cell_type": "code",
   "execution_count": 50,
   "metadata": {
    "ExecuteTime": {
     "end_time": "2019-04-26T22:22:26.014917Z",
     "start_time": "2019-04-26T22:22:17.000543Z"
    },
    "_uuid": "ba7825d9ea2f5d0d91ed5f981e1b9811da337acd",
    "colab": {},
    "colab_type": "code",
    "id": "kkiMpMpuDQVi",
    "scrolled": true,
    "slideshow": {
     "slide_type": "subslide"
    }
   },
   "outputs": [
    {
     "data": {
      "text/plain": [
       "6111"
      ]
     },
     "metadata": {},
     "output_type": "display_data"
    },
    {
     "data": {
      "text/html": [
       "<div>\n",
       "<style scoped>\n",
       "    .dataframe tbody tr th:only-of-type {\n",
       "        vertical-align: middle;\n",
       "    }\n",
       "\n",
       "    .dataframe tbody tr th {\n",
       "        vertical-align: top;\n",
       "    }\n",
       "\n",
       "    .dataframe thead th {\n",
       "        text-align: right;\n",
       "    }\n",
       "</style>\n",
       "<table border=\"1\" class=\"dataframe\">\n",
       "  <thead>\n",
       "    <tr style=\"text-align: right;\">\n",
       "      <th></th>\n",
       "      <th>frequency</th>\n",
       "      <th>Support_1_2</th>\n",
       "      <th>i1_freq</th>\n",
       "      <th>i1_supp</th>\n",
       "      <th>i2_freq</th>\n",
       "      <th>i2_supp</th>\n",
       "      <th>confidence</th>\n",
       "      <th>lift</th>\n",
       "    </tr>\n",
       "  </thead>\n",
       "  <tbody>\n",
       "    <tr>\n",
       "      <th>count</th>\n",
       "      <td>7.169993e+06</td>\n",
       "      <td>7.169993e+06</td>\n",
       "      <td>7.169993e+06</td>\n",
       "      <td>7.169993e+06</td>\n",
       "      <td>7.169993e+06</td>\n",
       "      <td>7.169993e+06</td>\n",
       "      <td>7.169993e+06</td>\n",
       "      <td>7.169993e+06</td>\n",
       "    </tr>\n",
       "    <tr>\n",
       "      <th>mean</th>\n",
       "      <td>1.538510e+01</td>\n",
       "      <td>5.475986e-04</td>\n",
       "      <td>6.455754e+03</td>\n",
       "      <td>2.080367e-01</td>\n",
       "      <td>6.907079e+03</td>\n",
       "      <td>2.225806e-01</td>\n",
       "      <td>4.666861e-03</td>\n",
       "      <td>4.790640e-02</td>\n",
       "    </tr>\n",
       "    <tr>\n",
       "      <th>std</th>\n",
       "      <td>1.512188e+02</td>\n",
       "      <td>5.382300e-03</td>\n",
       "      <td>2.241053e+04</td>\n",
       "      <td>7.221794e-01</td>\n",
       "      <td>1.736092e+04</td>\n",
       "      <td>5.594557e-01</td>\n",
       "      <td>1.069321e-02</td>\n",
       "      <td>1.377441e-01</td>\n",
       "    </tr>\n",
       "    <tr>\n",
       "      <th>min</th>\n",
       "      <td>1.000000e+00</td>\n",
       "      <td>3.559280e-05</td>\n",
       "      <td>3.110000e+02</td>\n",
       "      <td>1.002197e-02</td>\n",
       "      <td>3.110000e+02</td>\n",
       "      <td>1.002197e-02</td>\n",
       "      <td>2.337264e-06</td>\n",
       "      <td>1.114488e-05</td>\n",
       "    </tr>\n",
       "    <tr>\n",
       "      <th>25%</th>\n",
       "      <td>1.000000e+00</td>\n",
       "      <td>3.559280e-05</td>\n",
       "      <td>7.650000e+02</td>\n",
       "      <td>2.465212e-02</td>\n",
       "      <td>8.580000e+02</td>\n",
       "      <td>2.764905e-02</td>\n",
       "      <td>7.802960e-04</td>\n",
       "      <td>1.167768e-02</td>\n",
       "    </tr>\n",
       "    <tr>\n",
       "      <th>50%</th>\n",
       "      <td>3.000000e+00</td>\n",
       "      <td>1.067784e-04</td>\n",
       "      <td>1.794000e+03</td>\n",
       "      <td>5.781165e-02</td>\n",
       "      <td>2.023000e+03</td>\n",
       "      <td>6.519117e-02</td>\n",
       "      <td>1.894527e-03</td>\n",
       "      <td>2.282751e-02</td>\n",
       "    </tr>\n",
       "    <tr>\n",
       "      <th>75%</th>\n",
       "      <td>7.000000e+00</td>\n",
       "      <td>2.491496e-04</td>\n",
       "      <td>4.743000e+03</td>\n",
       "      <td>1.528432e-01</td>\n",
       "      <td>5.709000e+03</td>\n",
       "      <td>1.839725e-01</td>\n",
       "      <td>4.361339e-03</td>\n",
       "      <td>4.898292e-02</td>\n",
       "    </tr>\n",
       "    <tr>\n",
       "      <th>max</th>\n",
       "      <td>6.234100e+04</td>\n",
       "      <td>2.218891e+00</td>\n",
       "      <td>4.725650e+05</td>\n",
       "      <td>1.522841e+01</td>\n",
       "      <td>4.725650e+05</td>\n",
       "      <td>1.522841e+01</td>\n",
       "      <td>6.806092e-01</td>\n",
       "      <td>3.672312e+01</td>\n",
       "    </tr>\n",
       "  </tbody>\n",
       "</table>\n",
       "</div>"
      ],
      "text/plain": [
       "          frequency   Support_1_2       i1_freq       i1_supp       i2_freq  \\\n",
       "count  7.169993e+06  7.169993e+06  7.169993e+06  7.169993e+06  7.169993e+06   \n",
       "mean   1.538510e+01  5.475986e-04  6.455754e+03  2.080367e-01  6.907079e+03   \n",
       "std    1.512188e+02  5.382300e-03  2.241053e+04  7.221794e-01  1.736092e+04   \n",
       "min    1.000000e+00  3.559280e-05  3.110000e+02  1.002197e-02  3.110000e+02   \n",
       "25%    1.000000e+00  3.559280e-05  7.650000e+02  2.465212e-02  8.580000e+02   \n",
       "50%    3.000000e+00  1.067784e-04  1.794000e+03  5.781165e-02  2.023000e+03   \n",
       "75%    7.000000e+00  2.491496e-04  4.743000e+03  1.528432e-01  5.709000e+03   \n",
       "max    6.234100e+04  2.218891e+00  4.725650e+05  1.522841e+01  4.725650e+05   \n",
       "\n",
       "            i2_supp    confidence          lift  \n",
       "count  7.169993e+06  7.169993e+06  7.169993e+06  \n",
       "mean   2.225806e-01  4.666861e-03  4.790640e-02  \n",
       "std    5.594557e-01  1.069321e-02  1.377441e-01  \n",
       "min    1.002197e-02  2.337264e-06  1.114488e-05  \n",
       "25%    2.764905e-02  7.802960e-04  1.167768e-02  \n",
       "50%    6.519117e-02  1.894527e-03  2.282751e-02  \n",
       "75%    1.839725e-01  4.361339e-03  4.898292e-02  \n",
       "max    1.522841e+01  6.806092e-01  3.672312e+01  "
      ]
     },
     "metadata": {},
     "output_type": "display_data"
    },
    {
     "data": {
      "text/html": [
       "<div>\n",
       "<style scoped>\n",
       "    .dataframe tbody tr th:only-of-type {\n",
       "        vertical-align: middle;\n",
       "    }\n",
       "\n",
       "    .dataframe tbody tr th {\n",
       "        vertical-align: top;\n",
       "    }\n",
       "\n",
       "    .dataframe thead th {\n",
       "        text-align: right;\n",
       "    }\n",
       "</style>\n",
       "<table border=\"1\" class=\"dataframe\">\n",
       "  <thead>\n",
       "    <tr style=\"text-align: right;\">\n",
       "      <th></th>\n",
       "      <th>items1</th>\n",
       "      <th>items2</th>\n",
       "      <th>frequency</th>\n",
       "      <th>Support_1_2</th>\n",
       "      <th>i1_freq</th>\n",
       "      <th>i1_supp</th>\n",
       "      <th>i2_freq</th>\n",
       "      <th>i2_supp</th>\n",
       "      <th>confidence</th>\n",
       "      <th>lift</th>\n",
       "    </tr>\n",
       "  </thead>\n",
       "  <tbody>\n",
       "    <tr>\n",
       "      <th>6903816</th>\n",
       "      <td>Farmstyle Greek Old Fashioned Vanilla Strained...</td>\n",
       "      <td>Farmstyle Greek Strained Yogurt Oregon Strawbe...</td>\n",
       "      <td>162</td>\n",
       "      <td>0.005766</td>\n",
       "      <td>450</td>\n",
       "      <td>0.014501</td>\n",
       "      <td>336</td>\n",
       "      <td>0.010828</td>\n",
       "      <td>0.397623</td>\n",
       "      <td>36.723122</td>\n",
       "    </tr>\n",
       "    <tr>\n",
       "      <th>7072597</th>\n",
       "      <td>English Breakfast Black Tea</td>\n",
       "      <td>Premium Green Tea</td>\n",
       "      <td>121</td>\n",
       "      <td>0.004307</td>\n",
       "      <td>388</td>\n",
       "      <td>0.012503</td>\n",
       "      <td>321</td>\n",
       "      <td>0.010344</td>\n",
       "      <td>0.344447</td>\n",
       "      <td>33.298524</td>\n",
       "    </tr>\n",
       "    <tr>\n",
       "      <th>6217829</th>\n",
       "      <td>Unsweet Blackberry Sparkling Water</td>\n",
       "      <td>Unsweet Peach Sparkling Water</td>\n",
       "      <td>205</td>\n",
       "      <td>0.007297</td>\n",
       "      <td>594</td>\n",
       "      <td>0.019142</td>\n",
       "      <td>357</td>\n",
       "      <td>0.011504</td>\n",
       "      <td>0.381186</td>\n",
       "      <td>33.134130</td>\n",
       "    </tr>\n",
       "    <tr>\n",
       "      <th>4768607</th>\n",
       "      <td>Dairy Free Greek Yogurt Blueberry</td>\n",
       "      <td>Dairy Free Greek Yogurt Strawberry</td>\n",
       "      <td>307</td>\n",
       "      <td>0.010927</td>\n",
       "      <td>581</td>\n",
       "      <td>0.018723</td>\n",
       "      <td>623</td>\n",
       "      <td>0.020076</td>\n",
       "      <td>0.583622</td>\n",
       "      <td>29.070370</td>\n",
       "    </tr>\n",
       "    <tr>\n",
       "      <th>4979656</th>\n",
       "      <td>Gluten Free Organic Cereal Coconut Maple Vanilla</td>\n",
       "      <td>Gluten Free Organic Oat Based Cereal</td>\n",
       "      <td>133</td>\n",
       "      <td>0.004734</td>\n",
       "      <td>377</td>\n",
       "      <td>0.012149</td>\n",
       "      <td>423</td>\n",
       "      <td>0.013631</td>\n",
       "      <td>0.389654</td>\n",
       "      <td>28.585533</td>\n",
       "    </tr>\n",
       "    <tr>\n",
       "      <th>5493580</th>\n",
       "      <td>Honeydew Kombucha Tea</td>\n",
       "      <td>Tropical Kombucha</td>\n",
       "      <td>153</td>\n",
       "      <td>0.005446</td>\n",
       "      <td>485</td>\n",
       "      <td>0.015629</td>\n",
       "      <td>390</td>\n",
       "      <td>0.012568</td>\n",
       "      <td>0.348433</td>\n",
       "      <td>27.724355</td>\n",
       "    </tr>\n",
       "    <tr>\n",
       "      <th>6598155</th>\n",
       "      <td>Real Medleys Peach Almond Oatmeal</td>\n",
       "      <td>Real Medleys Summer Berry Oatmeal Cup</td>\n",
       "      <td>188</td>\n",
       "      <td>0.006691</td>\n",
       "      <td>438</td>\n",
       "      <td>0.014115</td>\n",
       "      <td>545</td>\n",
       "      <td>0.017563</td>\n",
       "      <td>0.474081</td>\n",
       "      <td>26.993774</td>\n",
       "    </tr>\n",
       "    <tr>\n",
       "      <th>7072634</th>\n",
       "      <td>Peppermint Tea</td>\n",
       "      <td>Premium Green Tea</td>\n",
       "      <td>80</td>\n",
       "      <td>0.002847</td>\n",
       "      <td>330</td>\n",
       "      <td>0.010634</td>\n",
       "      <td>321</td>\n",
       "      <td>0.010344</td>\n",
       "      <td>0.267760</td>\n",
       "      <td>25.884953</td>\n",
       "    </tr>\n",
       "    <tr>\n",
       "      <th>6783935</th>\n",
       "      <td>Real Medleys Peach Almond Oatmeal</td>\n",
       "      <td>Real Medleys Super Grains Banana Walnut Oatmea...</td>\n",
       "      <td>122</td>\n",
       "      <td>0.004342</td>\n",
       "      <td>438</td>\n",
       "      <td>0.014115</td>\n",
       "      <td>378</td>\n",
       "      <td>0.012181</td>\n",
       "      <td>0.307649</td>\n",
       "      <td>25.256333</td>\n",
       "    </tr>\n",
       "    <tr>\n",
       "      <th>6581432</th>\n",
       "      <td>Real Medleys Apple Walnut Oatmeal</td>\n",
       "      <td>Real Medleys Peach Almond Oatmeal</td>\n",
       "      <td>148</td>\n",
       "      <td>0.005268</td>\n",
       "      <td>460</td>\n",
       "      <td>0.014823</td>\n",
       "      <td>438</td>\n",
       "      <td>0.014115</td>\n",
       "      <td>0.355364</td>\n",
       "      <td>25.177125</td>\n",
       "    </tr>\n",
       "    <tr>\n",
       "      <th>6046186</th>\n",
       "      <td>Strawberry Yogurt Protein Drink with a Crunchy...</td>\n",
       "      <td>Vanilla Bean &amp; Honey Yogurt Protein Drink</td>\n",
       "      <td>91</td>\n",
       "      <td>0.003239</td>\n",
       "      <td>379</td>\n",
       "      <td>0.012213</td>\n",
       "      <td>328</td>\n",
       "      <td>0.010570</td>\n",
       "      <td>0.265199</td>\n",
       "      <td>25.090234</td>\n",
       "    </tr>\n",
       "    <tr>\n",
       "      <th>5545588</th>\n",
       "      <td>Mixed Berry Low Fat Almond Non-Dairy Yogurt</td>\n",
       "      <td>Non-Dairy Low Fat Strawberry Almond  Yogurt</td>\n",
       "      <td>179</td>\n",
       "      <td>0.006371</td>\n",
       "      <td>418</td>\n",
       "      <td>0.013470</td>\n",
       "      <td>585</td>\n",
       "      <td>0.018852</td>\n",
       "      <td>0.472984</td>\n",
       "      <td>25.089803</td>\n",
       "    </tr>\n",
       "    <tr>\n",
       "      <th>6395938</th>\n",
       "      <td>Whips! Key Lime Pie Flavored Lowfat Yogurt Mousse</td>\n",
       "      <td>Whips! Orange Creme Flavored Lowfat Yogurt Mousse</td>\n",
       "      <td>168</td>\n",
       "      <td>0.005980</td>\n",
       "      <td>725</td>\n",
       "      <td>0.023363</td>\n",
       "      <td>321</td>\n",
       "      <td>0.010344</td>\n",
       "      <td>0.255941</td>\n",
       "      <td>24.742445</td>\n",
       "    </tr>\n",
       "    <tr>\n",
       "      <th>4760076</th>\n",
       "      <td>Dairy Free Greek Yogurt Black Cherry</td>\n",
       "      <td>Dairy Free Greek Yogurt Blueberry</td>\n",
       "      <td>231</td>\n",
       "      <td>0.008222</td>\n",
       "      <td>558</td>\n",
       "      <td>0.017982</td>\n",
       "      <td>581</td>\n",
       "      <td>0.018723</td>\n",
       "      <td>0.457243</td>\n",
       "      <td>24.421819</td>\n",
       "    </tr>\n",
       "    <tr>\n",
       "      <th>5474068</th>\n",
       "      <td>Organic Blueberry Lowfat Yogurt</td>\n",
       "      <td>Yogurt, Organic, Lowfat, Raspberry, 1-1/2% Mil...</td>\n",
       "      <td>187</td>\n",
       "      <td>0.006656</td>\n",
       "      <td>544</td>\n",
       "      <td>0.017530</td>\n",
       "      <td>492</td>\n",
       "      <td>0.015855</td>\n",
       "      <td>0.379675</td>\n",
       "      <td>23.947158</td>\n",
       "    </tr>\n",
       "    <tr>\n",
       "      <th>3966701</th>\n",
       "      <td>Grassfed Whole Milk Strawberry Yogurt</td>\n",
       "      <td>Organic Strawberry Grassfed Whole Milk Yogurt</td>\n",
       "      <td>316</td>\n",
       "      <td>0.011247</td>\n",
       "      <td>639</td>\n",
       "      <td>0.020592</td>\n",
       "      <td>712</td>\n",
       "      <td>0.022944</td>\n",
       "      <td>0.546205</td>\n",
       "      <td>23.805790</td>\n",
       "    </tr>\n",
       "    <tr>\n",
       "      <th>4690895</th>\n",
       "      <td>Jasmine Green</td>\n",
       "      <td>Rose Black</td>\n",
       "      <td>169</td>\n",
       "      <td>0.006015</td>\n",
       "      <td>408</td>\n",
       "      <td>0.013148</td>\n",
       "      <td>619</td>\n",
       "      <td>0.019947</td>\n",
       "      <td>0.457505</td>\n",
       "      <td>22.935714</td>\n",
       "    </tr>\n",
       "    <tr>\n",
       "      <th>5692482</th>\n",
       "      <td>Organic Passion Terere Yerba Mate</td>\n",
       "      <td>Pomegranate Terere</td>\n",
       "      <td>132</td>\n",
       "      <td>0.004698</td>\n",
       "      <td>404</td>\n",
       "      <td>0.013019</td>\n",
       "      <td>495</td>\n",
       "      <td>0.015951</td>\n",
       "      <td>0.360879</td>\n",
       "      <td>22.623705</td>\n",
       "    </tr>\n",
       "    <tr>\n",
       "      <th>6181711</th>\n",
       "      <td>Cranberry Walnut Salad Cafe Bowl</td>\n",
       "      <td>Santa Fe Style Salad Cafe Bowl</td>\n",
       "      <td>111</td>\n",
       "      <td>0.003951</td>\n",
       "      <td>350</td>\n",
       "      <td>0.011279</td>\n",
       "      <td>484</td>\n",
       "      <td>0.015597</td>\n",
       "      <td>0.350287</td>\n",
       "      <td>22.458769</td>\n",
       "    </tr>\n",
       "    <tr>\n",
       "      <th>6218002</th>\n",
       "      <td>Unsweet Cherry Sparkling Water</td>\n",
       "      <td>Unsweet Peach Sparkling Water</td>\n",
       "      <td>89</td>\n",
       "      <td>0.003168</td>\n",
       "      <td>384</td>\n",
       "      <td>0.012374</td>\n",
       "      <td>357</td>\n",
       "      <td>0.011504</td>\n",
       "      <td>0.255993</td>\n",
       "      <td>22.251892</td>\n",
       "    </tr>\n",
       "    <tr>\n",
       "      <th>4768627</th>\n",
       "      <td>Dairy Free Greek Yogurt Black Cherry</td>\n",
       "      <td>Dairy Free Greek Yogurt Strawberry</td>\n",
       "      <td>224</td>\n",
       "      <td>0.007973</td>\n",
       "      <td>558</td>\n",
       "      <td>0.017982</td>\n",
       "      <td>623</td>\n",
       "      <td>0.020076</td>\n",
       "      <td>0.443387</td>\n",
       "      <td>22.085241</td>\n",
       "    </tr>\n",
       "    <tr>\n",
       "      <th>6784017</th>\n",
       "      <td>Real Medleys Summer Berry Oatmeal Cup</td>\n",
       "      <td>Real Medleys Super Grains Banana Walnut Oatmea...</td>\n",
       "      <td>132</td>\n",
       "      <td>0.004698</td>\n",
       "      <td>545</td>\n",
       "      <td>0.017563</td>\n",
       "      <td>378</td>\n",
       "      <td>0.012181</td>\n",
       "      <td>0.267514</td>\n",
       "      <td>21.961500</td>\n",
       "    </tr>\n",
       "    <tr>\n",
       "      <th>5360804</th>\n",
       "      <td>Cottage Doubles Peach, 2% Milkfat Lowfat Cotta...</td>\n",
       "      <td>Lowfat &amp; Strawberry Topping Cottage Cheese</td>\n",
       "      <td>113</td>\n",
       "      <td>0.004022</td>\n",
       "      <td>350</td>\n",
       "      <td>0.011279</td>\n",
       "      <td>505</td>\n",
       "      <td>0.016274</td>\n",
       "      <td>0.356599</td>\n",
       "      <td>21.912675</td>\n",
       "    </tr>\n",
       "    <tr>\n",
       "      <th>4664274</th>\n",
       "      <td>Organic Bluephoria Yerba Mate</td>\n",
       "      <td>Yerba Mate Orange Exuberance Tea</td>\n",
       "      <td>271</td>\n",
       "      <td>0.009646</td>\n",
       "      <td>623</td>\n",
       "      <td>0.020076</td>\n",
       "      <td>693</td>\n",
       "      <td>0.022332</td>\n",
       "      <td>0.480453</td>\n",
       "      <td>21.514159</td>\n",
       "    </tr>\n",
       "    <tr>\n",
       "      <th>6415647</th>\n",
       "      <td>Lemon Seltzer Water</td>\n",
       "      <td>Lime Seltzer</td>\n",
       "      <td>138</td>\n",
       "      <td>0.004912</td>\n",
       "      <td>437</td>\n",
       "      <td>0.014082</td>\n",
       "      <td>516</td>\n",
       "      <td>0.016628</td>\n",
       "      <td>0.348792</td>\n",
       "      <td>20.976079</td>\n",
       "    </tr>\n",
       "    <tr>\n",
       "      <th>3932135</th>\n",
       "      <td>Organic Blueberry Cream On Top Whole Milk Yogurt</td>\n",
       "      <td>Organic Forest Berry Cream On Top Whole Milk Y...</td>\n",
       "      <td>300</td>\n",
       "      <td>0.010678</td>\n",
       "      <td>755</td>\n",
       "      <td>0.024330</td>\n",
       "      <td>650</td>\n",
       "      <td>0.020946</td>\n",
       "      <td>0.438878</td>\n",
       "      <td>20.952571</td>\n",
       "    </tr>\n",
       "    <tr>\n",
       "      <th>5856353</th>\n",
       "      <td>Dark Chocolate Pot De Creme</td>\n",
       "      <td>Vanilla Pot De Creme</td>\n",
       "      <td>155</td>\n",
       "      <td>0.005517</td>\n",
       "      <td>646</td>\n",
       "      <td>0.020817</td>\n",
       "      <td>396</td>\n",
       "      <td>0.012761</td>\n",
       "      <td>0.265014</td>\n",
       "      <td>20.767316</td>\n",
       "    </tr>\n",
       "    <tr>\n",
       "      <th>6855107</th>\n",
       "      <td>Black Cherry Sparkling Water</td>\n",
       "      <td>Strawberry Watermelon Sparkling Water</td>\n",
       "      <td>95</td>\n",
       "      <td>0.003381</td>\n",
       "      <td>321</td>\n",
       "      <td>0.010344</td>\n",
       "      <td>489</td>\n",
       "      <td>0.015758</td>\n",
       "      <td>0.326880</td>\n",
       "      <td>20.743693</td>\n",
       "    </tr>\n",
       "    <tr>\n",
       "      <th>5174974</th>\n",
       "      <td>Super Tea Power Greens</td>\n",
       "      <td>Super Tea Sweet Thorn</td>\n",
       "      <td>89</td>\n",
       "      <td>0.003168</td>\n",
       "      <td>460</td>\n",
       "      <td>0.014823</td>\n",
       "      <td>320</td>\n",
       "      <td>0.010312</td>\n",
       "      <td>0.213698</td>\n",
       "      <td>20.723283</td>\n",
       "    </tr>\n",
       "    <tr>\n",
       "      <th>6114377</th>\n",
       "      <td>Hibiscus Sunrise</td>\n",
       "      <td>Jasmine Green</td>\n",
       "      <td>102</td>\n",
       "      <td>0.003630</td>\n",
       "      <td>418</td>\n",
       "      <td>0.013470</td>\n",
       "      <td>408</td>\n",
       "      <td>0.013148</td>\n",
       "      <td>0.269521</td>\n",
       "      <td>20.499350</td>\n",
       "    </tr>\n",
       "    <tr>\n",
       "      <th>...</th>\n",
       "      <td>...</td>\n",
       "      <td>...</td>\n",
       "      <td>...</td>\n",
       "      <td>...</td>\n",
       "      <td>...</td>\n",
       "      <td>...</td>\n",
       "      <td>...</td>\n",
       "      <td>...</td>\n",
       "      <td>...</td>\n",
       "      <td>...</td>\n",
       "    </tr>\n",
       "    <tr>\n",
       "      <th>45746</th>\n",
       "      <td>Fresh Asparagus</td>\n",
       "      <td>Limes</td>\n",
       "      <td>1</td>\n",
       "      <td>0.000036</td>\n",
       "      <td>5869</td>\n",
       "      <td>0.189129</td>\n",
       "      <td>140627</td>\n",
       "      <td>4.531705</td>\n",
       "      <td>0.000188</td>\n",
       "      <td>0.000042</td>\n",
       "    </tr>\n",
       "    <tr>\n",
       "      <th>42907</th>\n",
       "      <td>Clementines</td>\n",
       "      <td>Organic Garlic</td>\n",
       "      <td>4</td>\n",
       "      <td>0.000142</td>\n",
       "      <td>30843</td>\n",
       "      <td>0.993916</td>\n",
       "      <td>109778</td>\n",
       "      <td>3.537596</td>\n",
       "      <td>0.000143</td>\n",
       "      <td>0.000040</td>\n",
       "    </tr>\n",
       "    <tr>\n",
       "      <th>556792</th>\n",
       "      <td>Organic Hothouse Cucumbers</td>\n",
       "      <td>Soda</td>\n",
       "      <td>1</td>\n",
       "      <td>0.000036</td>\n",
       "      <td>23892</td>\n",
       "      <td>0.769920</td>\n",
       "      <td>35791</td>\n",
       "      <td>1.153365</td>\n",
       "      <td>0.000046</td>\n",
       "      <td>0.000040</td>\n",
       "    </tr>\n",
       "    <tr>\n",
       "      <th>814386</th>\n",
       "      <td>Organic Tomato Cluster</td>\n",
       "      <td>Packaged Grape Tomatoes</td>\n",
       "      <td>1</td>\n",
       "      <td>0.000036</td>\n",
       "      <td>64289</td>\n",
       "      <td>2.071713</td>\n",
       "      <td>13355</td>\n",
       "      <td>0.430365</td>\n",
       "      <td>0.000017</td>\n",
       "      <td>0.000040</td>\n",
       "    </tr>\n",
       "    <tr>\n",
       "      <th>1483674</th>\n",
       "      <td>Organic Unsweetened Almond Milk</td>\n",
       "      <td>Original Nooks &amp; Crannies English Muffins</td>\n",
       "      <td>1</td>\n",
       "      <td>0.000036</td>\n",
       "      <td>57895</td>\n",
       "      <td>1.865666</td>\n",
       "      <td>14973</td>\n",
       "      <td>0.482505</td>\n",
       "      <td>0.000019</td>\n",
       "      <td>0.000040</td>\n",
       "    </tr>\n",
       "    <tr>\n",
       "      <th>151851</th>\n",
       "      <td>Apples</td>\n",
       "      <td>Half &amp; Half</td>\n",
       "      <td>1</td>\n",
       "      <td>0.000036</td>\n",
       "      <td>12575</td>\n",
       "      <td>0.405229</td>\n",
       "      <td>69217</td>\n",
       "      <td>2.230518</td>\n",
       "      <td>0.000088</td>\n",
       "      <td>0.000039</td>\n",
       "    </tr>\n",
       "    <tr>\n",
       "      <th>25875</th>\n",
       "      <td>Medium Scarlet Raspberries</td>\n",
       "      <td>Organic Avocado</td>\n",
       "      <td>1</td>\n",
       "      <td>0.000036</td>\n",
       "      <td>5037</td>\n",
       "      <td>0.162317</td>\n",
       "      <td>176815</td>\n",
       "      <td>5.697863</td>\n",
       "      <td>0.000219</td>\n",
       "      <td>0.000038</td>\n",
       "    </tr>\n",
       "    <tr>\n",
       "      <th>1483684</th>\n",
       "      <td>Organic Whole String Cheese</td>\n",
       "      <td>Original Nooks &amp; Crannies English Muffins</td>\n",
       "      <td>1</td>\n",
       "      <td>0.000036</td>\n",
       "      <td>59676</td>\n",
       "      <td>1.923059</td>\n",
       "      <td>14973</td>\n",
       "      <td>0.482505</td>\n",
       "      <td>0.000019</td>\n",
       "      <td>0.000038</td>\n",
       "    </tr>\n",
       "    <tr>\n",
       "      <th>48339</th>\n",
       "      <td>Fresh Asparagus</td>\n",
       "      <td>Large Lemon</td>\n",
       "      <td>1</td>\n",
       "      <td>0.000036</td>\n",
       "      <td>5869</td>\n",
       "      <td>0.189129</td>\n",
       "      <td>152657</td>\n",
       "      <td>4.919371</td>\n",
       "      <td>0.000188</td>\n",
       "      <td>0.000038</td>\n",
       "    </tr>\n",
       "    <tr>\n",
       "      <th>814381</th>\n",
       "      <td>Half &amp; Half</td>\n",
       "      <td>Packaged Grape Tomatoes</td>\n",
       "      <td>1</td>\n",
       "      <td>0.000036</td>\n",
       "      <td>69217</td>\n",
       "      <td>2.230518</td>\n",
       "      <td>13355</td>\n",
       "      <td>0.430365</td>\n",
       "      <td>0.000016</td>\n",
       "      <td>0.000037</td>\n",
       "    </tr>\n",
       "    <tr>\n",
       "      <th>556759</th>\n",
       "      <td>Organic Ginger Root</td>\n",
       "      <td>Soda</td>\n",
       "      <td>2</td>\n",
       "      <td>0.000071</td>\n",
       "      <td>52087</td>\n",
       "      <td>1.678503</td>\n",
       "      <td>35791</td>\n",
       "      <td>1.153365</td>\n",
       "      <td>0.000042</td>\n",
       "      <td>0.000037</td>\n",
       "    </tr>\n",
       "    <tr>\n",
       "      <th>1027511</th>\n",
       "      <td>Organic Grape Tomatoes</td>\n",
       "      <td>Sweet Kale Salad Mix</td>\n",
       "      <td>1</td>\n",
       "      <td>0.000036</td>\n",
       "      <td>84255</td>\n",
       "      <td>2.715117</td>\n",
       "      <td>11362</td>\n",
       "      <td>0.366140</td>\n",
       "      <td>0.000013</td>\n",
       "      <td>0.000036</td>\n",
       "    </tr>\n",
       "    <tr>\n",
       "      <th>50781</th>\n",
       "      <td>0% Greek Strained Yogurt</td>\n",
       "      <td>Organic Gala Apples</td>\n",
       "      <td>1</td>\n",
       "      <td>0.000036</td>\n",
       "      <td>13238</td>\n",
       "      <td>0.426595</td>\n",
       "      <td>72846</td>\n",
       "      <td>2.347462</td>\n",
       "      <td>0.000083</td>\n",
       "      <td>0.000036</td>\n",
       "    </tr>\n",
       "    <tr>\n",
       "      <th>105850</th>\n",
       "      <td>Baby Cucumbers</td>\n",
       "      <td>Organic Red Onion</td>\n",
       "      <td>1</td>\n",
       "      <td>0.000036</td>\n",
       "      <td>14399</td>\n",
       "      <td>0.464008</td>\n",
       "      <td>66986</td>\n",
       "      <td>2.158624</td>\n",
       "      <td>0.000077</td>\n",
       "      <td>0.000036</td>\n",
       "    </tr>\n",
       "    <tr>\n",
       "      <th>1026621</th>\n",
       "      <td>Organic Avocado</td>\n",
       "      <td>Organic Fuji Apples</td>\n",
       "      <td>1</td>\n",
       "      <td>0.000036</td>\n",
       "      <td>176815</td>\n",
       "      <td>5.697863</td>\n",
       "      <td>5526</td>\n",
       "      <td>0.178075</td>\n",
       "      <td>0.000006</td>\n",
       "      <td>0.000035</td>\n",
       "    </tr>\n",
       "    <tr>\n",
       "      <th>556718</th>\n",
       "      <td>Organic Garlic</td>\n",
       "      <td>Soda</td>\n",
       "      <td>4</td>\n",
       "      <td>0.000142</td>\n",
       "      <td>109778</td>\n",
       "      <td>3.537596</td>\n",
       "      <td>35791</td>\n",
       "      <td>1.153365</td>\n",
       "      <td>0.000040</td>\n",
       "      <td>0.000035</td>\n",
       "    </tr>\n",
       "    <tr>\n",
       "      <th>300845</th>\n",
       "      <td>Clementines</td>\n",
       "      <td>Feta Cheese Crumbles</td>\n",
       "      <td>1</td>\n",
       "      <td>0.000036</td>\n",
       "      <td>30843</td>\n",
       "      <td>0.993916</td>\n",
       "      <td>32351</td>\n",
       "      <td>1.042511</td>\n",
       "      <td>0.000036</td>\n",
       "      <td>0.000034</td>\n",
       "    </tr>\n",
       "    <tr>\n",
       "      <th>118670</th>\n",
       "      <td>Baby Cucumbers</td>\n",
       "      <td>Organic Baby Arugula</td>\n",
       "      <td>1</td>\n",
       "      <td>0.000036</td>\n",
       "      <td>14399</td>\n",
       "      <td>0.464008</td>\n",
       "      <td>72829</td>\n",
       "      <td>2.346914</td>\n",
       "      <td>0.000077</td>\n",
       "      <td>0.000033</td>\n",
       "    </tr>\n",
       "    <tr>\n",
       "      <th>226778</th>\n",
       "      <td>Baby Cucumbers</td>\n",
       "      <td>Yellow Onions</td>\n",
       "      <td>1</td>\n",
       "      <td>0.000036</td>\n",
       "      <td>14399</td>\n",
       "      <td>0.464008</td>\n",
       "      <td>73167</td>\n",
       "      <td>2.357806</td>\n",
       "      <td>0.000077</td>\n",
       "      <td>0.000033</td>\n",
       "    </tr>\n",
       "    <tr>\n",
       "      <th>162</th>\n",
       "      <td>Medium Scarlet Raspberries</td>\n",
       "      <td>Organic Hass Avocado</td>\n",
       "      <td>1</td>\n",
       "      <td>0.000036</td>\n",
       "      <td>5037</td>\n",
       "      <td>0.162317</td>\n",
       "      <td>213584</td>\n",
       "      <td>6.882744</td>\n",
       "      <td>0.000219</td>\n",
       "      <td>0.000032</td>\n",
       "    </tr>\n",
       "    <tr>\n",
       "      <th>154084</th>\n",
       "      <td>Baby Cucumbers</td>\n",
       "      <td>Sparkling Water Grapefruit</td>\n",
       "      <td>1</td>\n",
       "      <td>0.000036</td>\n",
       "      <td>14399</td>\n",
       "      <td>0.464008</td>\n",
       "      <td>75886</td>\n",
       "      <td>2.445426</td>\n",
       "      <td>0.000077</td>\n",
       "      <td>0.000031</td>\n",
       "    </tr>\n",
       "    <tr>\n",
       "      <th>556783</th>\n",
       "      <td>Organic Baby Broccoli</td>\n",
       "      <td>Soda</td>\n",
       "      <td>1</td>\n",
       "      <td>0.000036</td>\n",
       "      <td>31792</td>\n",
       "      <td>1.024497</td>\n",
       "      <td>35791</td>\n",
       "      <td>1.153365</td>\n",
       "      <td>0.000035</td>\n",
       "      <td>0.000030</td>\n",
       "    </tr>\n",
       "    <tr>\n",
       "      <th>39677</th>\n",
       "      <td>Baby Cucumbers</td>\n",
       "      <td>Organic Cucumber</td>\n",
       "      <td>1</td>\n",
       "      <td>0.000036</td>\n",
       "      <td>14399</td>\n",
       "      <td>0.464008</td>\n",
       "      <td>80392</td>\n",
       "      <td>2.590632</td>\n",
       "      <td>0.000077</td>\n",
       "      <td>0.000030</td>\n",
       "    </tr>\n",
       "    <tr>\n",
       "      <th>556765</th>\n",
       "      <td>Feta Cheese Crumbles</td>\n",
       "      <td>Soda</td>\n",
       "      <td>1</td>\n",
       "      <td>0.000036</td>\n",
       "      <td>32351</td>\n",
       "      <td>1.042511</td>\n",
       "      <td>35791</td>\n",
       "      <td>1.153365</td>\n",
       "      <td>0.000034</td>\n",
       "      <td>0.000030</td>\n",
       "    </tr>\n",
       "    <tr>\n",
       "      <th>814360</th>\n",
       "      <td>Organic Lemon</td>\n",
       "      <td>Packaged Grape Tomatoes</td>\n",
       "      <td>1</td>\n",
       "      <td>0.000036</td>\n",
       "      <td>87746</td>\n",
       "      <td>2.827615</td>\n",
       "      <td>13355</td>\n",
       "      <td>0.430365</td>\n",
       "      <td>0.000013</td>\n",
       "      <td>0.000029</td>\n",
       "    </tr>\n",
       "    <tr>\n",
       "      <th>121770</th>\n",
       "      <td>Baby Cucumbers</td>\n",
       "      <td>Organic Fuji Apple</td>\n",
       "      <td>1</td>\n",
       "      <td>0.000036</td>\n",
       "      <td>14399</td>\n",
       "      <td>0.464008</td>\n",
       "      <td>89632</td>\n",
       "      <td>2.888391</td>\n",
       "      <td>0.000077</td>\n",
       "      <td>0.000027</td>\n",
       "    </tr>\n",
       "    <tr>\n",
       "      <th>1459738</th>\n",
       "      <td>Organic Avocado</td>\n",
       "      <td>Zero Calorie Cola</td>\n",
       "      <td>1</td>\n",
       "      <td>0.000036</td>\n",
       "      <td>176815</td>\n",
       "      <td>5.697863</td>\n",
       "      <td>8558</td>\n",
       "      <td>0.275782</td>\n",
       "      <td>0.000006</td>\n",
       "      <td>0.000023</td>\n",
       "    </tr>\n",
       "    <tr>\n",
       "      <th>112950</th>\n",
       "      <td>Clementines</td>\n",
       "      <td>Organic Garnet Sweet Potato (Yam)</td>\n",
       "      <td>1</td>\n",
       "      <td>0.000036</td>\n",
       "      <td>30843</td>\n",
       "      <td>0.993916</td>\n",
       "      <td>51939</td>\n",
       "      <td>1.673734</td>\n",
       "      <td>0.000036</td>\n",
       "      <td>0.000021</td>\n",
       "    </tr>\n",
       "    <tr>\n",
       "      <th>7121443</th>\n",
       "      <td>Bag of Organic Bananas</td>\n",
       "      <td>Bananas</td>\n",
       "      <td>1</td>\n",
       "      <td>0.000036</td>\n",
       "      <td>379450</td>\n",
       "      <td>12.227775</td>\n",
       "      <td>5140</td>\n",
       "      <td>0.165636</td>\n",
       "      <td>0.000003</td>\n",
       "      <td>0.000018</td>\n",
       "    </tr>\n",
       "    <tr>\n",
       "      <th>97</th>\n",
       "      <td>Baby Cucumbers</td>\n",
       "      <td>Organic Hass Avocado</td>\n",
       "      <td>1</td>\n",
       "      <td>0.000036</td>\n",
       "      <td>14399</td>\n",
       "      <td>0.464008</td>\n",
       "      <td>213584</td>\n",
       "      <td>6.882744</td>\n",
       "      <td>0.000077</td>\n",
       "      <td>0.000011</td>\n",
       "    </tr>\n",
       "  </tbody>\n",
       "</table>\n",
       "<p>7169993 rows × 10 columns</p>\n",
       "</div>"
      ],
      "text/plain": [
       "                                                    items1  \\\n",
       "6903816  Farmstyle Greek Old Fashioned Vanilla Strained...   \n",
       "7072597                        English Breakfast Black Tea   \n",
       "6217829                 Unsweet Blackberry Sparkling Water   \n",
       "4768607                  Dairy Free Greek Yogurt Blueberry   \n",
       "4979656   Gluten Free Organic Cereal Coconut Maple Vanilla   \n",
       "5493580                              Honeydew Kombucha Tea   \n",
       "6598155                  Real Medleys Peach Almond Oatmeal   \n",
       "7072634                                     Peppermint Tea   \n",
       "6783935                  Real Medleys Peach Almond Oatmeal   \n",
       "6581432                  Real Medleys Apple Walnut Oatmeal   \n",
       "6046186  Strawberry Yogurt Protein Drink with a Crunchy...   \n",
       "5545588        Mixed Berry Low Fat Almond Non-Dairy Yogurt   \n",
       "6395938  Whips! Key Lime Pie Flavored Lowfat Yogurt Mousse   \n",
       "4760076               Dairy Free Greek Yogurt Black Cherry   \n",
       "5474068                    Organic Blueberry Lowfat Yogurt   \n",
       "3966701              Grassfed Whole Milk Strawberry Yogurt   \n",
       "4690895                                      Jasmine Green   \n",
       "5692482                  Organic Passion Terere Yerba Mate   \n",
       "6181711                   Cranberry Walnut Salad Cafe Bowl   \n",
       "6218002                     Unsweet Cherry Sparkling Water   \n",
       "4768627               Dairy Free Greek Yogurt Black Cherry   \n",
       "6784017              Real Medleys Summer Berry Oatmeal Cup   \n",
       "5360804  Cottage Doubles Peach, 2% Milkfat Lowfat Cotta...   \n",
       "4664274                      Organic Bluephoria Yerba Mate   \n",
       "6415647                                Lemon Seltzer Water   \n",
       "3932135   Organic Blueberry Cream On Top Whole Milk Yogurt   \n",
       "5856353                        Dark Chocolate Pot De Creme   \n",
       "6855107                       Black Cherry Sparkling Water   \n",
       "5174974                             Super Tea Power Greens   \n",
       "6114377                                   Hibiscus Sunrise   \n",
       "...                                                    ...   \n",
       "45746                                      Fresh Asparagus   \n",
       "42907                                          Clementines   \n",
       "556792                          Organic Hothouse Cucumbers   \n",
       "814386                              Organic Tomato Cluster   \n",
       "1483674                    Organic Unsweetened Almond Milk   \n",
       "151851                                              Apples   \n",
       "25875                           Medium Scarlet Raspberries   \n",
       "1483684                        Organic Whole String Cheese   \n",
       "48339                                      Fresh Asparagus   \n",
       "814381                                         Half & Half   \n",
       "556759                                 Organic Ginger Root   \n",
       "1027511                             Organic Grape Tomatoes   \n",
       "50781                             0% Greek Strained Yogurt   \n",
       "105850                                      Baby Cucumbers   \n",
       "1026621                                    Organic Avocado   \n",
       "556718                                      Organic Garlic   \n",
       "300845                                         Clementines   \n",
       "118670                                      Baby Cucumbers   \n",
       "226778                                      Baby Cucumbers   \n",
       "162                             Medium Scarlet Raspberries   \n",
       "154084                                      Baby Cucumbers   \n",
       "556783                               Organic Baby Broccoli   \n",
       "39677                                       Baby Cucumbers   \n",
       "556765                                Feta Cheese Crumbles   \n",
       "814360                                       Organic Lemon   \n",
       "121770                                      Baby Cucumbers   \n",
       "1459738                                    Organic Avocado   \n",
       "112950                                         Clementines   \n",
       "7121443                             Bag of Organic Bananas   \n",
       "97                                          Baby Cucumbers   \n",
       "\n",
       "                                                    items2  frequency  \\\n",
       "6903816  Farmstyle Greek Strained Yogurt Oregon Strawbe...        162   \n",
       "7072597                                  Premium Green Tea        121   \n",
       "6217829                      Unsweet Peach Sparkling Water        205   \n",
       "4768607                 Dairy Free Greek Yogurt Strawberry        307   \n",
       "4979656               Gluten Free Organic Oat Based Cereal        133   \n",
       "5493580                                  Tropical Kombucha        153   \n",
       "6598155              Real Medleys Summer Berry Oatmeal Cup        188   \n",
       "7072634                                  Premium Green Tea         80   \n",
       "6783935  Real Medleys Super Grains Banana Walnut Oatmea...        122   \n",
       "6581432                  Real Medleys Peach Almond Oatmeal        148   \n",
       "6046186          Vanilla Bean & Honey Yogurt Protein Drink         91   \n",
       "5545588        Non-Dairy Low Fat Strawberry Almond  Yogurt        179   \n",
       "6395938  Whips! Orange Creme Flavored Lowfat Yogurt Mousse        168   \n",
       "4760076                  Dairy Free Greek Yogurt Blueberry        231   \n",
       "5474068  Yogurt, Organic, Lowfat, Raspberry, 1-1/2% Mil...        187   \n",
       "3966701      Organic Strawberry Grassfed Whole Milk Yogurt        316   \n",
       "4690895                                         Rose Black        169   \n",
       "5692482                                 Pomegranate Terere        132   \n",
       "6181711                     Santa Fe Style Salad Cafe Bowl        111   \n",
       "6218002                      Unsweet Peach Sparkling Water         89   \n",
       "4768627                 Dairy Free Greek Yogurt Strawberry        224   \n",
       "6784017  Real Medleys Super Grains Banana Walnut Oatmea...        132   \n",
       "5360804         Lowfat & Strawberry Topping Cottage Cheese        113   \n",
       "4664274                   Yerba Mate Orange Exuberance Tea        271   \n",
       "6415647                                       Lime Seltzer        138   \n",
       "3932135  Organic Forest Berry Cream On Top Whole Milk Y...        300   \n",
       "5856353                               Vanilla Pot De Creme        155   \n",
       "6855107              Strawberry Watermelon Sparkling Water         95   \n",
       "5174974                              Super Tea Sweet Thorn         89   \n",
       "6114377                                      Jasmine Green        102   \n",
       "...                                                    ...        ...   \n",
       "45746                                                Limes          1   \n",
       "42907                                       Organic Garlic          4   \n",
       "556792                                                Soda          1   \n",
       "814386                             Packaged Grape Tomatoes          1   \n",
       "1483674          Original Nooks & Crannies English Muffins          1   \n",
       "151851                                         Half & Half          1   \n",
       "25875                                      Organic Avocado          1   \n",
       "1483684          Original Nooks & Crannies English Muffins          1   \n",
       "48339                                          Large Lemon          1   \n",
       "814381                             Packaged Grape Tomatoes          1   \n",
       "556759                                                Soda          2   \n",
       "1027511                               Sweet Kale Salad Mix          1   \n",
       "50781                                  Organic Gala Apples          1   \n",
       "105850                                   Organic Red Onion          1   \n",
       "1026621                                Organic Fuji Apples          1   \n",
       "556718                                                Soda          4   \n",
       "300845                                Feta Cheese Crumbles          1   \n",
       "118670                                Organic Baby Arugula          1   \n",
       "226778                                       Yellow Onions          1   \n",
       "162                                   Organic Hass Avocado          1   \n",
       "154084                          Sparkling Water Grapefruit          1   \n",
       "556783                                                Soda          1   \n",
       "39677                                     Organic Cucumber          1   \n",
       "556765                                                Soda          1   \n",
       "814360                             Packaged Grape Tomatoes          1   \n",
       "121770                                  Organic Fuji Apple          1   \n",
       "1459738                                  Zero Calorie Cola          1   \n",
       "112950                   Organic Garnet Sweet Potato (Yam)          1   \n",
       "7121443                                            Bananas          1   \n",
       "97                                    Organic Hass Avocado          1   \n",
       "\n",
       "         Support_1_2  i1_freq    i1_supp  i2_freq   i2_supp  confidence  \\\n",
       "6903816     0.005766      450   0.014501      336  0.010828    0.397623   \n",
       "7072597     0.004307      388   0.012503      321  0.010344    0.344447   \n",
       "6217829     0.007297      594   0.019142      357  0.011504    0.381186   \n",
       "4768607     0.010927      581   0.018723      623  0.020076    0.583622   \n",
       "4979656     0.004734      377   0.012149      423  0.013631    0.389654   \n",
       "5493580     0.005446      485   0.015629      390  0.012568    0.348433   \n",
       "6598155     0.006691      438   0.014115      545  0.017563    0.474081   \n",
       "7072634     0.002847      330   0.010634      321  0.010344    0.267760   \n",
       "6783935     0.004342      438   0.014115      378  0.012181    0.307649   \n",
       "6581432     0.005268      460   0.014823      438  0.014115    0.355364   \n",
       "6046186     0.003239      379   0.012213      328  0.010570    0.265199   \n",
       "5545588     0.006371      418   0.013470      585  0.018852    0.472984   \n",
       "6395938     0.005980      725   0.023363      321  0.010344    0.255941   \n",
       "4760076     0.008222      558   0.017982      581  0.018723    0.457243   \n",
       "5474068     0.006656      544   0.017530      492  0.015855    0.379675   \n",
       "3966701     0.011247      639   0.020592      712  0.022944    0.546205   \n",
       "4690895     0.006015      408   0.013148      619  0.019947    0.457505   \n",
       "5692482     0.004698      404   0.013019      495  0.015951    0.360879   \n",
       "6181711     0.003951      350   0.011279      484  0.015597    0.350287   \n",
       "6218002     0.003168      384   0.012374      357  0.011504    0.255993   \n",
       "4768627     0.007973      558   0.017982      623  0.020076    0.443387   \n",
       "6784017     0.004698      545   0.017563      378  0.012181    0.267514   \n",
       "5360804     0.004022      350   0.011279      505  0.016274    0.356599   \n",
       "4664274     0.009646      623   0.020076      693  0.022332    0.480453   \n",
       "6415647     0.004912      437   0.014082      516  0.016628    0.348792   \n",
       "3932135     0.010678      755   0.024330      650  0.020946    0.438878   \n",
       "5856353     0.005517      646   0.020817      396  0.012761    0.265014   \n",
       "6855107     0.003381      321   0.010344      489  0.015758    0.326880   \n",
       "5174974     0.003168      460   0.014823      320  0.010312    0.213698   \n",
       "6114377     0.003630      418   0.013470      408  0.013148    0.269521   \n",
       "...              ...      ...        ...      ...       ...         ...   \n",
       "45746       0.000036     5869   0.189129   140627  4.531705    0.000188   \n",
       "42907       0.000142    30843   0.993916   109778  3.537596    0.000143   \n",
       "556792      0.000036    23892   0.769920    35791  1.153365    0.000046   \n",
       "814386      0.000036    64289   2.071713    13355  0.430365    0.000017   \n",
       "1483674     0.000036    57895   1.865666    14973  0.482505    0.000019   \n",
       "151851      0.000036    12575   0.405229    69217  2.230518    0.000088   \n",
       "25875       0.000036     5037   0.162317   176815  5.697863    0.000219   \n",
       "1483684     0.000036    59676   1.923059    14973  0.482505    0.000019   \n",
       "48339       0.000036     5869   0.189129   152657  4.919371    0.000188   \n",
       "814381      0.000036    69217   2.230518    13355  0.430365    0.000016   \n",
       "556759      0.000071    52087   1.678503    35791  1.153365    0.000042   \n",
       "1027511     0.000036    84255   2.715117    11362  0.366140    0.000013   \n",
       "50781       0.000036    13238   0.426595    72846  2.347462    0.000083   \n",
       "105850      0.000036    14399   0.464008    66986  2.158624    0.000077   \n",
       "1026621     0.000036   176815   5.697863     5526  0.178075    0.000006   \n",
       "556718      0.000142   109778   3.537596    35791  1.153365    0.000040   \n",
       "300845      0.000036    30843   0.993916    32351  1.042511    0.000036   \n",
       "118670      0.000036    14399   0.464008    72829  2.346914    0.000077   \n",
       "226778      0.000036    14399   0.464008    73167  2.357806    0.000077   \n",
       "162         0.000036     5037   0.162317   213584  6.882744    0.000219   \n",
       "154084      0.000036    14399   0.464008    75886  2.445426    0.000077   \n",
       "556783      0.000036    31792   1.024497    35791  1.153365    0.000035   \n",
       "39677       0.000036    14399   0.464008    80392  2.590632    0.000077   \n",
       "556765      0.000036    32351   1.042511    35791  1.153365    0.000034   \n",
       "814360      0.000036    87746   2.827615    13355  0.430365    0.000013   \n",
       "121770      0.000036    14399   0.464008    89632  2.888391    0.000077   \n",
       "1459738     0.000036   176815   5.697863     8558  0.275782    0.000006   \n",
       "112950      0.000036    30843   0.993916    51939  1.673734    0.000036   \n",
       "7121443     0.000036   379450  12.227775     5140  0.165636    0.000003   \n",
       "97          0.000036    14399   0.464008   213584  6.882744    0.000077   \n",
       "\n",
       "              lift  \n",
       "6903816  36.723122  \n",
       "7072597  33.298524  \n",
       "6217829  33.134130  \n",
       "4768607  29.070370  \n",
       "4979656  28.585533  \n",
       "5493580  27.724355  \n",
       "6598155  26.993774  \n",
       "7072634  25.884953  \n",
       "6783935  25.256333  \n",
       "6581432  25.177125  \n",
       "6046186  25.090234  \n",
       "5545588  25.089803  \n",
       "6395938  24.742445  \n",
       "4760076  24.421819  \n",
       "5474068  23.947158  \n",
       "3966701  23.805790  \n",
       "4690895  22.935714  \n",
       "5692482  22.623705  \n",
       "6181711  22.458769  \n",
       "6218002  22.251892  \n",
       "4768627  22.085241  \n",
       "6784017  21.961500  \n",
       "5360804  21.912675  \n",
       "4664274  21.514159  \n",
       "6415647  20.976079  \n",
       "3932135  20.952571  \n",
       "5856353  20.767316  \n",
       "6855107  20.743693  \n",
       "5174974  20.723283  \n",
       "6114377  20.499350  \n",
       "...            ...  \n",
       "45746     0.000042  \n",
       "42907     0.000040  \n",
       "556792    0.000040  \n",
       "814386    0.000040  \n",
       "1483674   0.000040  \n",
       "151851    0.000039  \n",
       "25875     0.000038  \n",
       "1483684   0.000038  \n",
       "48339     0.000038  \n",
       "814381    0.000037  \n",
       "556759    0.000037  \n",
       "1027511   0.000036  \n",
       "50781     0.000036  \n",
       "105850    0.000036  \n",
       "1026621   0.000035  \n",
       "556718    0.000035  \n",
       "300845    0.000034  \n",
       "118670    0.000033  \n",
       "226778    0.000033  \n",
       "162       0.000032  \n",
       "154084    0.000031  \n",
       "556783    0.000030  \n",
       "39677     0.000030  \n",
       "556765    0.000030  \n",
       "814360    0.000029  \n",
       "121770    0.000027  \n",
       "1459738   0.000023  \n",
       "112950    0.000021  \n",
       "7121443   0.000018  \n",
       "97        0.000011  \n",
       "\n",
       "[7169993 rows x 10 columns]"
      ]
     },
     "metadata": {},
     "output_type": "display_data"
    }
   ],
   "source": [
    "network = df_apriori[\n",
    "                    (df_apriori['confidence'] > 0)\n",
    "                     & (df_apriori['lift'] > 0)\n",
    "                      #& (df_apriori['items1'].str.contains(\"spaghetti\"))\n",
    "                    ].sort_values(\n",
    "                         by='lift', ascending=False)\n",
    "\n",
    "display(len(network.items1.unique()))\n",
    "display(network.describe())\n",
    "display(network)"
   ]
  },
  {
   "cell_type": "markdown",
   "metadata": {
    "slideshow": {
     "slide_type": "subslide"
    }
   },
   "source": [
    "# Delivering Value through a Product"
   ]
  },
  {
   "cell_type": "markdown",
   "metadata": {},
   "source": [
    "* Product vision and objectives\n",
    "* Architecture"
   ]
  },
  {
   "cell_type": "markdown",
   "metadata": {
    "slideshow": {
     "slide_type": "subslide"
    }
   },
   "source": [
    "<b> There is a big difference in the experience between how you enforce the use of the algorithm's output. </b>\n",
    "* Confidence vs. Lift"
   ]
  },
  {
   "cell_type": "markdown",
   "metadata": {
    "ExecuteTime": {
     "end_time": "2019-04-27T10:25:38.503656Z",
     "start_time": "2019-04-27T10:25:38.476822Z"
    },
    "slideshow": {
     "slide_type": "subslide"
    }
   },
   "source": [
    "<img src=\"arch.png\" alt=\"architecture\">"
   ]
  },
  {
   "cell_type": "code",
   "execution_count": null,
   "metadata": {
    "ExecuteTime": {
     "end_time": "2019-04-26T22:22:26.034017Z",
     "start_time": "2019-04-26T22:22:20.437Z"
    },
    "colab": {
     "base_uri": "https://localhost:8080/",
     "height": 2266
    },
    "colab_type": "code",
    "id": "rbTlvnPvxmKG",
    "outputId": "d3484644-20f2-4430-f8c7-de7bc59bac9e",
    "slideshow": {
     "slide_type": "skip"
    }
   },
   "outputs": [],
   "source": [
    "network = df_apriori[\n",
    "                    (df_apriori['confidence'] > 0)\n",
    "                     & (df_apriori['lift'] > 0)\n",
    "                     & (df_apriori['items1'].isin(prods))\n",
    "                     & (~df_apriori['items2'].isin(prods))\n",
    "                      #& (df_apriori['items1'].str.contains(\"spaghetti\"))\n",
    "                    ].sort_values(\n",
    "                         by='lift', ascending=False)\n",
    "\n",
    "display(len(network.items1.unique()))\n",
    "display(network.describe())\n",
    "display(network)"
   ]
  },
  {
   "cell_type": "code",
   "execution_count": null,
   "metadata": {
    "ExecuteTime": {
     "end_time": "2019-04-26T22:22:13.184768Z",
     "start_time": "2019-04-26T22:22:05.877Z"
    },
    "colab": {},
    "colab_type": "code",
    "id": "7E7OcF7t4Pk_",
    "slideshow": {
     "slide_type": "skip"
    }
   },
   "outputs": [],
   "source": [
    "network.to_csv('rules.csv')\n",
    "orders_total_prior_filt.to_csv('orders.csv')"
   ]
  }
 ],
 "metadata": {
  "celltoolbar": "Slideshow",
  "colab": {
   "collapsed_sections": [
    "MiJl8wtgDQTz",
    "IIx2EqJ0DQT1",
    "nEdNyhMtDQT_",
    "gZHM7_zuDQUE",
    "L8zzYZ5SDQUc",
    "qUJGoxAcDQUw",
    "vKOu3hymDQVZ",
    "uy4d84DWDQVf"
   ],
   "name": "marketBA.ipynb",
   "provenance": [],
   "toc_visible": true,
   "version": "0.3.2"
  },
  "hide_input": false,
  "kernelspec": {
   "display_name": "Python 3",
   "language": "python",
   "name": "python3"
  },
  "language_info": {
   "codemirror_mode": {
    "name": "ipython",
    "version": 3
   },
   "file_extension": ".py",
   "mimetype": "text/x-python",
   "name": "python",
   "nbconvert_exporter": "python",
   "pygments_lexer": "ipython3",
   "version": "3.6.8"
  },
  "toc": {
   "base_numbering": 1,
   "nav_menu": {},
   "number_sections": true,
   "sideBar": true,
   "skip_h1_title": false,
   "title_cell": "Table of Contents",
   "title_sidebar": "Contents",
   "toc_cell": false,
   "toc_position": {},
   "toc_section_display": true,
   "toc_window_display": false
  },
  "varInspector": {
   "cols": {
    "lenName": 16,
    "lenType": 16,
    "lenVar": 40
   },
   "kernels_config": {
    "python": {
     "delete_cmd_postfix": "",
     "delete_cmd_prefix": "del ",
     "library": "var_list.py",
     "varRefreshCmd": "print(var_dic_list())"
    },
    "r": {
     "delete_cmd_postfix": ") ",
     "delete_cmd_prefix": "rm(",
     "library": "var_list.r",
     "varRefreshCmd": "cat(var_dic_list()) "
    }
   },
   "types_to_exclude": [
    "module",
    "function",
    "builtin_function_or_method",
    "instance",
    "_Feature"
   ],
   "window_display": false
  }
 },
 "nbformat": 4,
 "nbformat_minor": 1
}
