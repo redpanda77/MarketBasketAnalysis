{
 "cells": [
  {
   "cell_type": "markdown",
   "metadata": {
    "slideshow": {
     "slide_type": "slide"
    }
   },
   "source": [
    " # Calculating Market Basket Analysis"
   ]
  },
  {
   "cell_type": "markdown",
   "metadata": {
    "slideshow": {
     "slide_type": "slide"
    }
   },
   "source": [
    "### 1. What is Market Basket Analysis?\n",
    "### 2. How is MBA calculated ?\n",
    "### 3. Doing MBA with Python.\n",
    "### 4. Building a Recommender and testing it."
   ]
  },
  {
   "cell_type": "markdown",
   "metadata": {
    "slideshow": {
     "slide_type": "slide"
    }
   },
   "source": [
    "# 1. What is Market Basket Analysis (MBA)?"
   ]
  },
  {
   "attachments": {},
   "cell_type": "markdown",
   "metadata": {
    "slideshow": {
     "slide_type": "subslide"
    }
   },
   "source": [
    "<h3>1.1 So what is MBA?</h3>\n",
    "<ul>\n",
    "    <li>It's a group of techniques often used in retail to uncover <b>associations</b> between items.</li>\n",
    "    <li> If a customer is buying a particular product he is likely to buy some related goods to compliment the first one. </li>\n",
    "</ul>\n",
    "\n",
    "<img src=\"https://cdn-images-1.medium.com/max/800/1*YSDKzjONGi1xB6ub2gidXw.jpeg\" alt=\"Recommender\">"
   ]
  },
  {
   "cell_type": "markdown",
   "metadata": {
    "ExecuteTime": {
     "end_time": "2019-01-19T15:50:30.073398Z",
     "start_time": "2019-01-19T15:50:30.067167Z"
    },
    "slideshow": {
     "slide_type": "subslide"
    }
   },
   "source": [
    "<h3>1.2. Basically, MB will tell things like:</h3>\n",
    "\n",
    "<ul>\n",
    "    <li>If bananas are purchased then avocados are also purchased</li>\n",
    "    <li> If both milk and bread are purchased then eggs are purchased 50% of the time.</li>\n",
    "</ul>"
   ]
  },
  {
   "cell_type": "markdown",
   "metadata": {
    "ExecuteTime": {
     "end_time": "2019-01-19T15:46:46.450928Z",
     "start_time": "2019-01-19T15:46:46.443922Z"
    },
    "slideshow": {
     "slide_type": "subslide"
    }
   },
   "source": [
    "<h3>1.3. What is MBA used for?</h3>\n",
    "\n",
    "<ul>\n",
    "    <li>Allowing retailers to make promotional product bundles and send coupons.</li>\n",
    "    <li>improving store layout optimise flow and cross-sell. Content placement in e-commerce. </li>\n",
    "    <li>Inventory planning and pricing. </li>\n",
    "    <li>Creating product segments/groups - Category management.</li>\n",
    "    <li>Identifying product gaps in baskets.</li>\n",
    "    <li>Building E-Commerce recommendation engines.</li>\n",
    "    <li>Fraud detection.</li>\n",
    "</ul>"
   ]
  },
  {
   "cell_type": "markdown",
   "metadata": {
    "slideshow": {
     "slide_type": "slide"
    }
   },
   "source": [
    "# 2. How is MBA calculated ?"
   ]
  },
  {
   "cell_type": "markdown",
   "metadata": {
    "slideshow": {
     "slide_type": "subslide"
    }
   },
   "source": [
    "<h3>2.1. We will be using the Apriori algorithm to calculate MBA</h3>\n",
    "\n",
    "<ul>\n",
    "    <li>Classic Data Mining algorithm.</li>\n",
    "    <li>Allows us to find frequent itemsets and association rules.</li>\n",
    "    <li>It's also used for example in healthcare to identify the relationships between drugs and adverse reactions.</li>\n",
    "</ul>"
   ]
  },
  {
   "cell_type": "markdown",
   "metadata": {
    "ExecuteTime": {
     "end_time": "2019-01-19T16:09:00.881866Z",
     "start_time": "2019-01-19T16:09:00.874009Z"
    },
    "slideshow": {
     "slide_type": "subslide"
    }
   },
   "source": [
    "<h3>2.2. The algorithm uses has three basic steps:</h3>\n",
    "\n",
    "<ol>\n",
    "    <li>Calculate support.</li>\n",
    "    <li>Calculate confidence.</li>\n",
    "    <li>Calculate lift.</li>\n",
    "</ol>"
   ]
  },
  {
   "cell_type": "markdown",
   "metadata": {
    "ExecuteTime": {
     "end_time": "2019-01-19T16:12:57.301843Z",
     "start_time": "2019-01-19T16:12:57.285613Z"
    },
    "slideshow": {
     "slide_type": "subslide"
    }
   },
   "source": [
    "<h3>2.2.1. Support:</h3>\n",
    "\n",
    "<p>Says how many times a product appears in customer transactions.</p>\n",
    "<img src=\"https://annalyzin.files.wordpress.com/2016/03/association-rule-support-eqn.png?w=248&h=68\" alt=\"Recommender\">\n",
    "<img src=\"https://annalyzin.files.wordpress.com/2016/04/association-rule-support-table.png?w=503&h=447\" alt=\"Recommender\">\n",
    "<ul>\n",
    "    <li>Support {apple} 50%</li>\n",
    "    <li>Support {apple, beer, rice} 2/8 or 25%</li>\n",
    "</ul>\n",
    "\n",
    "<a style = \"font-size:16px\" href=https://www.kdnuggets.com/2016/04/association-rules-apriori-algorithm-tutorial.html>Source</a>"
   ]
  },
  {
   "cell_type": "markdown",
   "metadata": {
    "slideshow": {
     "slide_type": "subslide"
    }
   },
   "source": [
    "<h3>2.2.2. Confidence:</h3>\n",
    "\n",
    "<p>Says how likely item Y is purchased when item X is purchased, expressed as {X -> Y}.</p>\n",
    "<p>The confidence of {apple -> beer} is 3 out of 4, or 75%</p>\n",
    "\n",
    "<img src=\"https://annalyzin.files.wordpress.com/2016/03/association-rule-confidence-eqn.png?w=527&h=77\" alt=\"Recommender\">\n",
    "\n",
    "<p style = \"font-size:20px\">One drawback of the confidence measure is that it might misrepresent the importance of an association. This is because it only accounts for how popular apples are, but not beers. If beers are also very popular in general, there will be a higher chance that a transaction containing apples will also contain beers, thus inflating the confidence measure. <b>To account for the base popularity of both constituent items, we use a third measure called lift.</b></p>\n",
    "\n",
    "<a style = \"font-size:16px\" href=https://www.kdnuggets.com/2016/04/association-rules-apriori-algorithm-tutorial.html>Source</a>"
   ]
  },
  {
   "cell_type": "markdown",
   "metadata": {
    "ExecuteTime": {
     "end_time": "2019-01-19T16:21:45.802014Z",
     "start_time": "2019-01-19T16:21:45.792189Z"
    },
    "slideshow": {
     "slide_type": "subslide"
    }
   },
   "source": [
    "<h3>2.2.3. Lift:</h3>\n",
    "\n",
    "<p>This says how likely item Y is purchased when item X is purchased, while controlling for how popular item Y is. </p>\n",
    "<p>The confidence of {apple -> beer} is 3 out of 4, or 75%</p>\n",
    "\n",
    "<img src=\"https://annalyzin.files.wordpress.com/2016/03/association-rule-lift-eqn.png?w=566&h=80\" alt=\"Recommender\">\n",
    "\n",
    "<ul>\n",
    "    <li>lift <b>equal</b> to 1 implies no relationship between A and B.</li>\n",
    "    (ie: A and B occur together only by chance)\n",
    "    <li>lift <b>more than</b> 1 implies that there is a positive relationship between A and B. </li>\n",
    "    (ie:  A and B occur together more often than random)\n",
    "    <li>lift <b>less than</b> 1 implies that there is a negative relationship between A and B. </li>\n",
    "    (ie:  A and B occur together less often than random)\n",
    "</ul>\n",
    "\n",
    "<a style = \"font-size:16px\" href=https://www.kdnuggets.com/2016/04/association-rules-apriori-algorithm-tutorial.html>Source</a>"
   ]
  },
  {
   "cell_type": "markdown",
   "metadata": {
    "slideshow": {
     "slide_type": "slide"
    }
   },
   "source": [
    "# 3. Doing MBA with Python."
   ]
  },
  {
   "cell_type": "code",
   "execution_count": 3,
   "metadata": {
    "ExecuteTime": {
     "end_time": "2019-01-19T18:30:16.606835Z",
     "start_time": "2019-01-19T18:30:16.599655Z"
    },
    "slideshow": {
     "slide_type": "skip"
    }
   },
   "outputs": [
    {
     "ename": "SyntaxError",
     "evalue": "invalid syntax (<ipython-input-3-6f6e67780e6f>, line 11)",
     "output_type": "error",
     "traceback": [
      "\u001b[0;36m  File \u001b[0;32m\"<ipython-input-3-6f6e67780e6f>\"\u001b[0;36m, line \u001b[0;32m11\u001b[0m\n\u001b[0;31m    you might want to show bananas at the begining but not in the product card\u001b[0m\n\u001b[0m            ^\u001b[0m\n\u001b[0;31mSyntaxError\u001b[0m\u001b[0;31m:\u001b[0m invalid syntax\n"
     ]
    }
   ],
   "source": [
    "# Affinity analysis\n",
    "# TFIDF\n",
    "# Complementary\n",
    "# Substituvie\n",
    "# Clustering -- PCA?\n",
    "# Collaborative filtering\n",
    "# W2vec Vectors\n",
    "# Latent factor \n",
    "\\\n",
    "\n",
    "you might want to show bananas at the begining but not in the product card"
   ]
  },
  {
   "cell_type": "code",
   "execution_count": 4,
   "metadata": {
    "ExecuteTime": {
     "end_time": "2019-01-19T18:30:17.874599Z",
     "start_time": "2019-01-19T18:30:16.733409Z"
    },
    "_cell_guid": "b1076dfc-b9ad-4769-8c92-a6c4dae69d19",
    "_uuid": "8f2839f25d086af736a60e9eeb907d3b93b6e0e5",
    "hide_input": false,
    "slideshow": {
     "slide_type": "skip"
    }
   },
   "outputs": [],
   "source": [
    "import sys\n",
    "import collections\n",
    "import itertools\n",
    "import pandas as pd\n",
    "from ipywidgets import widgets\n",
    "from collections import Counter\n",
    "from IPython.display import display\n",
    "from IPython.display import clear_output\n",
    "from itertools import combinations, groupby\n",
    "from mlxtend.preprocessing import TransactionEncoder\n",
    "from mlxtend.frequent_patterns import association_rules\n",
    "from mlxtend.frequent_patterns import apriori, association_rules\n",
    "\n",
    "from sklearn.feature_extraction.text import TfidfVectorizer\n",
    "from sklearn.decomposition import TruncatedSVD\n",
    "from sklearn.decomposition import PCA"
   ]
  },
  {
   "cell_type": "code",
   "execution_count": 5,
   "metadata": {
    "ExecuteTime": {
     "end_time": "2019-01-19T18:30:32.787563Z",
     "start_time": "2019-01-19T18:30:17.880716Z"
    },
    "_uuid": "ac63691888592478c7c90d414e66710faf5d191b",
    "slideshow": {
     "slide_type": "skip"
    }
   },
   "outputs": [],
   "source": [
    "########################\n",
    "## OBTAINING PRODUCTS ##\n",
    "########################\n",
    "\n",
    "products = pd.read_csv(\"products.csv\")\n",
    "order_products_prior = pd.read_csv(\"order_products__prior.csv\")\n",
    "departments = pd.read_csv(\"departments.csv\")\n",
    "#sample_submission = pd.read_csv(\"../input/sample_submission.csv\")\n",
    "#orders = pd.read_csv(\"../input/orders.csv\")\n",
    "aisles = pd.read_csv(\"aisles.csv\")\n",
    "#order_products_train = pd.read_csv(\"../input/order_products__train.csv\")"
   ]
  },
  {
   "cell_type": "code",
   "execution_count": 6,
   "metadata": {
    "ExecuteTime": {
     "end_time": "2019-01-19T18:30:39.670316Z",
     "start_time": "2019-01-19T18:30:32.789552Z"
    },
    "_uuid": "8d4c94c60ebc4f38170c1c0f3141872ac33b1d2e",
    "scrolled": true,
    "slideshow": {
     "slide_type": "skip"
    }
   },
   "outputs": [],
   "source": [
    "########################\n",
    "## OBTAINING SAMPLE   ##\n",
    "########################\n",
    "\n",
    "order_products_prior.count()\n",
    "prods = order_products_prior[:2000000]\n",
    "orders_prior = pd.merge(products, prods, on=\"product_id\")\n",
    "#orders_prior_listed = orders_prior.groupby(\"order_id\")[\"product_name\"].apply(list)"
   ]
  },
  {
   "cell_type": "code",
   "execution_count": 7,
   "metadata": {
    "ExecuteTime": {
     "end_time": "2019-01-19T18:30:42.276992Z",
     "start_time": "2019-01-19T18:30:39.673641Z"
    },
    "_uuid": "d656c26ad8d0de67bdd1a24ae25b6205b98d8d9b",
    "scrolled": true,
    "slideshow": {
     "slide_type": "skip"
    }
   },
   "outputs": [],
   "source": [
    "#######################################\n",
    "## MERGE PRODUCTS AND DEP/AISLE INFO ##\n",
    "#######################################\n",
    "\n",
    "orders_deps_prior = pd.merge(orders_prior, departments, on=\"department_id\")\n",
    "orders_total_prior = pd.merge(orders_deps_prior, aisles, on=\"aisle_id\")\n",
    "orders_total_prior.drop(['department_id', 'aisle_id'], inplace=True, axis=1)\n",
    "\n",
    "## MOST SOLD PRODUCTS\n",
    "######################################\n",
    "count_prods = orders_total_prior.groupby(\"product_name\")['order_id'].count()\n",
    "count_prods = count_prods.to_frame().sort_values(by=\"order_id\", ascending=False)"
   ]
  },
  {
   "cell_type": "markdown",
   "metadata": {
    "ExecuteTime": {
     "end_time": "2019-01-19T16:31:27.412259Z",
     "start_time": "2019-01-19T16:31:27.408380Z"
    },
    "slideshow": {
     "slide_type": "subslide"
    }
   },
   "source": [
    "## 3.1. Starting point: The data we're going to work with:\n",
    "* Order information (Order ID, Products ordered, amount, department, aisle)"
   ]
  },
  {
   "cell_type": "code",
   "execution_count": 8,
   "metadata": {
    "ExecuteTime": {
     "end_time": "2019-01-19T18:30:42.441126Z",
     "start_time": "2019-01-19T18:30:42.279604Z"
    },
    "hide_input": true,
    "slideshow": {
     "slide_type": "-"
    }
   },
   "outputs": [
    {
     "data": {
      "text/html": [
       "<div>\n",
       "<style scoped>\n",
       "    .dataframe tbody tr th:only-of-type {\n",
       "        vertical-align: middle;\n",
       "    }\n",
       "\n",
       "    .dataframe tbody tr th {\n",
       "        vertical-align: top;\n",
       "    }\n",
       "\n",
       "    .dataframe thead th {\n",
       "        text-align: right;\n",
       "    }\n",
       "</style>\n",
       "<table border=\"1\" class=\"dataframe\">\n",
       "  <thead>\n",
       "    <tr style=\"text-align: right;\">\n",
       "      <th></th>\n",
       "      <th>product_id</th>\n",
       "      <th>product_name</th>\n",
       "      <th>order_id</th>\n",
       "      <th>add_to_cart_order</th>\n",
       "      <th>reordered</th>\n",
       "      <th>department</th>\n",
       "      <th>aisle</th>\n",
       "    </tr>\n",
       "  </thead>\n",
       "  <tbody>\n",
       "    <tr>\n",
       "      <th>983659</th>\n",
       "      <td>20765</td>\n",
       "      <td>Steel Wool Soap Pads Lemon Fresh Scent - 10 CT</td>\n",
       "      <td>206382</td>\n",
       "      <td>7</td>\n",
       "      <td>0</td>\n",
       "      <td>household</td>\n",
       "      <td>cleaning products</td>\n",
       "    </tr>\n",
       "    <tr>\n",
       "      <th>415741</th>\n",
       "      <td>45840</td>\n",
       "      <td>100% Pure Apple Juice</td>\n",
       "      <td>21869</td>\n",
       "      <td>10</td>\n",
       "      <td>1</td>\n",
       "      <td>beverages</td>\n",
       "      <td>juice nectars</td>\n",
       "    </tr>\n",
       "    <tr>\n",
       "      <th>1265890</th>\n",
       "      <td>18883</td>\n",
       "      <td>Honeydew Chunks</td>\n",
       "      <td>195385</td>\n",
       "      <td>1</td>\n",
       "      <td>1</td>\n",
       "      <td>produce</td>\n",
       "      <td>packaged vegetables fruits</td>\n",
       "    </tr>\n",
       "    <tr>\n",
       "      <th>1254553</th>\n",
       "      <td>6000</td>\n",
       "      <td>Organic Baby Romaine</td>\n",
       "      <td>197918</td>\n",
       "      <td>3</td>\n",
       "      <td>1</td>\n",
       "      <td>produce</td>\n",
       "      <td>packaged vegetables fruits</td>\n",
       "    </tr>\n",
       "    <tr>\n",
       "      <th>1108179</th>\n",
       "      <td>46041</td>\n",
       "      <td>Beef Franks</td>\n",
       "      <td>106887</td>\n",
       "      <td>7</td>\n",
       "      <td>0</td>\n",
       "      <td>meat seafood</td>\n",
       "      <td>hot dogs bacon sausage</td>\n",
       "    </tr>\n",
       "  </tbody>\n",
       "</table>\n",
       "</div>"
      ],
      "text/plain": [
       "         product_id                                    product_name  order_id  \\\n",
       "983659        20765  Steel Wool Soap Pads Lemon Fresh Scent - 10 CT    206382   \n",
       "415741        45840                           100% Pure Apple Juice     21869   \n",
       "1265890       18883                                 Honeydew Chunks    195385   \n",
       "1254553        6000                            Organic Baby Romaine    197918   \n",
       "1108179       46041                                     Beef Franks    106887   \n",
       "\n",
       "         add_to_cart_order  reordered    department  \\\n",
       "983659                   7          0     household   \n",
       "415741                  10          1     beverages   \n",
       "1265890                  1          1       produce   \n",
       "1254553                  3          1       produce   \n",
       "1108179                  7          0  meat seafood   \n",
       "\n",
       "                              aisle  \n",
       "983659            cleaning products  \n",
       "415741                juice nectars  \n",
       "1265890  packaged vegetables fruits  \n",
       "1254553  packaged vegetables fruits  \n",
       "1108179      hot dogs bacon sausage  "
      ]
     },
     "metadata": {},
     "output_type": "display_data"
    }
   ],
   "source": [
    "display(orders_total_prior.sample(n=100).head())"
   ]
  },
  {
   "cell_type": "code",
   "execution_count": 9,
   "metadata": {
    "ExecuteTime": {
     "end_time": "2019-01-19T18:30:42.727156Z",
     "start_time": "2019-01-19T18:30:42.448580Z"
    },
    "_uuid": "c8e79164eff596eff8784b1d62824f053e97c6cf",
    "hide_input": true,
    "scrolled": true,
    "slideshow": {
     "slide_type": "-"
    }
   },
   "outputs": [
    {
     "data": {
      "text/plain": [
       "'Total number of orders: 198086'"
      ]
     },
     "metadata": {},
     "output_type": "display_data"
    },
    {
     "data": {
      "text/plain": [
       "'Total number of different products: 40477'"
      ]
     },
     "metadata": {},
     "output_type": "display_data"
    }
   ],
   "source": [
    "#######################################\n",
    "##  OBTAINING NUMBER OF TRANSACTIONS ##\n",
    "#######################################\n",
    "\n",
    "N_Transactions = len(orders_prior['order_id'].unique())\n",
    "N_products = len(orders_prior['product_name'].unique())\n",
    "#N_Transactions\n",
    "display(\"Total number of orders: {}\".format(N_Transactions))\n",
    "display(\"Total number of different products: {}\".format(N_products))"
   ]
  },
  {
   "cell_type": "markdown",
   "metadata": {},
   "source": [
    "<h3> 3.2. Calculating Support (Individual Products):</h3>\n",
    "\n",
    "* <b>Says how many times a product appears in customer transactions.</b>\n",
    "* Support(Products) = Frequency(Products) / Total Number Of Orders.\n",
    "* --> Frequency column / # of Orders (constant)"
   ]
  },
  {
   "cell_type": "code",
   "execution_count": 10,
   "metadata": {
    "ExecuteTime": {
     "end_time": "2019-01-19T18:30:42.756800Z",
     "start_time": "2019-01-19T18:30:42.729107Z"
    },
    "hide_input": false,
    "scrolled": true,
    "slideshow": {
     "slide_type": "subslide"
    }
   },
   "outputs": [
    {
     "data": {
      "text/html": [
       "<div>\n",
       "<style scoped>\n",
       "    .dataframe tbody tr th:only-of-type {\n",
       "        vertical-align: middle;\n",
       "    }\n",
       "\n",
       "    .dataframe tbody tr th {\n",
       "        vertical-align: top;\n",
       "    }\n",
       "\n",
       "    .dataframe thead th {\n",
       "        text-align: right;\n",
       "    }\n",
       "</style>\n",
       "<table border=\"1\" class=\"dataframe\">\n",
       "  <thead>\n",
       "    <tr style=\"text-align: right;\">\n",
       "      <th></th>\n",
       "      <th>Frequency</th>\n",
       "      <th>Support</th>\n",
       "    </tr>\n",
       "    <tr>\n",
       "      <th>product_name</th>\n",
       "      <th></th>\n",
       "      <th></th>\n",
       "    </tr>\n",
       "  </thead>\n",
       "  <tbody>\n",
       "    <tr>\n",
       "      <th>Banana</th>\n",
       "      <td>29255</td>\n",
       "      <td>14.768838</td>\n",
       "    </tr>\n",
       "    <tr>\n",
       "      <th>Bag of Organic Bananas</th>\n",
       "      <td>23415</td>\n",
       "      <td>11.820623</td>\n",
       "    </tr>\n",
       "    <tr>\n",
       "      <th>Organic Strawberries</th>\n",
       "      <td>16285</td>\n",
       "      <td>8.221177</td>\n",
       "    </tr>\n",
       "    <tr>\n",
       "      <th>Organic Baby Spinach</th>\n",
       "      <td>14915</td>\n",
       "      <td>7.529558</td>\n",
       "    </tr>\n",
       "    <tr>\n",
       "      <th>Organic Hass Avocado</th>\n",
       "      <td>13107</td>\n",
       "      <td>6.616823</td>\n",
       "    </tr>\n",
       "    <tr>\n",
       "      <th>Organic Avocado</th>\n",
       "      <td>10736</td>\n",
       "      <td>5.419868</td>\n",
       "    </tr>\n",
       "    <tr>\n",
       "      <th>Large Lemon</th>\n",
       "      <td>9377</td>\n",
       "      <td>4.733802</td>\n",
       "    </tr>\n",
       "    <tr>\n",
       "      <th>Strawberries</th>\n",
       "      <td>8817</td>\n",
       "      <td>4.451097</td>\n",
       "    </tr>\n",
       "    <tr>\n",
       "      <th>Limes</th>\n",
       "      <td>8663</td>\n",
       "      <td>4.373353</td>\n",
       "    </tr>\n",
       "    <tr>\n",
       "      <th>Organic Raspberries</th>\n",
       "      <td>8425</td>\n",
       "      <td>4.253203</td>\n",
       "    </tr>\n",
       "    <tr>\n",
       "      <th>Organic Whole Milk</th>\n",
       "      <td>8404</td>\n",
       "      <td>4.242602</td>\n",
       "    </tr>\n",
       "    <tr>\n",
       "      <th>Organic Yellow Onion</th>\n",
       "      <td>6894</td>\n",
       "      <td>3.480307</td>\n",
       "    </tr>\n",
       "    <tr>\n",
       "      <th>Organic Garlic</th>\n",
       "      <td>6762</td>\n",
       "      <td>3.413669</td>\n",
       "    </tr>\n",
       "    <tr>\n",
       "      <th>Organic Zucchini</th>\n",
       "      <td>6523</td>\n",
       "      <td>3.293014</td>\n",
       "    </tr>\n",
       "    <tr>\n",
       "      <th>Organic Blueberries</th>\n",
       "      <td>6175</td>\n",
       "      <td>3.117333</td>\n",
       "    </tr>\n",
       "    <tr>\n",
       "      <th>Cucumber Kirby</th>\n",
       "      <td>5909</td>\n",
       "      <td>2.983048</td>\n",
       "    </tr>\n",
       "    <tr>\n",
       "      <th>Organic Fuji Apple</th>\n",
       "      <td>5527</td>\n",
       "      <td>2.790202</td>\n",
       "    </tr>\n",
       "    <tr>\n",
       "      <th>Organic Lemon</th>\n",
       "      <td>5406</td>\n",
       "      <td>2.729118</td>\n",
       "    </tr>\n",
       "    <tr>\n",
       "      <th>Apple Honeycrisp Organic</th>\n",
       "      <td>5277</td>\n",
       "      <td>2.663994</td>\n",
       "    </tr>\n",
       "    <tr>\n",
       "      <th>Organic Grape Tomatoes</th>\n",
       "      <td>5187</td>\n",
       "      <td>2.618560</td>\n",
       "    </tr>\n",
       "  </tbody>\n",
       "</table>\n",
       "</div>"
      ],
      "text/plain": [
       "                          Frequency    Support\n",
       "product_name                                  \n",
       "Banana                        29255  14.768838\n",
       "Bag of Organic Bananas        23415  11.820623\n",
       "Organic Strawberries          16285   8.221177\n",
       "Organic Baby Spinach          14915   7.529558\n",
       "Organic Hass Avocado          13107   6.616823\n",
       "Organic Avocado               10736   5.419868\n",
       "Large Lemon                    9377   4.733802\n",
       "Strawberries                   8817   4.451097\n",
       "Limes                          8663   4.373353\n",
       "Organic Raspberries            8425   4.253203\n",
       "Organic Whole Milk             8404   4.242602\n",
       "Organic Yellow Onion           6894   3.480307\n",
       "Organic Garlic                 6762   3.413669\n",
       "Organic Zucchini               6523   3.293014\n",
       "Organic Blueberries            6175   3.117333\n",
       "Cucumber Kirby                 5909   2.983048\n",
       "Organic Fuji Apple             5527   2.790202\n",
       "Organic Lemon                  5406   2.729118\n",
       "Apple Honeycrisp Organic       5277   2.663994\n",
       "Organic Grape Tomatoes         5187   2.618560"
      ]
     },
     "execution_count": 10,
     "metadata": {},
     "output_type": "execute_result"
    }
   ],
   "source": [
    "support_products = pd.DataFrame(count_prods)\n",
    "support_products.rename(columns={'order_id': 'Frequency'}, inplace=True)\n",
    "support_products['Support'] = count_prods * 100 /N_Transactions\n",
    "support_products.head(n = 20)"
   ]
  },
  {
   "cell_type": "code",
   "execution_count": 11,
   "metadata": {
    "ExecuteTime": {
     "end_time": "2019-01-19T18:30:43.219924Z",
     "start_time": "2019-01-19T18:30:42.758979Z"
    }
   },
   "outputs": [
    {
     "data": {
      "text/plain": [
       "2000000"
      ]
     },
     "metadata": {},
     "output_type": "display_data"
    },
    {
     "name": "stderr",
     "output_type": "stream",
     "text": [
      "/home/gonz/anaconda3/lib/python3.7/site-packages/ipykernel_launcher.py:4: UserWarning: Boolean Series key will be reindexed to match DataFrame index.\n",
      "  after removing the cwd from sys.path.\n"
     ]
    },
    {
     "data": {
      "text/plain": [
       "1276288"
      ]
     },
     "metadata": {},
     "output_type": "display_data"
    }
   ],
   "source": [
    "mask = orders_total_prior['product_name'].isin(support_products[support_products['Support']>0.1].index)\n",
    "display(len(orders_total_prior))\n",
    "orders_total_prior = orders_total_prior[mask]\n",
    "display(len(orders_total_prior[mask]))"
   ]
  },
  {
   "cell_type": "code",
   "execution_count": 12,
   "metadata": {
    "ExecuteTime": {
     "end_time": "2019-01-19T18:30:43.227762Z",
     "start_time": "2019-01-19T18:30:43.221968Z"
    },
    "_uuid": "727bb4dcb71a83edb78667286a1a10cb1b2283a5",
    "hide_input": false,
    "slideshow": {
     "slide_type": "skip"
    }
   },
   "outputs": [
    {
     "data": {
      "text/plain": [
       "'#######################################\\n##     APRIORI ALGORYTHM BY DEPT     ##\\n#######################################\\n\\n##   ORDERS WITH DEPARTMENT LISTS    ##\\n#######################################\\n\\norders_prior_listed = orders_total_prior.groupby(\\'order_id\\')[\\'department\\'].apply(list)\\nlisted_baskets = list(orders_prior_listed)\\n\\n##        APRIORI ALGORYTHM          ##\\n#######################################\\n\\n#### DATA PREP\\n\\nte = TransactionEncoder()\\nte_ary = te.fit(listed_baskets).transform(listed_baskets)\\ndf_support = pd.DataFrame(te_ary, columns=te.columns_)\\n\\n#### APRIORI MODEL EXECUTION\\n\\ndf_apriori = apriori(df_support, min_support=0.001, use_colnames=True)\\nassociation_rules(df_apriori, metric=\"confidence\", min_threshold=0.01)'"
      ]
     },
     "execution_count": 12,
     "metadata": {},
     "output_type": "execute_result"
    }
   ],
   "source": [
    "\"\"\"#######################################\n",
    "##     APRIORI ALGORYTHM BY DEPT     ##\n",
    "#######################################\n",
    "\n",
    "##   ORDERS WITH DEPARTMENT LISTS    ##\n",
    "#######################################\n",
    "\n",
    "orders_prior_listed = orders_total_prior.groupby('order_id')['department'].apply(list)\n",
    "listed_baskets = list(orders_prior_listed)\n",
    "\n",
    "##        APRIORI ALGORYTHM          ##\n",
    "#######################################\n",
    "\n",
    "#### DATA PREP\n",
    "\n",
    "te = TransactionEncoder()\n",
    "te_ary = te.fit(listed_baskets).transform(listed_baskets)\n",
    "df_support = pd.DataFrame(te_ary, columns=te.columns_)\n",
    "\n",
    "#### APRIORI MODEL EXECUTION\n",
    "\n",
    "df_apriori = apriori(df_support, min_support=0.001, use_colnames=True)\n",
    "association_rules(df_apriori, metric=\"confidence\", min_threshold=0.01)\"\"\""
   ]
  },
  {
   "cell_type": "code",
   "execution_count": 13,
   "metadata": {
    "ExecuteTime": {
     "end_time": "2019-01-19T18:31:04.976978Z",
     "start_time": "2019-01-19T18:30:43.230372Z"
    },
    "_uuid": "a1b615d936721ec6e91fba60503c3742b71576af",
    "slideshow": {
     "slide_type": "skip"
    }
   },
   "outputs": [],
   "source": [
    "#######################################\n",
    "##  APRIORI ALGORYTHM BY PRODUCT     ##\n",
    "#######################################\n",
    "\n",
    "##DATA PREP\n",
    "###########\n",
    "\n",
    "## PREPARING PRODUCTS INTO LISTS\n",
    "\n",
    "basket_lists = list(orders_total_prior.groupby('order_id')['product_name'].apply(list))\n",
    "product_counts = collections.defaultdict(int)\n",
    "\n",
    "##IDENTIFYING PRODUCT PAIRS\n",
    "###########################\n",
    "\n",
    "for basket in basket_lists:\n",
    "    basket.sort()\n",
    "    for pair in itertools.combinations(basket, 2):\n",
    "        product_counts[pair] += 1\n",
    "\n",
    "#for product_pair, product_freq in counts.items():\n",
    "#    print(product_pair, product_freq)"
   ]
  },
  {
   "cell_type": "code",
   "execution_count": 14,
   "metadata": {
    "ExecuteTime": {
     "end_time": "2019-01-19T18:31:05.876027Z",
     "start_time": "2019-01-19T18:31:04.978367Z"
    },
    "_uuid": "9052c1ebfc8fd462199b5beb42cadb019ad8f104",
    "scrolled": true,
    "slideshow": {
     "slide_type": "skip"
    }
   },
   "outputs": [],
   "source": [
    "#SEPARATE PRODUCT TUPLES INTO COLUMNS\n",
    "df_pairs = pd.DataFrame(list(product_counts.keys()))\n",
    "df_pairs.columns = ['items1', 'items2']\n",
    "df_pairs['values'] =  list(product_counts.values())\n",
    "\n",
    "#SORT BY FREQUENCY AND CALCULATE SUPPORT ITEM1 --> ITEM2\n",
    "df_pairs = df_pairs.sort_values(by=\"values\", ascending=False)\n",
    "df_pairs['Support_1_2'] = df_pairs['values']/N_Transactions\n",
    "df_pairs.rename(columns={'values': 'Frequency'}, inplace=True)"
   ]
  },
  {
   "cell_type": "markdown",
   "metadata": {
    "ExecuteTime": {
     "end_time": "2019-01-19T16:59:27.966403Z",
     "start_time": "2019-01-19T16:59:27.959322Z"
    },
    "slideshow": {
     "slide_type": "subslide"
    }
   },
   "source": [
    "<h3>Calculating Support (Product Pairs):</h3>\n",
    "\n",
    "* <b>Says how many times a product appears in customer transactions.</b>\n",
    "* Support(Products) = Frequency(Products) / Total Number Of Orders.\n",
    "* --> Frequency column / # of Orders (constant)"
   ]
  },
  {
   "cell_type": "code",
   "execution_count": 15,
   "metadata": {
    "ExecuteTime": {
     "end_time": "2019-01-19T18:31:05.976602Z",
     "start_time": "2019-01-19T18:31:05.877810Z"
    },
    "scrolled": true,
    "slideshow": {
     "slide_type": "-"
    }
   },
   "outputs": [
    {
     "data": {
      "text/html": [
       "<div>\n",
       "<style scoped>\n",
       "    .dataframe tbody tr th:only-of-type {\n",
       "        vertical-align: middle;\n",
       "    }\n",
       "\n",
       "    .dataframe tbody tr th {\n",
       "        vertical-align: top;\n",
       "    }\n",
       "\n",
       "    .dataframe thead th {\n",
       "        text-align: right;\n",
       "    }\n",
       "</style>\n",
       "<table border=\"1\" class=\"dataframe\">\n",
       "  <thead>\n",
       "    <tr style=\"text-align: right;\">\n",
       "      <th></th>\n",
       "      <th>items1</th>\n",
       "      <th>items2</th>\n",
       "      <th>Frequency</th>\n",
       "      <th>Support_1_2</th>\n",
       "    </tr>\n",
       "  </thead>\n",
       "  <tbody>\n",
       "    <tr>\n",
       "      <th>72</th>\n",
       "      <td>Bag of Organic Bananas</td>\n",
       "      <td>Organic Hass Avocado</td>\n",
       "      <td>3808</td>\n",
       "      <td>0.019224</td>\n",
       "    </tr>\n",
       "    <tr>\n",
       "      <th>5302</th>\n",
       "      <td>Bag of Organic Bananas</td>\n",
       "      <td>Organic Strawberries</td>\n",
       "      <td>3799</td>\n",
       "      <td>0.019179</td>\n",
       "    </tr>\n",
       "    <tr>\n",
       "      <th>185</th>\n",
       "      <td>Banana</td>\n",
       "      <td>Organic Strawberries</td>\n",
       "      <td>3517</td>\n",
       "      <td>0.017755</td>\n",
       "    </tr>\n",
       "    <tr>\n",
       "      <th>180</th>\n",
       "      <td>Banana</td>\n",
       "      <td>Organic Avocado</td>\n",
       "      <td>3237</td>\n",
       "      <td>0.016341</td>\n",
       "    </tr>\n",
       "    <tr>\n",
       "      <th>559</th>\n",
       "      <td>Banana</td>\n",
       "      <td>Organic Baby Spinach</td>\n",
       "      <td>3219</td>\n",
       "      <td>0.016251</td>\n",
       "    </tr>\n",
       "  </tbody>\n",
       "</table>\n",
       "</div>"
      ],
      "text/plain": [
       "                      items1                items2  Frequency  Support_1_2\n",
       "72    Bag of Organic Bananas  Organic Hass Avocado       3808     0.019224\n",
       "5302  Bag of Organic Bananas  Organic Strawberries       3799     0.019179\n",
       "185                   Banana  Organic Strawberries       3517     0.017755\n",
       "180                   Banana       Organic Avocado       3237     0.016341\n",
       "559                   Banana  Organic Baby Spinach       3219     0.016251"
      ]
     },
     "execution_count": 15,
     "metadata": {},
     "output_type": "execute_result"
    }
   ],
   "source": [
    "df_pairs.sort_values(by=\"Support_1_2\", ascending=False).head(n=5)"
   ]
  },
  {
   "cell_type": "markdown",
   "metadata": {
    "slideshow": {
     "slide_type": "-"
    }
   },
   "source": [
    "* Imposing a limitation on Support (Frequency) we get higher relevance. \n",
    "* The algorithm is called Apriori because it cuts of some products under a certain level of support. "
   ]
  },
  {
   "cell_type": "code",
   "execution_count": 16,
   "metadata": {
    "ExecuteTime": {
     "end_time": "2019-01-19T18:31:06.021628Z",
     "start_time": "2019-01-19T18:31:05.987858Z"
    },
    "slideshow": {
     "slide_type": "-"
    }
   },
   "outputs": [
    {
     "data": {
      "text/html": [
       "<div>\n",
       "<style scoped>\n",
       "    .dataframe tbody tr th:only-of-type {\n",
       "        vertical-align: middle;\n",
       "    }\n",
       "\n",
       "    .dataframe tbody tr th {\n",
       "        vertical-align: top;\n",
       "    }\n",
       "\n",
       "    .dataframe thead th {\n",
       "        text-align: right;\n",
       "    }\n",
       "</style>\n",
       "<table border=\"1\" class=\"dataframe\">\n",
       "  <thead>\n",
       "    <tr style=\"text-align: right;\">\n",
       "      <th></th>\n",
       "      <th>items1</th>\n",
       "      <th>items2</th>\n",
       "      <th>Frequency</th>\n",
       "      <th>Support_1_2</th>\n",
       "    </tr>\n",
       "  </thead>\n",
       "  <tbody>\n",
       "    <tr>\n",
       "      <th>8491</th>\n",
       "      <td>Red Peppers</td>\n",
       "      <td>Strawberries</td>\n",
       "      <td>253</td>\n",
       "      <td>0.001277</td>\n",
       "    </tr>\n",
       "    <tr>\n",
       "      <th>64787</th>\n",
       "      <td>Banana</td>\n",
       "      <td>Organic Russet Potato</td>\n",
       "      <td>330</td>\n",
       "      <td>0.001666</td>\n",
       "    </tr>\n",
       "    <tr>\n",
       "      <th>4441</th>\n",
       "      <td>Organic Baby Spinach</td>\n",
       "      <td>Strawberries</td>\n",
       "      <td>826</td>\n",
       "      <td>0.004170</td>\n",
       "    </tr>\n",
       "    <tr>\n",
       "      <th>21421</th>\n",
       "      <td>Organic Large Extra Fancy Fuji Apple</td>\n",
       "      <td>Organic Yellow Onion</td>\n",
       "      <td>400</td>\n",
       "      <td>0.002019</td>\n",
       "    </tr>\n",
       "    <tr>\n",
       "      <th>8847</th>\n",
       "      <td>Apple Honeycrisp Organic</td>\n",
       "      <td>Seedless Red Grapes</td>\n",
       "      <td>271</td>\n",
       "      <td>0.001368</td>\n",
       "    </tr>\n",
       "    <tr>\n",
       "      <th>8086</th>\n",
       "      <td>Organic Baby Carrots</td>\n",
       "      <td>Organic Whole Milk</td>\n",
       "      <td>357</td>\n",
       "      <td>0.001802</td>\n",
       "    </tr>\n",
       "    <tr>\n",
       "      <th>1349</th>\n",
       "      <td>Carrots</td>\n",
       "      <td>Organic Raspberries</td>\n",
       "      <td>316</td>\n",
       "      <td>0.001595</td>\n",
       "    </tr>\n",
       "    <tr>\n",
       "      <th>20946</th>\n",
       "      <td>Cucumber Kirby</td>\n",
       "      <td>Honeycrisp Apple</td>\n",
       "      <td>438</td>\n",
       "      <td>0.002211</td>\n",
       "    </tr>\n",
       "    <tr>\n",
       "      <th>9884</th>\n",
       "      <td>Bag of Organic Bananas</td>\n",
       "      <td>Organic Frozen Peas</td>\n",
       "      <td>330</td>\n",
       "      <td>0.001666</td>\n",
       "    </tr>\n",
       "    <tr>\n",
       "      <th>29902</th>\n",
       "      <td>Organic Strawberries</td>\n",
       "      <td>Yellow Bell Pepper</td>\n",
       "      <td>215</td>\n",
       "      <td>0.001085</td>\n",
       "    </tr>\n",
       "  </tbody>\n",
       "</table>\n",
       "</div>"
      ],
      "text/plain": [
       "                                     items1                 items2  Frequency  \\\n",
       "8491                            Red Peppers           Strawberries        253   \n",
       "64787                                Banana  Organic Russet Potato        330   \n",
       "4441                   Organic Baby Spinach           Strawberries        826   \n",
       "21421  Organic Large Extra Fancy Fuji Apple   Organic Yellow Onion        400   \n",
       "8847               Apple Honeycrisp Organic    Seedless Red Grapes        271   \n",
       "8086                   Organic Baby Carrots     Organic Whole Milk        357   \n",
       "1349                                Carrots    Organic Raspberries        316   \n",
       "20946                        Cucumber Kirby       Honeycrisp Apple        438   \n",
       "9884                 Bag of Organic Bananas    Organic Frozen Peas        330   \n",
       "29902                  Organic Strawberries     Yellow Bell Pepper        215   \n",
       "\n",
       "       Support_1_2  \n",
       "8491      0.001277  \n",
       "64787     0.001666  \n",
       "4441      0.004170  \n",
       "21421     0.002019  \n",
       "8847      0.001368  \n",
       "8086      0.001802  \n",
       "1349      0.001595  \n",
       "20946     0.002211  \n",
       "9884      0.001666  \n",
       "29902     0.001085  "
      ]
     },
     "execution_count": 16,
     "metadata": {},
     "output_type": "execute_result"
    }
   ],
   "source": [
    "# LET'S TEST THIS CONCEPT:\n",
    "\n",
    "df_pairs[df_pairs['Support_1_2']>0.0010].sample(n=100).head(n=10) "
   ]
  },
  {
   "cell_type": "code",
   "execution_count": 17,
   "metadata": {
    "ExecuteTime": {
     "end_time": "2019-01-19T18:31:06.790532Z",
     "start_time": "2019-01-19T18:31:06.033626Z"
    },
    "_uuid": "97533350fbf6adabeeee07a560ce2211e0863502",
    "scrolled": true,
    "slideshow": {
     "slide_type": "skip"
    }
   },
   "outputs": [],
   "source": [
    "#product_count.to_frame()\n",
    "df_pairs = pd.merge(df_pairs, count_prods, right_on='product_name', left_on='items1')\n",
    "df_pairs = pd.merge(df_pairs, count_prods, right_on='product_name', left_on='items2')"
   ]
  },
  {
   "cell_type": "code",
   "execution_count": 18,
   "metadata": {
    "ExecuteTime": {
     "end_time": "2019-01-19T18:31:06.830106Z",
     "start_time": "2019-01-19T18:31:06.792070Z"
    },
    "scrolled": true
   },
   "outputs": [
    {
     "data": {
      "text/html": [
       "<div>\n",
       "<style scoped>\n",
       "    .dataframe tbody tr th:only-of-type {\n",
       "        vertical-align: middle;\n",
       "    }\n",
       "\n",
       "    .dataframe tbody tr th {\n",
       "        vertical-align: top;\n",
       "    }\n",
       "\n",
       "    .dataframe thead th {\n",
       "        text-align: right;\n",
       "    }\n",
       "</style>\n",
       "<table border=\"1\" class=\"dataframe\">\n",
       "  <thead>\n",
       "    <tr style=\"text-align: right;\">\n",
       "      <th></th>\n",
       "      <th>items1</th>\n",
       "      <th>items2</th>\n",
       "      <th>Frequency</th>\n",
       "      <th>Support_1_2</th>\n",
       "      <th>order_id_x</th>\n",
       "      <th>order_id_y</th>\n",
       "    </tr>\n",
       "  </thead>\n",
       "  <tbody>\n",
       "    <tr>\n",
       "      <th>0</th>\n",
       "      <td>Bag of Organic Bananas</td>\n",
       "      <td>Organic Hass Avocado</td>\n",
       "      <td>3808</td>\n",
       "      <td>0.019224</td>\n",
       "      <td>23415</td>\n",
       "      <td>13107</td>\n",
       "    </tr>\n",
       "    <tr>\n",
       "      <th>1</th>\n",
       "      <td>Banana</td>\n",
       "      <td>Organic Hass Avocado</td>\n",
       "      <td>2009</td>\n",
       "      <td>0.010142</td>\n",
       "      <td>29255</td>\n",
       "      <td>13107</td>\n",
       "    </tr>\n",
       "    <tr>\n",
       "      <th>2</th>\n",
       "      <td>Organic Baby Spinach</td>\n",
       "      <td>Organic Hass Avocado</td>\n",
       "      <td>2088</td>\n",
       "      <td>0.010541</td>\n",
       "      <td>14915</td>\n",
       "      <td>13107</td>\n",
       "    </tr>\n",
       "    <tr>\n",
       "      <th>3</th>\n",
       "      <td>Organic Avocado</td>\n",
       "      <td>Organic Hass Avocado</td>\n",
       "      <td>44</td>\n",
       "      <td>0.000222</td>\n",
       "      <td>10736</td>\n",
       "      <td>13107</td>\n",
       "    </tr>\n",
       "    <tr>\n",
       "      <th>4</th>\n",
       "      <td>Large Lemon</td>\n",
       "      <td>Organic Hass Avocado</td>\n",
       "      <td>940</td>\n",
       "      <td>0.004745</td>\n",
       "      <td>9377</td>\n",
       "      <td>13107</td>\n",
       "    </tr>\n",
       "    <tr>\n",
       "      <th>5</th>\n",
       "      <td>Organic Blueberries</td>\n",
       "      <td>Organic Hass Avocado</td>\n",
       "      <td>721</td>\n",
       "      <td>0.003640</td>\n",
       "      <td>6175</td>\n",
       "      <td>13107</td>\n",
       "    </tr>\n",
       "    <tr>\n",
       "      <th>6</th>\n",
       "      <td>Apple Honeycrisp Organic</td>\n",
       "      <td>Organic Hass Avocado</td>\n",
       "      <td>939</td>\n",
       "      <td>0.004740</td>\n",
       "      <td>5277</td>\n",
       "      <td>13107</td>\n",
       "    </tr>\n",
       "    <tr>\n",
       "      <th>7</th>\n",
       "      <td>Organic Garlic</td>\n",
       "      <td>Organic Hass Avocado</td>\n",
       "      <td>1102</td>\n",
       "      <td>0.005563</td>\n",
       "      <td>6762</td>\n",
       "      <td>13107</td>\n",
       "    </tr>\n",
       "    <tr>\n",
       "      <th>8</th>\n",
       "      <td>Limes</td>\n",
       "      <td>Organic Hass Avocado</td>\n",
       "      <td>1197</td>\n",
       "      <td>0.006043</td>\n",
       "      <td>8663</td>\n",
       "      <td>13107</td>\n",
       "    </tr>\n",
       "    <tr>\n",
       "      <th>9</th>\n",
       "      <td>Organic Cucumber</td>\n",
       "      <td>Organic Hass Avocado</td>\n",
       "      <td>1090</td>\n",
       "      <td>0.005503</td>\n",
       "      <td>4996</td>\n",
       "      <td>13107</td>\n",
       "    </tr>\n",
       "    <tr>\n",
       "      <th>10</th>\n",
       "      <td>Cucumber Kirby</td>\n",
       "      <td>Organic Hass Avocado</td>\n",
       "      <td>573</td>\n",
       "      <td>0.002893</td>\n",
       "      <td>5909</td>\n",
       "      <td>13107</td>\n",
       "    </tr>\n",
       "    <tr>\n",
       "      <th>11</th>\n",
       "      <td>Asparagus</td>\n",
       "      <td>Organic Hass Avocado</td>\n",
       "      <td>521</td>\n",
       "      <td>0.002630</td>\n",
       "      <td>4071</td>\n",
       "      <td>13107</td>\n",
       "    </tr>\n",
       "    <tr>\n",
       "      <th>12</th>\n",
       "      <td>Organic Grape Tomatoes</td>\n",
       "      <td>Organic Hass Avocado</td>\n",
       "      <td>844</td>\n",
       "      <td>0.004261</td>\n",
       "      <td>5187</td>\n",
       "      <td>13107</td>\n",
       "    </tr>\n",
       "    <tr>\n",
       "      <th>13</th>\n",
       "      <td>100% Whole Wheat Bread</td>\n",
       "      <td>Organic Hass Avocado</td>\n",
       "      <td>331</td>\n",
       "      <td>0.001671</td>\n",
       "      <td>3755</td>\n",
       "      <td>13107</td>\n",
       "    </tr>\n",
       "    <tr>\n",
       "      <th>14</th>\n",
       "      <td>Michigan Organic Kale</td>\n",
       "      <td>Organic Hass Avocado</td>\n",
       "      <td>673</td>\n",
       "      <td>0.003398</td>\n",
       "      <td>4168</td>\n",
       "      <td>13107</td>\n",
       "    </tr>\n",
       "    <tr>\n",
       "      <th>15</th>\n",
       "      <td>Carrots</td>\n",
       "      <td>Organic Hass Avocado</td>\n",
       "      <td>592</td>\n",
       "      <td>0.002989</td>\n",
       "      <td>4525</td>\n",
       "      <td>13107</td>\n",
       "    </tr>\n",
       "    <tr>\n",
       "      <th>16</th>\n",
       "      <td>Organic Baby Carrots</td>\n",
       "      <td>Organic Hass Avocado</td>\n",
       "      <td>617</td>\n",
       "      <td>0.003115</td>\n",
       "      <td>4729</td>\n",
       "      <td>13107</td>\n",
       "    </tr>\n",
       "    <tr>\n",
       "      <th>17</th>\n",
       "      <td>Organic Gala Apples</td>\n",
       "      <td>Organic Hass Avocado</td>\n",
       "      <td>739</td>\n",
       "      <td>0.003731</td>\n",
       "      <td>4512</td>\n",
       "      <td>13107</td>\n",
       "    </tr>\n",
       "    <tr>\n",
       "      <th>18</th>\n",
       "      <td>Organic Baby Arugula</td>\n",
       "      <td>Organic Hass Avocado</td>\n",
       "      <td>641</td>\n",
       "      <td>0.003236</td>\n",
       "      <td>4423</td>\n",
       "      <td>13107</td>\n",
       "    </tr>\n",
       "    <tr>\n",
       "      <th>19</th>\n",
       "      <td>Lime Sparkling Water</td>\n",
       "      <td>Organic Hass Avocado</td>\n",
       "      <td>256</td>\n",
       "      <td>0.001292</td>\n",
       "      <td>2844</td>\n",
       "      <td>13107</td>\n",
       "    </tr>\n",
       "    <tr>\n",
       "      <th>20</th>\n",
       "      <td>Organic Blackberries</td>\n",
       "      <td>Organic Hass Avocado</td>\n",
       "      <td>410</td>\n",
       "      <td>0.002070</td>\n",
       "      <td>3780</td>\n",
       "      <td>13107</td>\n",
       "    </tr>\n",
       "    <tr>\n",
       "      <th>21</th>\n",
       "      <td>Bunched Cilantro</td>\n",
       "      <td>Organic Hass Avocado</td>\n",
       "      <td>233</td>\n",
       "      <td>0.001176</td>\n",
       "      <td>2825</td>\n",
       "      <td>13107</td>\n",
       "    </tr>\n",
       "    <tr>\n",
       "      <th>22</th>\n",
       "      <td>Organic Cilantro</td>\n",
       "      <td>Organic Hass Avocado</td>\n",
       "      <td>759</td>\n",
       "      <td>0.003832</td>\n",
       "      <td>4197</td>\n",
       "      <td>13107</td>\n",
       "    </tr>\n",
       "    <tr>\n",
       "      <th>23</th>\n",
       "      <td>Fresh Cauliflower</td>\n",
       "      <td>Organic Hass Avocado</td>\n",
       "      <td>638</td>\n",
       "      <td>0.003221</td>\n",
       "      <td>4384</td>\n",
       "      <td>13107</td>\n",
       "    </tr>\n",
       "    <tr>\n",
       "      <th>24</th>\n",
       "      <td>Honeycrisp Apple</td>\n",
       "      <td>Organic Hass Avocado</td>\n",
       "      <td>507</td>\n",
       "      <td>0.002559</td>\n",
       "      <td>4948</td>\n",
       "      <td>13107</td>\n",
       "    </tr>\n",
       "    <tr>\n",
       "      <th>25</th>\n",
       "      <td>Jalapeno Peppers</td>\n",
       "      <td>Organic Hass Avocado</td>\n",
       "      <td>272</td>\n",
       "      <td>0.001373</td>\n",
       "      <td>2584</td>\n",
       "      <td>13107</td>\n",
       "    </tr>\n",
       "    <tr>\n",
       "      <th>26</th>\n",
       "      <td>Organic Garnet Sweet Potato (Yam)</td>\n",
       "      <td>Organic Hass Avocado</td>\n",
       "      <td>691</td>\n",
       "      <td>0.003488</td>\n",
       "      <td>3322</td>\n",
       "      <td>13107</td>\n",
       "    </tr>\n",
       "    <tr>\n",
       "      <th>27</th>\n",
       "      <td>2% Reduced Fat Milk</td>\n",
       "      <td>Organic Hass Avocado</td>\n",
       "      <td>35</td>\n",
       "      <td>0.000177</td>\n",
       "      <td>2315</td>\n",
       "      <td>13107</td>\n",
       "    </tr>\n",
       "    <tr>\n",
       "      <th>28</th>\n",
       "      <td>Organic D'Anjou Pears</td>\n",
       "      <td>Organic Hass Avocado</td>\n",
       "      <td>568</td>\n",
       "      <td>0.002867</td>\n",
       "      <td>3083</td>\n",
       "      <td>13107</td>\n",
       "    </tr>\n",
       "    <tr>\n",
       "      <th>29</th>\n",
       "      <td>Organic Half &amp; Half</td>\n",
       "      <td>Organic Hass Avocado</td>\n",
       "      <td>425</td>\n",
       "      <td>0.002146</td>\n",
       "      <td>4754</td>\n",
       "      <td>13107</td>\n",
       "    </tr>\n",
       "    <tr>\n",
       "      <th>...</th>\n",
       "      <td>...</td>\n",
       "      <td>...</td>\n",
       "      <td>...</td>\n",
       "      <td>...</td>\n",
       "      <td>...</td>\n",
       "      <td>...</td>\n",
       "    </tr>\n",
       "    <tr>\n",
       "      <th>945474</th>\n",
       "      <td>100% Apple Juice</td>\n",
       "      <td>100% Lemon Juice</td>\n",
       "      <td>3</td>\n",
       "      <td>0.000015</td>\n",
       "      <td>337</td>\n",
       "      <td>279</td>\n",
       "    </tr>\n",
       "    <tr>\n",
       "      <th>945475</th>\n",
       "      <td>100% Grated Parmesan Cheese</td>\n",
       "      <td>100% Lemon Juice</td>\n",
       "      <td>6</td>\n",
       "      <td>0.000030</td>\n",
       "      <td>363</td>\n",
       "      <td>279</td>\n",
       "    </tr>\n",
       "    <tr>\n",
       "      <th>945476</th>\n",
       "      <td>1% Lowfat Milk</td>\n",
       "      <td>100% Grated Parmesan Cheese</td>\n",
       "      <td>1</td>\n",
       "      <td>0.000005</td>\n",
       "      <td>820</td>\n",
       "      <td>363</td>\n",
       "    </tr>\n",
       "    <tr>\n",
       "      <th>945477</th>\n",
       "      <td>100 Calorie  Per Bag Popcorn</td>\n",
       "      <td>100% Grated Parmesan Cheese</td>\n",
       "      <td>2</td>\n",
       "      <td>0.000010</td>\n",
       "      <td>746</td>\n",
       "      <td>363</td>\n",
       "    </tr>\n",
       "    <tr>\n",
       "      <th>945478</th>\n",
       "      <td>0% Greek Strained Yogurt</td>\n",
       "      <td>Apples</td>\n",
       "      <td>94</td>\n",
       "      <td>0.000475</td>\n",
       "      <td>853</td>\n",
       "      <td>786</td>\n",
       "    </tr>\n",
       "    <tr>\n",
       "      <th>945479</th>\n",
       "      <td>Aluminum Foil</td>\n",
       "      <td>Apples</td>\n",
       "      <td>1</td>\n",
       "      <td>0.000005</td>\n",
       "      <td>728</td>\n",
       "      <td>786</td>\n",
       "    </tr>\n",
       "    <tr>\n",
       "      <th>945480</th>\n",
       "      <td>Apple Juice</td>\n",
       "      <td>Apples</td>\n",
       "      <td>1</td>\n",
       "      <td>0.000005</td>\n",
       "      <td>486</td>\n",
       "      <td>786</td>\n",
       "    </tr>\n",
       "    <tr>\n",
       "      <th>945481</th>\n",
       "      <td>100% Lactose Free Fat Free Milk</td>\n",
       "      <td>Apples</td>\n",
       "      <td>1</td>\n",
       "      <td>0.000005</td>\n",
       "      <td>450</td>\n",
       "      <td>786</td>\n",
       "    </tr>\n",
       "    <tr>\n",
       "      <th>945482</th>\n",
       "      <td>100% Natural Spring Water</td>\n",
       "      <td>Apples</td>\n",
       "      <td>1</td>\n",
       "      <td>0.000005</td>\n",
       "      <td>414</td>\n",
       "      <td>786</td>\n",
       "    </tr>\n",
       "    <tr>\n",
       "      <th>945483</th>\n",
       "      <td>100% Grated Parmesan Cheese</td>\n",
       "      <td>Apples</td>\n",
       "      <td>1</td>\n",
       "      <td>0.000005</td>\n",
       "      <td>363</td>\n",
       "      <td>786</td>\n",
       "    </tr>\n",
       "    <tr>\n",
       "      <th>945484</th>\n",
       "      <td>Almonds</td>\n",
       "      <td>Apples</td>\n",
       "      <td>15</td>\n",
       "      <td>0.000076</td>\n",
       "      <td>283</td>\n",
       "      <td>786</td>\n",
       "    </tr>\n",
       "    <tr>\n",
       "      <th>945485</th>\n",
       "      <td>1% Low Fat Milk</td>\n",
       "      <td>100% Natural Spring Water</td>\n",
       "      <td>5</td>\n",
       "      <td>0.000025</td>\n",
       "      <td>572</td>\n",
       "      <td>414</td>\n",
       "    </tr>\n",
       "    <tr>\n",
       "      <th>945486</th>\n",
       "      <td>100 Calorie  Per Bag Popcorn</td>\n",
       "      <td>100% Natural Spring Water</td>\n",
       "      <td>3</td>\n",
       "      <td>0.000015</td>\n",
       "      <td>746</td>\n",
       "      <td>414</td>\n",
       "    </tr>\n",
       "    <tr>\n",
       "      <th>945487</th>\n",
       "      <td>100% Lactose Free Fat Free Milk</td>\n",
       "      <td>100% Natural Spring Water</td>\n",
       "      <td>1</td>\n",
       "      <td>0.000005</td>\n",
       "      <td>450</td>\n",
       "      <td>414</td>\n",
       "    </tr>\n",
       "    <tr>\n",
       "      <th>945488</th>\n",
       "      <td>100% Apple Juice</td>\n",
       "      <td>100% Natural Spring Water</td>\n",
       "      <td>2</td>\n",
       "      <td>0.000010</td>\n",
       "      <td>337</td>\n",
       "      <td>414</td>\n",
       "    </tr>\n",
       "    <tr>\n",
       "      <th>945489</th>\n",
       "      <td>0% Fat Free Organic Milk</td>\n",
       "      <td>100% Natural Spring Water</td>\n",
       "      <td>1</td>\n",
       "      <td>0.000005</td>\n",
       "      <td>225</td>\n",
       "      <td>414</td>\n",
       "    </tr>\n",
       "    <tr>\n",
       "      <th>945490</th>\n",
       "      <td>100% Grated Parmesan Cheese</td>\n",
       "      <td>100% Natural Spring Water</td>\n",
       "      <td>4</td>\n",
       "      <td>0.000020</td>\n",
       "      <td>363</td>\n",
       "      <td>414</td>\n",
       "    </tr>\n",
       "    <tr>\n",
       "      <th>945491</th>\n",
       "      <td>100% Lemon Juice</td>\n",
       "      <td>100% Natural Spring Water</td>\n",
       "      <td>3</td>\n",
       "      <td>0.000015</td>\n",
       "      <td>279</td>\n",
       "      <td>414</td>\n",
       "    </tr>\n",
       "    <tr>\n",
       "      <th>945492</th>\n",
       "      <td>1 Liter</td>\n",
       "      <td>100% Natural Spring Water</td>\n",
       "      <td>1</td>\n",
       "      <td>0.000005</td>\n",
       "      <td>256</td>\n",
       "      <td>414</td>\n",
       "    </tr>\n",
       "    <tr>\n",
       "      <th>945493</th>\n",
       "      <td>1% Low Fat Milk</td>\n",
       "      <td>100% Apple Juice</td>\n",
       "      <td>3</td>\n",
       "      <td>0.000015</td>\n",
       "      <td>572</td>\n",
       "      <td>337</td>\n",
       "    </tr>\n",
       "    <tr>\n",
       "      <th>945494</th>\n",
       "      <td>100 Calorie  Per Bag Popcorn</td>\n",
       "      <td>100% Apple Juice</td>\n",
       "      <td>4</td>\n",
       "      <td>0.000020</td>\n",
       "      <td>746</td>\n",
       "      <td>337</td>\n",
       "    </tr>\n",
       "    <tr>\n",
       "      <th>945495</th>\n",
       "      <td>0% Fat Free Organic Milk</td>\n",
       "      <td>100% Apple Juice</td>\n",
       "      <td>1</td>\n",
       "      <td>0.000005</td>\n",
       "      <td>225</td>\n",
       "      <td>337</td>\n",
       "    </tr>\n",
       "    <tr>\n",
       "      <th>945496</th>\n",
       "      <td>100 Calorie  Per Bag Popcorn</td>\n",
       "      <td>100% Pure Apple Juice</td>\n",
       "      <td>3</td>\n",
       "      <td>0.000015</td>\n",
       "      <td>746</td>\n",
       "      <td>347</td>\n",
       "    </tr>\n",
       "    <tr>\n",
       "      <th>945497</th>\n",
       "      <td>100% Lactose Free Fat Free Milk</td>\n",
       "      <td>100% Pure Apple Juice</td>\n",
       "      <td>1</td>\n",
       "      <td>0.000005</td>\n",
       "      <td>450</td>\n",
       "      <td>347</td>\n",
       "    </tr>\n",
       "    <tr>\n",
       "      <th>945498</th>\n",
       "      <td>100% Apple Juice</td>\n",
       "      <td>100% Pure Apple Juice</td>\n",
       "      <td>1</td>\n",
       "      <td>0.000005</td>\n",
       "      <td>337</td>\n",
       "      <td>347</td>\n",
       "    </tr>\n",
       "    <tr>\n",
       "      <th>945499</th>\n",
       "      <td>100% Grated Parmesan Cheese</td>\n",
       "      <td>100% Pure Apple Juice</td>\n",
       "      <td>2</td>\n",
       "      <td>0.000010</td>\n",
       "      <td>363</td>\n",
       "      <td>347</td>\n",
       "    </tr>\n",
       "    <tr>\n",
       "      <th>945500</th>\n",
       "      <td>100% Lactose Free Reduced Fat Calcium Enriched...</td>\n",
       "      <td>100% Pure Apple Juice</td>\n",
       "      <td>2</td>\n",
       "      <td>0.000010</td>\n",
       "      <td>200</td>\n",
       "      <td>347</td>\n",
       "    </tr>\n",
       "    <tr>\n",
       "      <th>945501</th>\n",
       "      <td>100% Cranberry Juice</td>\n",
       "      <td>100% Pure Apple Juice</td>\n",
       "      <td>2</td>\n",
       "      <td>0.000010</td>\n",
       "      <td>284</td>\n",
       "      <td>347</td>\n",
       "    </tr>\n",
       "    <tr>\n",
       "      <th>945502</th>\n",
       "      <td>100% Lactose Free Fat Free Milk</td>\n",
       "      <td>100% Lactose Free Reduced Fat Calcium Enriched...</td>\n",
       "      <td>2</td>\n",
       "      <td>0.000010</td>\n",
       "      <td>450</td>\n",
       "      <td>200</td>\n",
       "    </tr>\n",
       "    <tr>\n",
       "      <th>945503</th>\n",
       "      <td>1 Liter</td>\n",
       "      <td>100% Lactose Free Reduced Fat Calcium Enriched...</td>\n",
       "      <td>1</td>\n",
       "      <td>0.000005</td>\n",
       "      <td>256</td>\n",
       "      <td>200</td>\n",
       "    </tr>\n",
       "  </tbody>\n",
       "</table>\n",
       "<p>945504 rows × 6 columns</p>\n",
       "</div>"
      ],
      "text/plain": [
       "                                                   items1  \\\n",
       "0                                  Bag of Organic Bananas   \n",
       "1                                                  Banana   \n",
       "2                                    Organic Baby Spinach   \n",
       "3                                         Organic Avocado   \n",
       "4                                             Large Lemon   \n",
       "5                                     Organic Blueberries   \n",
       "6                                Apple Honeycrisp Organic   \n",
       "7                                          Organic Garlic   \n",
       "8                                                   Limes   \n",
       "9                                        Organic Cucumber   \n",
       "10                                         Cucumber Kirby   \n",
       "11                                              Asparagus   \n",
       "12                                 Organic Grape Tomatoes   \n",
       "13                                 100% Whole Wheat Bread   \n",
       "14                                  Michigan Organic Kale   \n",
       "15                                                Carrots   \n",
       "16                                   Organic Baby Carrots   \n",
       "17                                    Organic Gala Apples   \n",
       "18                                   Organic Baby Arugula   \n",
       "19                                   Lime Sparkling Water   \n",
       "20                                   Organic Blackberries   \n",
       "21                                       Bunched Cilantro   \n",
       "22                                       Organic Cilantro   \n",
       "23                                      Fresh Cauliflower   \n",
       "24                                       Honeycrisp Apple   \n",
       "25                                       Jalapeno Peppers   \n",
       "26                      Organic Garnet Sweet Potato (Yam)   \n",
       "27                                    2% Reduced Fat Milk   \n",
       "28                                  Organic D'Anjou Pears   \n",
       "29                                    Organic Half & Half   \n",
       "...                                                   ...   \n",
       "945474                                   100% Apple Juice   \n",
       "945475                        100% Grated Parmesan Cheese   \n",
       "945476                                     1% Lowfat Milk   \n",
       "945477                       100 Calorie  Per Bag Popcorn   \n",
       "945478                           0% Greek Strained Yogurt   \n",
       "945479                                      Aluminum Foil   \n",
       "945480                                        Apple Juice   \n",
       "945481                    100% Lactose Free Fat Free Milk   \n",
       "945482                          100% Natural Spring Water   \n",
       "945483                        100% Grated Parmesan Cheese   \n",
       "945484                                            Almonds   \n",
       "945485                                    1% Low Fat Milk   \n",
       "945486                       100 Calorie  Per Bag Popcorn   \n",
       "945487                    100% Lactose Free Fat Free Milk   \n",
       "945488                                   100% Apple Juice   \n",
       "945489                           0% Fat Free Organic Milk   \n",
       "945490                        100% Grated Parmesan Cheese   \n",
       "945491                                   100% Lemon Juice   \n",
       "945492                                            1 Liter   \n",
       "945493                                    1% Low Fat Milk   \n",
       "945494                       100 Calorie  Per Bag Popcorn   \n",
       "945495                           0% Fat Free Organic Milk   \n",
       "945496                       100 Calorie  Per Bag Popcorn   \n",
       "945497                    100% Lactose Free Fat Free Milk   \n",
       "945498                                   100% Apple Juice   \n",
       "945499                        100% Grated Parmesan Cheese   \n",
       "945500  100% Lactose Free Reduced Fat Calcium Enriched...   \n",
       "945501                               100% Cranberry Juice   \n",
       "945502                    100% Lactose Free Fat Free Milk   \n",
       "945503                                            1 Liter   \n",
       "\n",
       "                                                   items2  Frequency  \\\n",
       "0                                    Organic Hass Avocado       3808   \n",
       "1                                    Organic Hass Avocado       2009   \n",
       "2                                    Organic Hass Avocado       2088   \n",
       "3                                    Organic Hass Avocado         44   \n",
       "4                                    Organic Hass Avocado        940   \n",
       "5                                    Organic Hass Avocado        721   \n",
       "6                                    Organic Hass Avocado        939   \n",
       "7                                    Organic Hass Avocado       1102   \n",
       "8                                    Organic Hass Avocado       1197   \n",
       "9                                    Organic Hass Avocado       1090   \n",
       "10                                   Organic Hass Avocado        573   \n",
       "11                                   Organic Hass Avocado        521   \n",
       "12                                   Organic Hass Avocado        844   \n",
       "13                                   Organic Hass Avocado        331   \n",
       "14                                   Organic Hass Avocado        673   \n",
       "15                                   Organic Hass Avocado        592   \n",
       "16                                   Organic Hass Avocado        617   \n",
       "17                                   Organic Hass Avocado        739   \n",
       "18                                   Organic Hass Avocado        641   \n",
       "19                                   Organic Hass Avocado        256   \n",
       "20                                   Organic Hass Avocado        410   \n",
       "21                                   Organic Hass Avocado        233   \n",
       "22                                   Organic Hass Avocado        759   \n",
       "23                                   Organic Hass Avocado        638   \n",
       "24                                   Organic Hass Avocado        507   \n",
       "25                                   Organic Hass Avocado        272   \n",
       "26                                   Organic Hass Avocado        691   \n",
       "27                                   Organic Hass Avocado         35   \n",
       "28                                   Organic Hass Avocado        568   \n",
       "29                                   Organic Hass Avocado        425   \n",
       "...                                                   ...        ...   \n",
       "945474                                   100% Lemon Juice          3   \n",
       "945475                                   100% Lemon Juice          6   \n",
       "945476                        100% Grated Parmesan Cheese          1   \n",
       "945477                        100% Grated Parmesan Cheese          2   \n",
       "945478                                             Apples         94   \n",
       "945479                                             Apples          1   \n",
       "945480                                             Apples          1   \n",
       "945481                                             Apples          1   \n",
       "945482                                             Apples          1   \n",
       "945483                                             Apples          1   \n",
       "945484                                             Apples         15   \n",
       "945485                          100% Natural Spring Water          5   \n",
       "945486                          100% Natural Spring Water          3   \n",
       "945487                          100% Natural Spring Water          1   \n",
       "945488                          100% Natural Spring Water          2   \n",
       "945489                          100% Natural Spring Water          1   \n",
       "945490                          100% Natural Spring Water          4   \n",
       "945491                          100% Natural Spring Water          3   \n",
       "945492                          100% Natural Spring Water          1   \n",
       "945493                                   100% Apple Juice          3   \n",
       "945494                                   100% Apple Juice          4   \n",
       "945495                                   100% Apple Juice          1   \n",
       "945496                              100% Pure Apple Juice          3   \n",
       "945497                              100% Pure Apple Juice          1   \n",
       "945498                              100% Pure Apple Juice          1   \n",
       "945499                              100% Pure Apple Juice          2   \n",
       "945500                              100% Pure Apple Juice          2   \n",
       "945501                              100% Pure Apple Juice          2   \n",
       "945502  100% Lactose Free Reduced Fat Calcium Enriched...          2   \n",
       "945503  100% Lactose Free Reduced Fat Calcium Enriched...          1   \n",
       "\n",
       "        Support_1_2  order_id_x  order_id_y  \n",
       "0          0.019224       23415       13107  \n",
       "1          0.010142       29255       13107  \n",
       "2          0.010541       14915       13107  \n",
       "3          0.000222       10736       13107  \n",
       "4          0.004745        9377       13107  \n",
       "5          0.003640        6175       13107  \n",
       "6          0.004740        5277       13107  \n",
       "7          0.005563        6762       13107  \n",
       "8          0.006043        8663       13107  \n",
       "9          0.005503        4996       13107  \n",
       "10         0.002893        5909       13107  \n",
       "11         0.002630        4071       13107  \n",
       "12         0.004261        5187       13107  \n",
       "13         0.001671        3755       13107  \n",
       "14         0.003398        4168       13107  \n",
       "15         0.002989        4525       13107  \n",
       "16         0.003115        4729       13107  \n",
       "17         0.003731        4512       13107  \n",
       "18         0.003236        4423       13107  \n",
       "19         0.001292        2844       13107  \n",
       "20         0.002070        3780       13107  \n",
       "21         0.001176        2825       13107  \n",
       "22         0.003832        4197       13107  \n",
       "23         0.003221        4384       13107  \n",
       "24         0.002559        4948       13107  \n",
       "25         0.001373        2584       13107  \n",
       "26         0.003488        3322       13107  \n",
       "27         0.000177        2315       13107  \n",
       "28         0.002867        3083       13107  \n",
       "29         0.002146        4754       13107  \n",
       "...             ...         ...         ...  \n",
       "945474     0.000015         337         279  \n",
       "945475     0.000030         363         279  \n",
       "945476     0.000005         820         363  \n",
       "945477     0.000010         746         363  \n",
       "945478     0.000475         853         786  \n",
       "945479     0.000005         728         786  \n",
       "945480     0.000005         486         786  \n",
       "945481     0.000005         450         786  \n",
       "945482     0.000005         414         786  \n",
       "945483     0.000005         363         786  \n",
       "945484     0.000076         283         786  \n",
       "945485     0.000025         572         414  \n",
       "945486     0.000015         746         414  \n",
       "945487     0.000005         450         414  \n",
       "945488     0.000010         337         414  \n",
       "945489     0.000005         225         414  \n",
       "945490     0.000020         363         414  \n",
       "945491     0.000015         279         414  \n",
       "945492     0.000005         256         414  \n",
       "945493     0.000015         572         337  \n",
       "945494     0.000020         746         337  \n",
       "945495     0.000005         225         337  \n",
       "945496     0.000015         746         347  \n",
       "945497     0.000005         450         347  \n",
       "945498     0.000005         337         347  \n",
       "945499     0.000010         363         347  \n",
       "945500     0.000010         200         347  \n",
       "945501     0.000010         284         347  \n",
       "945502     0.000010         450         200  \n",
       "945503     0.000005         256         200  \n",
       "\n",
       "[945504 rows x 6 columns]"
      ]
     },
     "execution_count": 18,
     "metadata": {},
     "output_type": "execute_result"
    }
   ],
   "source": [
    "df_pairs"
   ]
  },
  {
   "cell_type": "code",
   "execution_count": 19,
   "metadata": {
    "ExecuteTime": {
     "end_time": "2019-01-19T18:31:07.033431Z",
     "start_time": "2019-01-19T18:31:06.832482Z"
    },
    "_uuid": "afca5e58ce708a452891bfba81cb097252c06b48",
    "scrolled": true,
    "slideshow": {
     "slide_type": "skip"
    }
   },
   "outputs": [],
   "source": [
    "df_pairs.rename(columns={'order_id_x': 'Freq1', 'order_id_y': 'Freq2'}, inplace=True)\n",
    "df_pairs['Confidence_1_2'] = df_pairs['Support_1_2'] / (df_pairs['Freq1'] / N_Transactions)"
   ]
  },
  {
   "cell_type": "markdown",
   "metadata": {
    "slideshow": {
     "slide_type": "subslide"
    }
   },
   "source": [
    "<h3>Calculating Confidence (Product Pairs):</h3>\n",
    "\n",
    "* <b>Says how likely item Y is purchased when item X is purchased, expressed as {X -> Y}.</b>\n",
    "* The confidence of {apple -> beer} is 3 out of 4, or 75%\n",
    "* = (3/5) / (3/5)\n",
    "* = 1 or 100% "
   ]
  },
  {
   "cell_type": "code",
   "execution_count": 20,
   "metadata": {
    "ExecuteTime": {
     "end_time": "2019-01-19T18:31:07.252658Z",
     "start_time": "2019-01-19T18:31:07.035512Z"
    },
    "_uuid": "ba7825d9ea2f5d0d91ed5f981e1b9811da337acd",
    "slideshow": {
     "slide_type": "-"
    }
   },
   "outputs": [
    {
     "data": {
      "text/html": [
       "<div>\n",
       "<style scoped>\n",
       "    .dataframe tbody tr th:only-of-type {\n",
       "        vertical-align: middle;\n",
       "    }\n",
       "\n",
       "    .dataframe tbody tr th {\n",
       "        vertical-align: top;\n",
       "    }\n",
       "\n",
       "    .dataframe thead th {\n",
       "        text-align: right;\n",
       "    }\n",
       "</style>\n",
       "<table border=\"1\" class=\"dataframe\">\n",
       "  <thead>\n",
       "    <tr style=\"text-align: right;\">\n",
       "      <th></th>\n",
       "      <th>items1</th>\n",
       "      <th>items2</th>\n",
       "      <th>Frequency</th>\n",
       "      <th>Support_1_2</th>\n",
       "      <th>Freq1</th>\n",
       "      <th>Freq2</th>\n",
       "      <th>Confidence_1_2</th>\n",
       "    </tr>\n",
       "  </thead>\n",
       "  <tbody>\n",
       "    <tr>\n",
       "      <th>0</th>\n",
       "      <td>Bag of Organic Bananas</td>\n",
       "      <td>Organic Hass Avocado</td>\n",
       "      <td>3808</td>\n",
       "      <td>0.019224</td>\n",
       "      <td>23415</td>\n",
       "      <td>13107</td>\n",
       "      <td>0.162631</td>\n",
       "    </tr>\n",
       "    <tr>\n",
       "      <th>931</th>\n",
       "      <td>Bag of Organic Bananas</td>\n",
       "      <td>Organic Strawberries</td>\n",
       "      <td>3799</td>\n",
       "      <td>0.019179</td>\n",
       "      <td>23415</td>\n",
       "      <td>16285</td>\n",
       "      <td>0.162246</td>\n",
       "    </tr>\n",
       "    <tr>\n",
       "      <th>932</th>\n",
       "      <td>Banana</td>\n",
       "      <td>Organic Strawberries</td>\n",
       "      <td>3517</td>\n",
       "      <td>0.017755</td>\n",
       "      <td>29255</td>\n",
       "      <td>16285</td>\n",
       "      <td>0.120219</td>\n",
       "    </tr>\n",
       "    <tr>\n",
       "      <th>8443</th>\n",
       "      <td>Banana</td>\n",
       "      <td>Organic Avocado</td>\n",
       "      <td>3237</td>\n",
       "      <td>0.016341</td>\n",
       "      <td>29255</td>\n",
       "      <td>10736</td>\n",
       "      <td>0.110648</td>\n",
       "    </tr>\n",
       "    <tr>\n",
       "      <th>2094</th>\n",
       "      <td>Banana</td>\n",
       "      <td>Organic Baby Spinach</td>\n",
       "      <td>3219</td>\n",
       "      <td>0.016251</td>\n",
       "      <td>29255</td>\n",
       "      <td>14915</td>\n",
       "      <td>0.110032</td>\n",
       "    </tr>\n",
       "    <tr>\n",
       "      <th>2093</th>\n",
       "      <td>Bag of Organic Bananas</td>\n",
       "      <td>Organic Baby Spinach</td>\n",
       "      <td>3071</td>\n",
       "      <td>0.015503</td>\n",
       "      <td>23415</td>\n",
       "      <td>14915</td>\n",
       "      <td>0.131155</td>\n",
       "    </tr>\n",
       "    <tr>\n",
       "      <th>14825</th>\n",
       "      <td>Banana</td>\n",
       "      <td>Strawberries</td>\n",
       "      <td>2595</td>\n",
       "      <td>0.013100</td>\n",
       "      <td>29255</td>\n",
       "      <td>8817</td>\n",
       "      <td>0.088703</td>\n",
       "    </tr>\n",
       "    <tr>\n",
       "      <th>13330</th>\n",
       "      <td>Banana</td>\n",
       "      <td>Large Lemon</td>\n",
       "      <td>2526</td>\n",
       "      <td>0.012752</td>\n",
       "      <td>29255</td>\n",
       "      <td>9377</td>\n",
       "      <td>0.086344</td>\n",
       "    </tr>\n",
       "    <tr>\n",
       "      <th>933</th>\n",
       "      <td>Organic Hass Avocado</td>\n",
       "      <td>Organic Strawberries</td>\n",
       "      <td>2503</td>\n",
       "      <td>0.012636</td>\n",
       "      <td>13107</td>\n",
       "      <td>16285</td>\n",
       "      <td>0.190967</td>\n",
       "    </tr>\n",
       "    <tr>\n",
       "      <th>2886</th>\n",
       "      <td>Bag of Organic Bananas</td>\n",
       "      <td>Organic Raspberries</td>\n",
       "      <td>2480</td>\n",
       "      <td>0.012520</td>\n",
       "      <td>23415</td>\n",
       "      <td>8425</td>\n",
       "      <td>0.105915</td>\n",
       "    </tr>\n",
       "  </tbody>\n",
       "</table>\n",
       "</div>"
      ],
      "text/plain": [
       "                       items1                items2  Frequency  Support_1_2  \\\n",
       "0      Bag of Organic Bananas  Organic Hass Avocado       3808     0.019224   \n",
       "931    Bag of Organic Bananas  Organic Strawberries       3799     0.019179   \n",
       "932                    Banana  Organic Strawberries       3517     0.017755   \n",
       "8443                   Banana       Organic Avocado       3237     0.016341   \n",
       "2094                   Banana  Organic Baby Spinach       3219     0.016251   \n",
       "2093   Bag of Organic Bananas  Organic Baby Spinach       3071     0.015503   \n",
       "14825                  Banana          Strawberries       2595     0.013100   \n",
       "13330                  Banana           Large Lemon       2526     0.012752   \n",
       "933      Organic Hass Avocado  Organic Strawberries       2503     0.012636   \n",
       "2886   Bag of Organic Bananas   Organic Raspberries       2480     0.012520   \n",
       "\n",
       "       Freq1  Freq2  Confidence_1_2  \n",
       "0      23415  13107        0.162631  \n",
       "931    23415  16285        0.162246  \n",
       "932    29255  16285        0.120219  \n",
       "8443   29255  10736        0.110648  \n",
       "2094   29255  14915        0.110032  \n",
       "2093   23415  14915        0.131155  \n",
       "14825  29255   8817        0.088703  \n",
       "13330  29255   9377        0.086344  \n",
       "933    13107  16285        0.190967  \n",
       "2886   23415   8425        0.105915  "
      ]
     },
     "execution_count": 20,
     "metadata": {},
     "output_type": "execute_result"
    }
   ],
   "source": [
    "df_pairs[(df_pairs['Support_1_2']>0.00001)].sort_values(by='Support_1_2', ascending=False).head(10)"
   ]
  },
  {
   "cell_type": "code",
   "execution_count": 21,
   "metadata": {
    "ExecuteTime": {
     "end_time": "2019-01-19T18:31:07.343377Z",
     "start_time": "2019-01-19T18:31:07.272093Z"
    }
   },
   "outputs": [],
   "source": [
    "df_pairs[\"lift\"] = (df_pairs['Support_1_2']) / ((df_pairs['Freq2']/ N_Transactions)*(df_pairs['Freq1']/ N_Transactions)) "
   ]
  },
  {
   "cell_type": "markdown",
   "metadata": {
    "ExecuteTime": {
     "end_time": "2019-01-19T17:28:26.933637Z",
     "start_time": "2019-01-19T17:28:26.927572Z"
    },
    "slideshow": {
     "slide_type": "subslide"
    }
   },
   "source": [
    "<h3>Calculating Lift (Product Pairs):</h3>\n",
    "\n",
    "* <b>This says how likely item Y is purchased when item X is purchased, while controlling for how popular item Y is. </b>\n",
    "* lift{A,B} = lift{B,A} = support{A,B} / (support{A} * support{B})  \n",
    "* Unlike the confidence metric whose value may vary depending on direction (eg: confidence{A->B} may be different from confidence{B->A}), lift has no direction. "
   ]
  },
  {
   "cell_type": "code",
   "execution_count": 22,
   "metadata": {
    "ExecuteTime": {
     "end_time": "2019-01-19T18:31:07.427282Z",
     "start_time": "2019-01-19T18:31:07.358480Z"
    },
    "slideshow": {
     "slide_type": "-"
    }
   },
   "outputs": [
    {
     "data": {
      "text/html": [
       "<div>\n",
       "<style scoped>\n",
       "    .dataframe tbody tr th:only-of-type {\n",
       "        vertical-align: middle;\n",
       "    }\n",
       "\n",
       "    .dataframe tbody tr th {\n",
       "        vertical-align: top;\n",
       "    }\n",
       "\n",
       "    .dataframe thead th {\n",
       "        text-align: right;\n",
       "    }\n",
       "</style>\n",
       "<table border=\"1\" class=\"dataframe\">\n",
       "  <thead>\n",
       "    <tr style=\"text-align: right;\">\n",
       "      <th></th>\n",
       "      <th>items1</th>\n",
       "      <th>items2</th>\n",
       "      <th>Frequency</th>\n",
       "      <th>Support_1_2</th>\n",
       "      <th>Freq1</th>\n",
       "      <th>Freq2</th>\n",
       "      <th>Confidence_1_2</th>\n",
       "      <th>lift</th>\n",
       "    </tr>\n",
       "  </thead>\n",
       "  <tbody>\n",
       "    <tr>\n",
       "      <th>213980</th>\n",
       "      <td>Icelandic Style Skyr Blueberry Non-fat Yogurt</td>\n",
       "      <td>Non Fat Raspberry Yogurt</td>\n",
       "      <td>443</td>\n",
       "      <td>0.002236</td>\n",
       "      <td>1144</td>\n",
       "      <td>969</td>\n",
       "      <td>0.387238</td>\n",
       "      <td>79.160350</td>\n",
       "    </tr>\n",
       "    <tr>\n",
       "      <th>332685</th>\n",
       "      <td>Non Fat Raspberry Yogurt</td>\n",
       "      <td>Nonfat Icelandic Style Strawberry Yogurt</td>\n",
       "      <td>237</td>\n",
       "      <td>0.001196</td>\n",
       "      <td>969</td>\n",
       "      <td>630</td>\n",
       "      <td>0.244582</td>\n",
       "      <td>76.902030</td>\n",
       "    </tr>\n",
       "    <tr>\n",
       "      <th>386576</th>\n",
       "      <td>Icelandic Style Skyr Blueberry Non-fat Yogurt</td>\n",
       "      <td>Non Fat Acai &amp; Mixed Berries Yogurt</td>\n",
       "      <td>232</td>\n",
       "      <td>0.001171</td>\n",
       "      <td>1144</td>\n",
       "      <td>544</td>\n",
       "      <td>0.202797</td>\n",
       "      <td>73.844277</td>\n",
       "    </tr>\n",
       "    <tr>\n",
       "      <th>332669</th>\n",
       "      <td>Icelandic Style Skyr Blueberry Non-fat Yogurt</td>\n",
       "      <td>Nonfat Icelandic Style Strawberry Yogurt</td>\n",
       "      <td>265</td>\n",
       "      <td>0.001338</td>\n",
       "      <td>1144</td>\n",
       "      <td>630</td>\n",
       "      <td>0.231643</td>\n",
       "      <td>72.833819</td>\n",
       "    </tr>\n",
       "    <tr>\n",
       "      <th>195858</th>\n",
       "      <td>Nonfat Icelandic Style Strawberry Yogurt</td>\n",
       "      <td>Vanilla Skyr Nonfat Yogurt</td>\n",
       "      <td>231</td>\n",
       "      <td>0.001166</td>\n",
       "      <td>630</td>\n",
       "      <td>1067</td>\n",
       "      <td>0.366667</td>\n",
       "      <td>68.070790</td>\n",
       "    </tr>\n",
       "    <tr>\n",
       "      <th>195778</th>\n",
       "      <td>Icelandic Style Skyr Blueberry Non-fat Yogurt</td>\n",
       "      <td>Vanilla Skyr Nonfat Yogurt</td>\n",
       "      <td>396</td>\n",
       "      <td>0.001999</td>\n",
       "      <td>1144</td>\n",
       "      <td>1067</td>\n",
       "      <td>0.346154</td>\n",
       "      <td>64.262634</td>\n",
       "    </tr>\n",
       "    <tr>\n",
       "      <th>195817</th>\n",
       "      <td>Non Fat Raspberry Yogurt</td>\n",
       "      <td>Vanilla Skyr Nonfat Yogurt</td>\n",
       "      <td>306</td>\n",
       "      <td>0.001545</td>\n",
       "      <td>969</td>\n",
       "      <td>1067</td>\n",
       "      <td>0.315789</td>\n",
       "      <td>58.625561</td>\n",
       "    </tr>\n",
       "    <tr>\n",
       "      <th>189737</th>\n",
       "      <td>Total 2% Lowfat Greek Strained Yogurt With Blu...</td>\n",
       "      <td>Total 2% Lowfat Greek Strained Yogurt with Peach</td>\n",
       "      <td>401</td>\n",
       "      <td>0.002024</td>\n",
       "      <td>1346</td>\n",
       "      <td>1226</td>\n",
       "      <td>0.297920</td>\n",
       "      <td>48.135183</td>\n",
       "    </tr>\n",
       "    <tr>\n",
       "      <th>181107</th>\n",
       "      <td>Total 2% Greek Strained Yogurt with Cherry 5.3 oz</td>\n",
       "      <td>Total 2% Lowfat Greek Strained Yogurt With Blu...</td>\n",
       "      <td>344</td>\n",
       "      <td>0.001737</td>\n",
       "      <td>1095</td>\n",
       "      <td>1346</td>\n",
       "      <td>0.314155</td>\n",
       "      <td>46.233103</td>\n",
       "    </tr>\n",
       "    <tr>\n",
       "      <th>85991</th>\n",
       "      <td>Total 2% Lowfat Greek Strained Yogurt With Blu...</td>\n",
       "      <td>Total 2% with Strawberry Lowfat Greek Strained...</td>\n",
       "      <td>579</td>\n",
       "      <td>0.002923</td>\n",
       "      <td>1346</td>\n",
       "      <td>1901</td>\n",
       "      <td>0.430163</td>\n",
       "      <td>44.823439</td>\n",
       "    </tr>\n",
       "    <tr>\n",
       "      <th>85998</th>\n",
       "      <td>Total 2% Lowfat Greek Strained Yogurt with Peach</td>\n",
       "      <td>Total 2% with Strawberry Lowfat Greek Strained...</td>\n",
       "      <td>520</td>\n",
       "      <td>0.002625</td>\n",
       "      <td>1226</td>\n",
       "      <td>1901</td>\n",
       "      <td>0.424144</td>\n",
       "      <td>44.196160</td>\n",
       "    </tr>\n",
       "    <tr>\n",
       "      <th>189785</th>\n",
       "      <td>Total 2% Greek Strained Yogurt with Cherry 5.3 oz</td>\n",
       "      <td>Total 2% Lowfat Greek Strained Yogurt with Peach</td>\n",
       "      <td>289</td>\n",
       "      <td>0.001459</td>\n",
       "      <td>1095</td>\n",
       "      <td>1226</td>\n",
       "      <td>0.263927</td>\n",
       "      <td>42.642930</td>\n",
       "    </tr>\n",
       "    <tr>\n",
       "      <th>445500</th>\n",
       "      <td>Soda</td>\n",
       "      <td>Zero Calorie Cola</td>\n",
       "      <td>238</td>\n",
       "      <td>0.001201</td>\n",
       "      <td>2221</td>\n",
       "      <td>529</td>\n",
       "      <td>0.107159</td>\n",
       "      <td>40.126059</td>\n",
       "    </tr>\n",
       "    <tr>\n",
       "      <th>58808</th>\n",
       "      <td>Apples</td>\n",
       "      <td>Clementines</td>\n",
       "      <td>268</td>\n",
       "      <td>0.001353</td>\n",
       "      <td>786</td>\n",
       "      <td>1894</td>\n",
       "      <td>0.340967</td>\n",
       "      <td>35.660387</td>\n",
       "    </tr>\n",
       "    <tr>\n",
       "      <th>86040</th>\n",
       "      <td>Total 2% Greek Strained Yogurt with Cherry 5.3 oz</td>\n",
       "      <td>Total 2% with Strawberry Lowfat Greek Strained...</td>\n",
       "      <td>341</td>\n",
       "      <td>0.001721</td>\n",
       "      <td>1095</td>\n",
       "      <td>1901</td>\n",
       "      <td>0.311416</td>\n",
       "      <td>32.449793</td>\n",
       "    </tr>\n",
       "    <tr>\n",
       "      <th>295936</th>\n",
       "      <td>Peach Pear Flavored Sparkling Water</td>\n",
       "      <td>Sparkling Water Berry</td>\n",
       "      <td>200</td>\n",
       "      <td>0.001010</td>\n",
       "      <td>1302</td>\n",
       "      <td>1031</td>\n",
       "      <td>0.153610</td>\n",
       "      <td>29.513052</td>\n",
       "    </tr>\n",
       "    <tr>\n",
       "      <th>199314</th>\n",
       "      <td>Organic Raw Kombucha Gingerade</td>\n",
       "      <td>Trilogy Kombucha Drink</td>\n",
       "      <td>206</td>\n",
       "      <td>0.001040</td>\n",
       "      <td>1334</td>\n",
       "      <td>1101</td>\n",
       "      <td>0.154423</td>\n",
       "      <td>27.782918</td>\n",
       "    </tr>\n",
       "    <tr>\n",
       "      <th>95850</th>\n",
       "      <td>Mango Chunks</td>\n",
       "      <td>Pineapple Chunks</td>\n",
       "      <td>216</td>\n",
       "      <td>0.001090</td>\n",
       "      <td>1076</td>\n",
       "      <td>1458</td>\n",
       "      <td>0.200743</td>\n",
       "      <td>27.273303</td>\n",
       "    </tr>\n",
       "    <tr>\n",
       "      <th>86032</th>\n",
       "      <td>Total 2% All Natural Greek Strained Yogurt wit...</td>\n",
       "      <td>Total 2% with Strawberry Lowfat Greek Strained...</td>\n",
       "      <td>365</td>\n",
       "      <td>0.001843</td>\n",
       "      <td>1486</td>\n",
       "      <td>1901</td>\n",
       "      <td>0.245626</td>\n",
       "      <td>25.594445</td>\n",
       "    </tr>\n",
       "    <tr>\n",
       "      <th>58812</th>\n",
       "      <td>0% Greek Strained Yogurt</td>\n",
       "      <td>Clementines</td>\n",
       "      <td>204</td>\n",
       "      <td>0.001030</td>\n",
       "      <td>853</td>\n",
       "      <td>1894</td>\n",
       "      <td>0.239156</td>\n",
       "      <td>25.012376</td>\n",
       "    </tr>\n",
       "  </tbody>\n",
       "</table>\n",
       "</div>"
      ],
      "text/plain": [
       "                                                   items1  \\\n",
       "213980      Icelandic Style Skyr Blueberry Non-fat Yogurt   \n",
       "332685                           Non Fat Raspberry Yogurt   \n",
       "386576      Icelandic Style Skyr Blueberry Non-fat Yogurt   \n",
       "332669      Icelandic Style Skyr Blueberry Non-fat Yogurt   \n",
       "195858           Nonfat Icelandic Style Strawberry Yogurt   \n",
       "195778      Icelandic Style Skyr Blueberry Non-fat Yogurt   \n",
       "195817                           Non Fat Raspberry Yogurt   \n",
       "189737  Total 2% Lowfat Greek Strained Yogurt With Blu...   \n",
       "181107  Total 2% Greek Strained Yogurt with Cherry 5.3 oz   \n",
       "85991   Total 2% Lowfat Greek Strained Yogurt With Blu...   \n",
       "85998    Total 2% Lowfat Greek Strained Yogurt with Peach   \n",
       "189785  Total 2% Greek Strained Yogurt with Cherry 5.3 oz   \n",
       "445500                                               Soda   \n",
       "58808                                              Apples   \n",
       "86040   Total 2% Greek Strained Yogurt with Cherry 5.3 oz   \n",
       "295936                Peach Pear Flavored Sparkling Water   \n",
       "199314                     Organic Raw Kombucha Gingerade   \n",
       "95850                                        Mango Chunks   \n",
       "86032   Total 2% All Natural Greek Strained Yogurt wit...   \n",
       "58812                            0% Greek Strained Yogurt   \n",
       "\n",
       "                                                   items2  Frequency  \\\n",
       "213980                           Non Fat Raspberry Yogurt        443   \n",
       "332685           Nonfat Icelandic Style Strawberry Yogurt        237   \n",
       "386576                Non Fat Acai & Mixed Berries Yogurt        232   \n",
       "332669           Nonfat Icelandic Style Strawberry Yogurt        265   \n",
       "195858                         Vanilla Skyr Nonfat Yogurt        231   \n",
       "195778                         Vanilla Skyr Nonfat Yogurt        396   \n",
       "195817                         Vanilla Skyr Nonfat Yogurt        306   \n",
       "189737   Total 2% Lowfat Greek Strained Yogurt with Peach        401   \n",
       "181107  Total 2% Lowfat Greek Strained Yogurt With Blu...        344   \n",
       "85991   Total 2% with Strawberry Lowfat Greek Strained...        579   \n",
       "85998   Total 2% with Strawberry Lowfat Greek Strained...        520   \n",
       "189785   Total 2% Lowfat Greek Strained Yogurt with Peach        289   \n",
       "445500                                  Zero Calorie Cola        238   \n",
       "58808                                         Clementines        268   \n",
       "86040   Total 2% with Strawberry Lowfat Greek Strained...        341   \n",
       "295936                              Sparkling Water Berry        200   \n",
       "199314                             Trilogy Kombucha Drink        206   \n",
       "95850                                    Pineapple Chunks        216   \n",
       "86032   Total 2% with Strawberry Lowfat Greek Strained...        365   \n",
       "58812                                         Clementines        204   \n",
       "\n",
       "        Support_1_2  Freq1  Freq2  Confidence_1_2       lift  \n",
       "213980     0.002236   1144    969        0.387238  79.160350  \n",
       "332685     0.001196    969    630        0.244582  76.902030  \n",
       "386576     0.001171   1144    544        0.202797  73.844277  \n",
       "332669     0.001338   1144    630        0.231643  72.833819  \n",
       "195858     0.001166    630   1067        0.366667  68.070790  \n",
       "195778     0.001999   1144   1067        0.346154  64.262634  \n",
       "195817     0.001545    969   1067        0.315789  58.625561  \n",
       "189737     0.002024   1346   1226        0.297920  48.135183  \n",
       "181107     0.001737   1095   1346        0.314155  46.233103  \n",
       "85991      0.002923   1346   1901        0.430163  44.823439  \n",
       "85998      0.002625   1226   1901        0.424144  44.196160  \n",
       "189785     0.001459   1095   1226        0.263927  42.642930  \n",
       "445500     0.001201   2221    529        0.107159  40.126059  \n",
       "58808      0.001353    786   1894        0.340967  35.660387  \n",
       "86040      0.001721   1095   1901        0.311416  32.449793  \n",
       "295936     0.001010   1302   1031        0.153610  29.513052  \n",
       "199314     0.001040   1334   1101        0.154423  27.782918  \n",
       "95850      0.001090   1076   1458        0.200743  27.273303  \n",
       "86032      0.001843   1486   1901        0.245626  25.594445  \n",
       "58812      0.001030    853   1894        0.239156  25.012376  "
      ]
     },
     "execution_count": 22,
     "metadata": {},
     "output_type": "execute_result"
    }
   ],
   "source": [
    "df_pairs[df_pairs['Support_1_2']>0.001].sort_values(by='lift', ascending=False).head(20)"
   ]
  },
  {
   "cell_type": "code",
   "execution_count": 23,
   "metadata": {
    "ExecuteTime": {
     "end_time": "2019-01-19T18:31:07.996636Z",
     "start_time": "2019-01-19T18:31:07.436977Z"
    },
    "slideshow": {
     "slide_type": "skip"
    }
   },
   "outputs": [],
   "source": [
    "text = widgets.Text(\n",
    "    value='Organic Raspberries',\n",
    "    placeholder='Organic Raspberries|',\n",
    "    description='Search:',\n",
    "    disabled=False   \n",
    ")\n",
    "\n",
    "drop_down = widgets.Dropdown(\n",
    "    options=list(df_pairs.sort_values(by='Freq1', ascending=False)['items1'].unique()[:1000]),\n",
    "    value='Banana',\n",
    "    description='Product:',\n",
    "    disabled=False,\n",
    ")\n",
    "\n",
    "radio = widgets.RadioButtons(\n",
    "    options=['search', 'dropdown'],\n",
    "    value='dropdown',\n",
    "    description='Use:',\n",
    "    disabled=False\n",
    ")\n",
    "\n",
    "\n",
    "\n",
    "button = widgets.Button(\n",
    "    description='Search',\n",
    "    disabled=False,\n",
    "    button_style='', # 'success', 'info', 'warning', 'danger' or ''\n",
    "    tooltip='Click me',\n",
    ")\n",
    "\n",
    "select = widgets.Select(\n",
    "    options=['Freq2', 'Confidence_1_2', 'lift'],\n",
    "    value='lift',\n",
    "    # rows=10,\n",
    "    description='Order:',\n",
    "    disabled=False\n",
    ")\n",
    "\n",
    "\n",
    "slider = widgets.IntSlider(\n",
    "    value=10,\n",
    "    min=0,\n",
    "    max=50,\n",
    "    step=1,\n",
    "    description='Frequency:',\n",
    "    disabled=False,\n",
    "    continuous_update=False,\n",
    "    orientation='horizontal',\n",
    "    readout=True,\n",
    "    readout_format='d'\n",
    ")\n",
    "\n",
    "\n",
    "\n",
    "def handle_submit(sender):\n",
    "    clear_output()\n",
    "    display(text)\n",
    "    display(drop_down)\n",
    "    display(radio)\n",
    "    display(select)\n",
    "    display(slider)\n",
    "    display(button)\n",
    "\n",
    "    \n",
    "    if radio == 'search':\n",
    "        print(\"Search term: {}\".format(text.value))\n",
    "        display(df_pairs[(df_pairs['items1'].str.contains(text.value)) & (df_pairs['Freq2'] > slider.value)]).sort_values(by=select.value, ascending=False)[['items2', 'Support_1_2', 'Freq2', 'Confidence_1_2', 'lift']]\n",
    "    else: \n",
    "        print(\"Search term: {}\".format(drop_down.value))\n",
    "        recom = df_pairs[(df_pairs['items1'].str.contains(drop_down.value)) & (df_pairs['Freq2'] > slider.value)].sort_values(by=select.value, ascending=False)[['items2', 'Support_1_2', 'Freq2', 'Confidence_1_2', 'lift']]\n",
    "        display(recom)"
   ]
  },
  {
   "cell_type": "markdown",
   "metadata": {
    "slideshow": {
     "slide_type": "slide"
    }
   },
   "source": [
    "<h3>4. Building a Recommender:</h3>\n",
    "\n",
    "* What's the difference in choosing Frequency, Confidence and Lift?\n",
    "* What happens when I filter by department or aisle?\n",
    "* What happens readjusting confidence values?\n",
    "    "
   ]
  },
  {
   "cell_type": "code",
   "execution_count": 24,
   "metadata": {
    "ExecuteTime": {
     "end_time": "2019-01-19T18:31:08.032060Z",
     "start_time": "2019-01-19T18:31:07.998255Z"
    },
    "_uuid": "50a7738160879b7d54f1f829274713d693e932a8",
    "hide_input": false,
    "scrolled": false,
    "slideshow": {
     "slide_type": "-"
    }
   },
   "outputs": [
    {
     "data": {
      "application/vnd.jupyter.widget-view+json": {
       "model_id": "c2d56d43736340679f9fc630ba8c2496",
       "version_major": 2,
       "version_minor": 0
      },
      "text/plain": [
       "Text(value='Organic Raspberries', description='Search:', placeholder='Organic Raspberries|')"
      ]
     },
     "metadata": {},
     "output_type": "display_data"
    },
    {
     "data": {
      "application/vnd.jupyter.widget-view+json": {
       "model_id": "6d9dc977305a48c4bd207d3394c01cf6",
       "version_major": 2,
       "version_minor": 0
      },
      "text/plain": [
       "Dropdown(description='Product:', options=('Banana', 'Bag of Organic Bananas', 'Organic Strawberries', 'Organic…"
      ]
     },
     "metadata": {},
     "output_type": "display_data"
    },
    {
     "data": {
      "application/vnd.jupyter.widget-view+json": {
       "model_id": "17f1054558d64defbcacbc90f100d93e",
       "version_major": 2,
       "version_minor": 0
      },
      "text/plain": [
       "RadioButtons(description='Use:', index=1, options=('search', 'dropdown'), value='dropdown')"
      ]
     },
     "metadata": {},
     "output_type": "display_data"
    },
    {
     "data": {
      "application/vnd.jupyter.widget-view+json": {
       "model_id": "59a534fabd464d619b80a2182daea979",
       "version_major": 2,
       "version_minor": 0
      },
      "text/plain": [
       "Select(description='Order:', index=2, options=('Freq2', 'Confidence_1_2', 'lift'), value='lift')"
      ]
     },
     "metadata": {},
     "output_type": "display_data"
    },
    {
     "data": {
      "application/vnd.jupyter.widget-view+json": {
       "model_id": "600f236d6c164a879085bcbc9fd3658d",
       "version_major": 2,
       "version_minor": 0
      },
      "text/plain": [
       "IntSlider(value=10, continuous_update=False, description='Frequency:', max=50)"
      ]
     },
     "metadata": {},
     "output_type": "display_data"
    },
    {
     "data": {
      "application/vnd.jupyter.widget-view+json": {
       "model_id": "7660a7c1f8054b4799e9a2fb03b8ebdb",
       "version_major": 2,
       "version_minor": 0
      },
      "text/plain": [
       "Button(description='Search', style=ButtonStyle(), tooltip='Click me')"
      ]
     },
     "metadata": {},
     "output_type": "display_data"
    }
   ],
   "source": [
    "display(text)\n",
    "display(drop_down)\n",
    "display(radio)\n",
    "display(select)\n",
    "display(slider)\n",
    "display(button)\n",
    "button.on_click(handle_submit)"
   ]
  },
  {
   "cell_type": "code",
   "execution_count": null,
   "metadata": {
    "slideshow": {
     "slide_type": "skip"
    }
   },
   "outputs": [],
   "source": []
  },
  {
   "cell_type": "code",
   "execution_count": null,
   "metadata": {
    "ExecuteTime": {
     "end_time": "2019-01-19T18:30:09.387764Z",
     "start_time": "2019-01-19T18:30:09.303Z"
    },
    "slideshow": {
     "slide_type": "skip"
    }
   },
   "outputs": [],
   "source": [
    "basket_lists = orders_total_prior.groupby('order_id')['product_name'].apply(list)"
   ]
  },
  {
   "cell_type": "code",
   "execution_count": null,
   "metadata": {
    "ExecuteTime": {
     "end_time": "2019-01-19T18:30:09.388543Z",
     "start_time": "2019-01-19T18:30:09.306Z"
    },
    "slideshow": {
     "slide_type": "skip"
    }
   },
   "outputs": [],
   "source": [
    "norm = [float(i)/max(count_prods.values) for i in count_prods.values]"
   ]
  },
  {
   "cell_type": "code",
   "execution_count": null,
   "metadata": {
    "ExecuteTime": {
     "end_time": "2019-01-19T18:30:09.389370Z",
     "start_time": "2019-01-19T18:30:09.308Z"
    },
    "slideshow": {
     "slide_type": "skip"
    }
   },
   "outputs": [],
   "source": [
    "import numpy as np\n",
    "\n",
    "\n",
    "\n",
    "idf = 1/(count_prods/N_Transactions)\n",
    "\n",
    "np.log(idf)*norm"
   ]
  },
  {
   "cell_type": "code",
   "execution_count": null,
   "metadata": {},
   "outputs": [],
   "source": []
  },
  {
   "cell_type": "code",
   "execution_count": null,
   "metadata": {},
   "outputs": [],
   "source": []
  },
  {
   "cell_type": "code",
   "execution_count": null,
   "metadata": {},
   "outputs": [],
   "source": []
  },
  {
   "cell_type": "code",
   "execution_count": null,
   "metadata": {},
   "outputs": [],
   "source": []
  },
  {
   "cell_type": "code",
   "execution_count": null,
   "metadata": {},
   "outputs": [],
   "source": []
  },
  {
   "cell_type": "code",
   "execution_count": null,
   "metadata": {},
   "outputs": [],
   "source": []
  }
 ],
 "metadata": {
  "celltoolbar": "Slideshow",
  "hide_input": false,
  "kernelspec": {
   "display_name": "Python 3",
   "language": "python",
   "name": "python3"
  },
  "language_info": {
   "codemirror_mode": {
    "name": "ipython",
    "version": 3
   },
   "file_extension": ".py",
   "mimetype": "text/x-python",
   "name": "python",
   "nbconvert_exporter": "python",
   "pygments_lexer": "ipython3",
   "version": "3.7.1"
  }
 },
 "nbformat": 4,
 "nbformat_minor": 1
}
